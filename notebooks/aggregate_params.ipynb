{
 "cells": [
  {
   "attachments": {},
   "cell_type": "markdown",
   "metadata": {},
   "source": [
    "# Jan 23, 2023"
   ]
  },
  {
   "attachments": {},
   "cell_type": "markdown",
   "metadata": {},
   "source": [
    "### Set-up"
   ]
  },
  {
   "cell_type": "code",
   "execution_count": 1,
   "metadata": {},
   "outputs": [],
   "source": [
    "# add import here\n",
    "\n",
    "# general\n",
    "import numpy as np\n",
    "import matplotlib.pyplot as plt\n",
    "import pandas as pd\n",
    "\n",
    "# lab\n",
    "from fooof import FOOOFGroup"
   ]
  },
  {
   "cell_type": "code",
   "execution_count": 25,
   "metadata": {},
   "outputs": [],
   "source": [
    "# Settings\n",
    "PROJECT_PATH = 'G:/Shared drives/v1_v4_1024/'\n",
    "SESSIONS = ['L_SNR_250717'] # List of sessions to analyze\n",
    "FS = 500 # sampling frequency (Hz)\n"
   ]
  },
  {
   "attachments": {},
   "cell_type": "markdown",
   "metadata": {},
   "source": [
    "#### examine fitting output for an example file"
   ]
  },
  {
   "cell_type": "code",
   "execution_count": 31,
   "metadata": {},
   "outputs": [
    {
     "name": "stdout",
     "output_type": "stream",
     "text": [
      "==================================================================================================\n",
      "                                                                                                  \n",
      "                                       FOOOF - GROUP RESULTS                                      \n",
      "                                                                                                  \n",
      "                             Number of power spectra in the Group: 64                             \n",
      "                                                                                                  \n",
      "                        The model was run on the frequency range 1 - 40 Hz                        \n",
      "                                 Frequency Resolution is 1.00 Hz                                  \n",
      "                                                                                                  \n",
      "                               Power spectra were fit with a knee.                                \n",
      "                                                                                                  \n",
      "                                      Aperiodic Fit Values:                                       \n",
      "                            Knees - Min:   0.19, Max:  58.41, Mean: 13.94                         \n",
      "                        Exponents - Min:  1.336, Max:  2.882, Mean: 2.204                         \n",
      "                                                                                                  \n",
      "                         In total 63 peaks were extracted from the group                          \n",
      "                                                                                                  \n",
      "                                     Goodness of fit metrics:                                     \n",
      "                            R2s -  Min:  0.980, Max:  0.998, Mean: 0.988                          \n",
      "                         Errors -  Min:  0.028, Max:  0.082, Mean: 0.056                          \n",
      "                                                                                                  \n",
      "==================================================================================================\n"
     ]
    },
    {
     "name": "stderr",
     "output_type": "stream",
     "text": [
      "c:\\Users\\micha\\anaconda3\\envs\\v1v4\\lib\\site-packages\\fooof\\objs\\group.py:379: VisibleDeprecationWarning: Creating an ndarray from ragged nested sequences (which is a list-or-tuple of lists-or-tuples-or ndarrays with different lengths or shapes) is deprecated. If you meant to do this, you must specify 'dtype=object' when creating the ndarray.\n",
      "  for index, data in enumerate(self.group_results)])\n"
     ]
    }
   ],
   "source": [
    "fg = FOOOFGroup()\n",
    "fg.load(r\"G:\\Shared drives\\v1_v4_1024\\data\\lfp\\lfp_params\\L_SNR_250717\\NSP1_array1_LFP.csv\")\n",
    "fg.print_results()"
   ]
  },
  {
   "cell_type": "code",
   "execution_count": 36,
   "metadata": {},
   "outputs": [],
   "source": [
    "fg_pre = FOOOFGroup()\n",
    "fg_post = FOOOFGroup()\n",
    "fg_pre.load(r\"G:\\Shared drives\\v1_v4_1024\\data\\lfp\\lfp_params\\L_SNR_250717\\NSP2_array4_LFP_pre.csv\")\n",
    "fg_post.load(r\"G:\\Shared drives\\v1_v4_1024\\data\\lfp\\lfp_params\\L_SNR_250717\\NSP2_array4_LFP_post.csv\")"
   ]
  },
  {
   "cell_type": "code",
   "execution_count": 37,
   "metadata": {},
   "outputs": [
    {
     "data": {
      "text/plain": [
       "Text(0, 0.5, 'Post')"
      ]
     },
     "execution_count": 37,
     "metadata": {},
     "output_type": "execute_result"
    },
    {
     "data": {
      "image/png": "[encoded data removed]",
      "text/plain": [
       "<Figure size 432x288 with 1 Axes>"
      ]
     },
     "metadata": {
      "needs_background": "light"
     },
     "output_type": "display_data"
    }
   ],
   "source": [
    "# get exponent\n",
    "exp_pre = fg_pre.get_params('aperiodic_params', 'exponent')\n",
    "exp_post = fg_post.get_params('aperiodic_params', 'exponent')\n",
    "\n",
    "# plot difference in exponent\n",
    "plt.scatter(exp_pre, exp_post)\n",
    "\n",
    "# plot unity line\n",
    "all_exp = np.concatenate((exp_pre, exp_post))\n",
    "plt.plot([np.min(all_exp), np.max(all_exp)], [np.min(all_exp), np.max(all_exp)], 'k--')\n",
    "\n",
    "# label axes\n",
    "plt.xlabel('Pre')\n",
    "plt.ylabel('Post')"
   ]
  },
  {
   "attachments": {},
   "cell_type": "markdown",
   "metadata": {},
   "source": [
    "### Aggregate results across all files"
   ]
  },
  {
   "cell_type": "code",
   "execution_count": null,
   "metadata": {},
   "outputs": [],
   "source": [
    "# create pandas DF\n",
    "params = pd.DataFrame(columns = ['subject', 'array', 'channel', 'pre_exp', 'post_exp', 'pre_r2', 'post_r2'])\n",
    "params.head()"
   ]
  }
 ],
 "metadata": {
  "kernelspec": {
   "display_name": "Python 3",
   "language": "python",
   "name": "python3"
  },
  "language_info": {
   "codemirror_mode": {
    "name": "ipython",
    "version": 3
   },
   "file_extension": ".py",
   "mimetype": "text/x-python",
   "name": "python",
   "nbconvert_exporter": "python",
   "pygments_lexer": "ipython3",
   "version": "3.7.13 (default, Mar 28 2022, 08:03:21) [MSC v.1916 64 bit (AMD64)]"
  },
  "vscode": {
   "interpreter": {
    "hash": "900106b37f2a4a13b2ae074f5dc04fd0f3bc250222c0d2567d785f1a30307a7a"
   }
  }
 },
 "nbformat": 4,
 "nbformat_minor": 2
}
