{
 "cells": [
  {
   "attachments": {},
   "cell_type": "markdown",
   "metadata": {},
   "source": [
    "# Jan 23, 2023"
   ]
  },
  {
   "attachments": {},
   "cell_type": "markdown",
   "metadata": {},
   "source": [
    "### Set-up"
   ]
  },
  {
   "cell_type": "code",
   "execution_count": 1,
   "metadata": {},
   "outputs": [],
   "source": [
    "# add import here\n",
    "\n",
    "# general\n",
    "import numpy as np\n",
    "import matplotlib.pyplot as plt\n",
    "import pandas as pd\n",
    "\n",
    "# lab\n",
    "from fooof import FOOOFGroup"
   ]
  },
  {
   "cell_type": "code",
   "execution_count": 2,
   "metadata": {},
   "outputs": [],
   "source": [
    "# Settings\n",
    "PROJECT_PATH = 'G:/Shared drives/v1_v4_1024/'\n",
    "SESSIONS = ['L_SNR_250717'] # List of sessions to analyze\n",
    "FS = 500 # sampling frequency (Hz)\n"
   ]
  },
  {
   "attachments": {},
   "cell_type": "markdown",
   "metadata": {},
   "source": [
    "#### examine fitting output for an example file"
   ]
  },
  {
   "cell_type": "code",
   "execution_count": 3,
   "metadata": {},
   "outputs": [
    {
     "name": "stdout",
     "output_type": "stream",
     "text": [
      "==================================================================================================\n",
      "                                                                                                  \n",
      "                                       FOOOF - GROUP RESULTS                                      \n",
      "                                                                                                  \n",
      "                             Number of power spectra in the Group: 64                             \n",
      "                                                                                                  \n",
      "                        The model was run on the frequency range 1 - 40 Hz                        \n",
      "                                 Frequency Resolution is 1.00 Hz                                  \n",
      "                                                                                                  \n",
      "                               Power spectra were fit with a knee.                                \n",
      "                                                                                                  \n",
      "                                      Aperiodic Fit Values:                                       \n",
      "                            Knees - Min:   0.19, Max:  58.12, Mean: 13.90                         \n",
      "                        Exponents - Min:  1.337, Max:  2.846, Mean: 2.203                         \n",
      "                                                                                                  \n",
      "                         In total 62 peaks were extracted from the group                          \n",
      "                                                                                                  \n",
      "                                     Goodness of fit metrics:                                     \n",
      "                            R2s -  Min:  0.980, Max:  0.992, Mean: 0.988                          \n",
      "                         Errors -  Min:  0.038, Max:  0.082, Mean: 0.056                          \n",
      "                                                                                                  \n",
      "==================================================================================================\n"
     ]
    },
    {
     "name": "stderr",
     "output_type": "stream",
     "text": [
      "c:\\Users\\Andre\\anaconda3\\envs\\voytek_lab\\lib\\site-packages\\fooof\\objs\\group.py:378: VisibleDeprecationWarning: Creating an ndarray from ragged nested sequences (which is a list-or-tuple of lists-or-tuples-or ndarrays with different lengths or shapes) is deprecated. If you meant to do this, you must specify 'dtype=object' when creating the ndarray.\n",
      "  out = np.array([np.insert(getattr(data, name), 3, index, axis=1)\n"
     ]
    }
   ],
   "source": [
    "fg = FOOOFGroup()\n",
    "fg.load(r\"G:\\Shared drives\\v1_v4_1024\\data\\lfp\\lfp_params\\L_SNR_250717\\NSP1_array1_LFP.csv\")\n",
    "fg.print_results()"
   ]
  },
  {
   "cell_type": "code",
   "execution_count": 4,
   "metadata": {},
   "outputs": [],
   "source": [
    "fg_pre = FOOOFGroup()\n",
    "fg_post = FOOOFGroup()\n",
    "fg_pre.load(r\"G:\\Shared drives\\v1_v4_1024\\data\\lfp\\lfp_params\\L_SNR_250717\\NSP2_array4_LFP_pre.csv\")\n",
    "fg_post.load(r\"G:\\Shared drives\\v1_v4_1024\\data\\lfp\\lfp_params\\L_SNR_250717\\NSP2_array4_LFP_post.csv\")"
   ]
  },
  {
   "cell_type": "code",
   "execution_count": 5,
   "metadata": {},
   "outputs": [
    {
     "data": {
      "text/plain": [
       "Text(0, 0.5, 'Post')"
      ]
     },
     "execution_count": 5,
     "metadata": {},
     "output_type": "execute_result"
    },
    {
     "data": {
      "image/png": "[encoded data removed]",
      "text/plain": [
       "<Figure size 640x480 with 1 Axes>"
      ]
     },
     "metadata": {},
     "output_type": "display_data"
    }
   ],
   "source": [
    "# get exponent\n",
    "exp_pre = fg_pre.get_params('aperiodic_params', 'exponent')\n",
    "exp_post = fg_post.get_params('aperiodic_params', 'exponent')\n",
    "\n",
    "# plot difference in exponent\n",
    "plt.scatter(exp_pre, exp_post)\n",
    "\n",
    "# plot unity line\n",
    "all_exp = np.concatenate((exp_pre, exp_post))\n",
    "plt.plot([np.min(all_exp), np.max(all_exp)], [np.min(all_exp), np.max(all_exp)], 'k--')\n",
    "\n",
    "# label axes\n",
    "plt.xlabel('Pre')\n",
    "plt.ylabel('Post')"
   ]
  },
  {
   "attachments": {},
   "cell_type": "markdown",
   "metadata": {},
   "source": [
    "### Aggregate results across all files"
   ]
  },
  {
   "cell_type": "code",
   "execution_count": 27,
   "metadata": {},
   "outputs": [
    {
     "data": {
      "text/html": [
       "<div>\n",
       "<style scoped>\n",
       "    .dataframe tbody tr th:only-of-type {\n",
       "        vertical-align: middle;\n",
       "    }\n",
       "\n",
       "    .dataframe tbody tr th {\n",
       "        vertical-align: top;\n",
       "    }\n",
       "\n",
       "    .dataframe thead th {\n",
       "        text-align: right;\n",
       "    }\n",
       "</style>\n",
       "<table border=\"1\" class=\"dataframe\">\n",
       "  <thead>\n",
       "    <tr style=\"text-align: right;\">\n",
       "      <th></th>\n",
       "      <th>subject</th>\n",
       "      <th>array</th>\n",
       "      <th>channel</th>\n",
       "      <th>pre_exp</th>\n",
       "      <th>post_exp</th>\n",
       "      <th>pre_r2</th>\n",
       "      <th>post_r2</th>\n",
       "    </tr>\n",
       "  </thead>\n",
       "  <tbody>\n",
       "  </tbody>\n",
       "</table>\n",
       "</div>"
      ],
      "text/plain": [
       "Empty DataFrame\n",
       "Columns: [subject, array, channel, pre_exp, post_exp, pre_r2, post_r2]\n",
       "Index: []"
      ]
     },
     "execution_count": 27,
     "metadata": {},
     "output_type": "execute_result"
    }
   ],
   "source": [
    "# create pandas DF\n",
    "params = pd.DataFrame(columns = ['subject', 'array', 'channel', 'pre_exp', 'post_exp', 'pre_r2', 'post_r2'])\n",
    "params.head()"
   ]
  },
  {
   "cell_type": "code",
   "execution_count": null,
   "metadata": {},
   "outputs": [
    {
     "data": {
      "text/plain": [
       "array([ 0.,  1.,  2.,  3.,  4.,  5.,  6.,  7.,  8.,  9., 10., 11., 12.,\n",
       "       13., 14., 15., 16., 17., 18., 19., 20., 21., 22., 23., 24., 25.,\n",
       "       26., 27., 28., 29., 30., 31., 32., 33., 34., 35., 36., 37., 38.,\n",
       "       39., 40., 41., 42., 43., 44., 45., 46., 47., 48., 49., 50., 51.,\n",
       "       52., 53., 54., 55., 56., 57., 58., 59., 60., 61., 62., 63.])"
      ]
     },
     "execution_count": 16,
     "metadata": {},
     "output_type": "execute_result"
    }
   ],
   "source": [
    "subject = np.repeat('L_SNR_250717', len(exp_pre))\n",
    "channel = np.linspace(0, len(exp_pre)-1, len(exp_pre))"
   ]
  },
  {
   "cell_type": "code",
   "execution_count": 39,
   "metadata": {},
   "outputs": [],
   "source": [
    "N_ARRAYS = 16\n",
    "idx_nsp = 1\n",
    "df_arraylist = []\n",
    "\n",
    "for i_array in range(1, N_ARRAYS+1):\n",
    "    # create dataframe\n",
    "    df_array = pd.DataFrame(columns = ['subject', 'array', 'channel', 'pre_exp', 'post_exp', 'pre_r2', 'post_r2'])\n",
    "\n",
    "    # import data\n",
    "    fg_pre = FOOOFGroup()\n",
    "    fg_post = FOOOFGroup()\n",
    "    fg_pre.load(fr\"G:\\Shared drives\\v1_v4_1024\\data\\lfp\\lfp_params\\L_SNR_250717\\NSP{idx_nsp}_array{i_array}_LFP_pre.csv\")\n",
    "    fg_post.load(fr\"G:\\Shared drives\\v1_v4_1024\\data\\lfp\\lfp_params\\L_SNR_250717\\NSP{idx_nsp}_array{i_array}_LFP_post.csv\")\n",
    "\n",
    "    # get exponent and add it to dataframe\n",
    "    pre_exp = fg_pre.get_params('aperiodic_params', 'exponent')\n",
    "    post_exp = fg_post.get_params('aperiodic_params', 'exponent')\n",
    "    df_array['pre_exp'] = pre_exp\n",
    "    df_array['post_exp'] = post_exp\n",
    "\n",
    "    #  get r squared and add it to dataframe\n",
    "    pre_r2 = fg_pre.get_params('r_squared')\n",
    "    post_r2 = fg_post.get_params('r_squared')\n",
    "    df_array['pre_r2'] = pre_r2\n",
    "    df_array['post_r2'] = post_r2\n",
    "    \n",
    "    # add subject, channel and array\n",
    "    df_array['subject'] = subject\n",
    "    df_array['channel'] = channel\n",
    "    df_array['array'] = i_array\n",
    "\n",
    "    # append df_array to params\n",
    "    df_arraylist.append(df_array)\n",
    "\n",
    "    # increment\n",
    "    if i_array % 2 == 0:\n",
    "        idx_nsp += 1\n",
    "\n",
    "params = pd.concat(df_arraylist)\n",
    "        "
   ]
  },
  {
   "cell_type": "code",
   "execution_count": 40,
   "metadata": {},
   "outputs": [
    {
     "data": {
      "text/html": [
       "<div>\n",
       "<style scoped>\n",
       "    .dataframe tbody tr th:only-of-type {\n",
       "        vertical-align: middle;\n",
       "    }\n",
       "\n",
       "    .dataframe tbody tr th {\n",
       "        vertical-align: top;\n",
       "    }\n",
       "\n",
       "    .dataframe thead th {\n",
       "        text-align: right;\n",
       "    }\n",
       "</style>\n",
       "<table border=\"1\" class=\"dataframe\">\n",
       "  <thead>\n",
       "    <tr style=\"text-align: right;\">\n",
       "      <th></th>\n",
       "      <th>subject</th>\n",
       "      <th>array</th>\n",
       "      <th>channel</th>\n",
       "      <th>pre_exp</th>\n",
       "      <th>post_exp</th>\n",
       "      <th>pre_r2</th>\n",
       "      <th>post_r2</th>\n",
       "    </tr>\n",
       "  </thead>\n",
       "  <tbody>\n",
       "    <tr>\n",
       "      <th>59</th>\n",
       "      <td>L_SNR_250717</td>\n",
       "      <td>16</td>\n",
       "      <td>59.0</td>\n",
       "      <td>2.715783</td>\n",
       "      <td>2.398645</td>\n",
       "      <td>0.998055</td>\n",
       "      <td>0.997160</td>\n",
       "    </tr>\n",
       "    <tr>\n",
       "      <th>60</th>\n",
       "      <td>L_SNR_250717</td>\n",
       "      <td>16</td>\n",
       "      <td>60.0</td>\n",
       "      <td>2.644680</td>\n",
       "      <td>2.684672</td>\n",
       "      <td>0.996662</td>\n",
       "      <td>0.998135</td>\n",
       "    </tr>\n",
       "    <tr>\n",
       "      <th>61</th>\n",
       "      <td>L_SNR_250717</td>\n",
       "      <td>16</td>\n",
       "      <td>61.0</td>\n",
       "      <td>2.501490</td>\n",
       "      <td>2.845204</td>\n",
       "      <td>0.999045</td>\n",
       "      <td>0.998542</td>\n",
       "    </tr>\n",
       "    <tr>\n",
       "      <th>62</th>\n",
       "      <td>L_SNR_250717</td>\n",
       "      <td>16</td>\n",
       "      <td>62.0</td>\n",
       "      <td>2.393004</td>\n",
       "      <td>2.957392</td>\n",
       "      <td>0.998958</td>\n",
       "      <td>0.997082</td>\n",
       "    </tr>\n",
       "    <tr>\n",
       "      <th>63</th>\n",
       "      <td>L_SNR_250717</td>\n",
       "      <td>16</td>\n",
       "      <td>63.0</td>\n",
       "      <td>1.857365</td>\n",
       "      <td>2.869965</td>\n",
       "      <td>0.998862</td>\n",
       "      <td>0.997419</td>\n",
       "    </tr>\n",
       "  </tbody>\n",
       "</table>\n",
       "</div>"
      ],
      "text/plain": [
       "         subject  array  channel   pre_exp  post_exp    pre_r2   post_r2\n",
       "59  L_SNR_250717     16     59.0  2.715783  2.398645  0.998055  0.997160\n",
       "60  L_SNR_250717     16     60.0  2.644680  2.684672  0.996662  0.998135\n",
       "61  L_SNR_250717     16     61.0  2.501490  2.845204  0.999045  0.998542\n",
       "62  L_SNR_250717     16     62.0  2.393004  2.957392  0.998958  0.997082\n",
       "63  L_SNR_250717     16     63.0  1.857365  2.869965  0.998862  0.997419"
      ]
     },
     "execution_count": 40,
     "metadata": {},
     "output_type": "execute_result"
    }
   ],
   "source": [
    "params.tail()"
   ]
  },
  {
   "cell_type": "code",
   "execution_count": 45,
   "metadata": {},
   "outputs": [],
   "source": [
    "N_ARRAYS = 16\n",
    "idx_nsp = 1\n",
    "df_arraylist = []\n",
    "\n",
    "for session in SESSIONS :\n",
    "    for i_array in range(1, N_ARRAYS+1):\n",
    "        # create dataframe\n",
    "        df_array = pd.DataFrame(columns = ['subject', 'array', 'channel', 'pre_exp', 'post_exp', 'pre_r2', 'post_r2'])\n",
    "\n",
    "        # import data\n",
    "        fg_pre = FOOOFGroup()\n",
    "        fg_post = FOOOFGroup()\n",
    "        fg_pre.load(fr\"G:\\Shared drives\\v1_v4_1024\\data\\lfp\\lfp_params\\{session}\\NSP{idx_nsp}_array{i_array}_LFP_pre.csv\")\n",
    "        fg_post.load(fr\"G:\\Shared drives\\v1_v4_1024\\data\\lfp\\lfp_params\\{session}\\NSP{idx_nsp}_array{i_array}_LFP_post.csv\")\n",
    "\n",
    "        # get exponent and add it to dataframe\n",
    "        pre_exp = fg_pre.get_params('aperiodic_params', 'exponent')\n",
    "        post_exp = fg_post.get_params('aperiodic_params', 'exponent')\n",
    "        df_array['pre_exp'] = pre_exp\n",
    "        df_array['post_exp'] = post_exp\n",
    "\n",
    "        #  get r squared and add it to dataframe\n",
    "        pre_r2 = fg_pre.get_params('r_squared')\n",
    "        post_r2 = fg_post.get_params('r_squared')\n",
    "        df_array['pre_r2'] = pre_r2\n",
    "        df_array['post_r2'] = post_r2\n",
    "        \n",
    "        # add subject, channel and array\n",
    "        df_array['subject'] = subject\n",
    "        df_array['channel'] = channel\n",
    "        df_array['array'] = i_array\n",
    "\n",
    "        # append df_array to params\n",
    "        df_arraylist.append(df_array)\n",
    "        # increment\n",
    "        if i_array % 2 == 0:\n",
    "            idx_nsp += 1\n",
    "\n",
    "    params = pd.concat(df_arraylist)\n",
    "    params.to_csv(fr'G:\\Shared drives\\v1_v4_1024\\data\\results\\{session}_params_df.csv')"
   ]
  }
 ],
 "metadata": {
  "kernelspec": {
   "display_name": "voytek_lab",
   "language": "python",
   "name": "python3"
  },
  "language_info": {
   "codemirror_mode": {
    "name": "ipython",
    "version": 3
   },
   "file_extension": ".py",
   "mimetype": "text/x-python",
   "name": "python",
   "nbconvert_exporter": "python",
   "pygments_lexer": "ipython3",
   "version": "3.10.4"
  },
  "vscode": {
   "interpreter": {
    "hash": "f6dd324fb68c520f4396a821fcf29fb3620ab6abe61aa93cd1875ff7e1d7f4fb"
   }
  }
 },
 "nbformat": 4,
 "nbformat_minor": 2
}
