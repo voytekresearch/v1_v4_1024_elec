{
 "cells": [
  {
   "attachments": {},
   "cell_type": "markdown",
   "metadata": {},
   "source": [
    "# Aggregate Spectral Params\n",
    "<p>created: Feb 1, 2023 <br>\n",
    "last modified: Feb 13, 2024 </p>\n",
    "<p>\n",
    "This notebook was used to develop scripts.4_aggregate_params.py, which has been depricated. With the introduction of the SpecParam.to_df() method, aggregation of results is now performed in scripts.3_fit_psd.py.\n"
   ]
  },
  {
   "attachments": {},
   "cell_type": "markdown",
   "metadata": {},
   "source": [
    "#### Set-up"
   ]
  },
  {
   "cell_type": "code",
   "execution_count": 8,
   "metadata": {},
   "outputs": [],
   "source": [
    "# general\n",
    "import numpy as np\n",
    "import matplotlib.pyplot as plt\n",
    "import pandas as pd\n",
    "\n",
    "# lab\n",
    "from specparam import SpectralGroupModel\n",
    "\n",
    "# project\n",
    "import sys\n",
    "sys.path.append('../scripts')\n",
    "from paths import PROJECT_PATH, EXTERNAL_PATH\n",
    "from info import SESSIONS, FS"
   ]
  },
  {
   "attachments": {},
   "cell_type": "markdown",
   "metadata": {},
   "source": [
    "#### Examine fitting output for an example file"
   ]
  },
  {
   "cell_type": "code",
   "execution_count": 10,
   "metadata": {},
   "outputs": [
    {
     "name": "stdout",
     "output_type": "stream",
     "text": [
      "==================================================================================================\n",
      "                                                                                                  \n",
      "                                       FOOOF - GROUP RESULTS                                      \n",
      "                                                                                                  \n",
      "                             Number of power spectra in the Group: 64                             \n",
      "                                                                                                  \n",
      "                       The model was run on the frequency range 1 - 100 Hz                        \n",
      "                                 Frequency Resolution is 1.00 Hz                                  \n",
      "                                                                                                  \n",
      "                               Power spectra were fit with a knee.                                \n",
      "                                                                                                  \n",
      "                                      Aperiodic Fit Values:                                       \n",
      "                            Knees - Min:   0.09, Max: 187.36, Mean: 30.82                         \n",
      "                        Exponents - Min:  1.443, Max:  3.053, Mean: 2.447                         \n",
      "                                                                                                  \n",
      "                         In total 99 peaks were extracted from the group                          \n",
      "                                                                                                  \n",
      "                                     Goodness of fit metrics:                                     \n",
      "                            R2s -  Min:  0.955, Max:  0.996, Mean: 0.980                          \n",
      "                         Errors -  Min:  0.045, Max:  0.115, Mean: 0.092                          \n",
      "                                                                                                  \n",
      "==================================================================================================\n"
     ]
    },
    {
     "name": "stderr",
     "output_type": "stream",
     "text": [
      "c:\\Users\\Andre\\anaconda3\\envs\\voytek_lab\\lib\\site-packages\\fooof\\objs\\group.py:378: VisibleDeprecationWarning: Creating an ndarray from ragged nested sequences (which is a list-or-tuple of lists-or-tuples-or ndarrays with different lengths or shapes) is deprecated. If you meant to do this, you must specify 'dtype=object' when creating the ndarray.\n",
      "  out = np.array([np.insert(getattr(data, name), 3, index, axis=1)\n"
     ]
    }
   ],
   "source": [
    "# \n",
    "fg = SpectralGroupModel()\n",
    "fg.load(r\"G:\\Shared drives\\v1_v4_1024\\data\\lfp\\lfp_params\\L_SNR_250717\\NSP1_array1_LFP.csv\")\n",
    "fg.print_results()"
   ]
  },
  {
   "cell_type": "code",
   "execution_count": 11,
   "metadata": {},
   "outputs": [],
   "source": [
    "fg_pre = SpectralGroupModel()\n",
    "fg_post = SpectralGroupModel()\n",
    "fg_pre.load(r\"G:\\Shared drives\\v1_v4_1024\\data\\lfp\\lfp_params\\L_SNR_250717\\NSP2_array4_LFP_pre.csv\")\n",
    "fg_post.load(r\"G:\\Shared drives\\v1_v4_1024\\data\\lfp\\lfp_params\\L_SNR_250717\\NSP2_array4_LFP_post.csv\")"
   ]
  },
  {
   "cell_type": "code",
   "execution_count": 12,
   "metadata": {},
   "outputs": [
    {
     "data": {
      "text/plain": [
       "Text(0, 0.5, 'Post')"
      ]
     },
     "execution_count": 12,
     "metadata": {},
     "output_type": "execute_result"
    },
    {
     "data": {
      "image/png": "[encoded data removed]",
      "text/plain": [
       "<Figure size 640x480 with 1 Axes>"
      ]
     },
     "metadata": {},
     "output_type": "display_data"
    }
   ],
   "source": [
    "# get exponent\n",
    "exp_pre = fg_pre.get_params('aperiodic_params', 'exponent')\n",
    "exp_post = fg_post.get_params('aperiodic_params', 'exponent')\n",
    "\n",
    "# plot difference in exponent\n",
    "plt.scatter(exp_pre, exp_post)\n",
    "\n",
    "# plot unity line\n",
    "all_exp = np.concatenate((exp_pre, exp_post))\n",
    "plt.plot([np.min(all_exp), np.max(all_exp)], [np.min(all_exp), np.max(all_exp)], 'k--')\n",
    "\n",
    "# label axes\n",
    "plt.xlabel('Pre')\n",
    "plt.ylabel('Post')"
   ]
  },
  {
   "attachments": {},
   "cell_type": "markdown",
   "metadata": {},
   "source": [
    "### Aggregate results across all files"
   ]
  },
  {
   "cell_type": "code",
   "execution_count": 13,
   "metadata": {},
   "outputs": [
    {
     "data": {
      "text/html": [
       "<div>\n",
       "<style scoped>\n",
       "    .dataframe tbody tr th:only-of-type {\n",
       "        vertical-align: middle;\n",
       "    }\n",
       "\n",
       "    .dataframe tbody tr th {\n",
       "        vertical-align: top;\n",
       "    }\n",
       "\n",
       "    .dataframe thead th {\n",
       "        text-align: right;\n",
       "    }\n",
       "</style>\n",
       "<table border=\"1\" class=\"dataframe\">\n",
       "  <thead>\n",
       "    <tr style=\"text-align: right;\">\n",
       "      <th></th>\n",
       "      <th>session</th>\n",
       "      <th>array</th>\n",
       "      <th>channel</th>\n",
       "      <th>pre_exp</th>\n",
       "      <th>post_exp</th>\n",
       "      <th>pre_r2</th>\n",
       "      <th>post_r2</th>\n",
       "    </tr>\n",
       "  </thead>\n",
       "  <tbody>\n",
       "  </tbody>\n",
       "</table>\n",
       "</div>"
      ],
      "text/plain": [
       "Empty DataFrame\n",
       "Columns: [session, array, channel, pre_exp, post_exp, pre_r2, post_r2]\n",
       "Index: []"
      ]
     },
     "execution_count": 13,
     "metadata": {},
     "output_type": "execute_result"
    }
   ],
   "source": [
    "# create pandas DF\n",
    "params = pd.DataFrame(columns = ['session', 'array', 'channel', 'pre_exp', 'post_exp', 'pre_r2', 'post_r2'])\n",
    "params.head()"
   ]
  },
  {
   "cell_type": "code",
   "execution_count": 14,
   "metadata": {},
   "outputs": [],
   "source": [
    "session = np.repeat('L_SNR_250717', len(exp_pre))\n",
    "channel = np.linspace(0, len(exp_pre)-1, len(exp_pre))"
   ]
  },
  {
   "cell_type": "code",
   "execution_count": 17,
   "metadata": {},
   "outputs": [],
   "source": [
    "N_ARRAYS = 16\n",
    "allsessions_list = []\n",
    "\n",
    "for session in SESSIONS :\n",
    "    idx_nsp = 1\n",
    "    df_arraylist = []\n",
    "    for i_array in range(1, N_ARRAYS+1):\n",
    "        # create dataframe\n",
    "        df_array = pd.DataFrame(columns = ['session', 'array', 'channel', 'pre_exp', 'post_exp', 'pre_r2', 'post_r2'])\n",
    "\n",
    "        # import data\n",
    "        fg_pre = SpectralGroupModel()\n",
    "        fg_post = SpectralGroupModel()\n",
    "        fg_pre.load(fr\"G:\\Shared drives\\v1_v4_1024\\data\\lfp\\lfp_params\\{session}\\NSP{idx_nsp}_array{i_array}_LFP_pre.csv\")\n",
    "        fg_post.load(fr\"G:\\Shared drives\\v1_v4_1024\\data\\lfp\\lfp_params\\{session}\\NSP{idx_nsp}_array{i_array}_LFP_post.csv\")\n",
    "\n",
    "        # get exponent and add it to dataframe\n",
    "        pre_exp = fg_pre.get_params('aperiodic_params', 'exponent')\n",
    "        post_exp = fg_post.get_params('aperiodic_params', 'exponent')\n",
    "        df_array['pre_exp'] = pre_exp\n",
    "        df_array['post_exp'] = post_exp\n",
    "\n",
    "        #  get r squared and add it to dataframe\n",
    "        pre_r2 = fg_pre.get_params('r_squared')\n",
    "        post_r2 = fg_post.get_params('r_squared')\n",
    "        df_array['pre_r2'] = pre_r2\n",
    "        df_array['post_r2'] = post_r2\n",
    "        \n",
    "        # add session, channel and array\n",
    "        df_array['session'] = session\n",
    "        df_array['channel'] = channel\n",
    "        df_array['array'] = i_array\n",
    "\n",
    "        # append df_array to params\n",
    "        df_arraylist.append(df_array)\n",
    "        # increment\n",
    "        if i_array % 2 == 0:\n",
    "            idx_nsp += 1\n",
    "\n",
    "    # save dataframe per session\n",
    "    df_session = pd.concat(df_arraylist)\n",
    "    df_session.to_csv(fr'G:\\Shared drives\\v1_v4_1024\\data\\results\\{session}_params_df.csv')\n",
    "\n",
    "    # save all sessions dataframe\n",
    "    allsessions_list.append(df_session)\n",
    "\n",
    "df_allsessions = pd.concat(allsessions_list)\n",
    "df_allsessions.to_csv(fr'G:\\Shared drives\\v1_v4_1024\\data\\results\\allsessions_params_df.csv')\n"
   ]
  }
 ],
 "metadata": {
  "kernelspec": {
   "display_name": "voytek_lab",
   "language": "python",
   "name": "python3"
  },
  "language_info": {
   "codemirror_mode": {
    "name": "ipython",
    "version": 3
   },
   "file_extension": ".py",
   "mimetype": "text/x-python",
   "name": "python",
   "nbconvert_exporter": "python",
   "pygments_lexer": "ipython3",
   "version": "3.10.4"
  },
  "vscode": {
   "interpreter": {
    "hash": "f6dd324fb68c520f4396a821fcf29fb3620ab6abe61aa93cd1875ff7e1d7f4fb"
   }
  }
 },
 "nbformat": 4,
 "nbformat_minor": 2
}
