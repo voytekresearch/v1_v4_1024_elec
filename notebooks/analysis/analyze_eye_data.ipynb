{
 "cells": [
  {
   "cell_type": "markdown",
   "metadata": {},
   "source": [
    "# Analyze eye signal data\n",
    "\n",
    "created: November 19, 2024 <br>\n",
    "last modified:  February 28, 2024\n",
    "\n",
    "Start by analyzing a downsampled version of eye data, then introduce full resolution eye data and compare resting state aperiodic activity in eyes open vs close and in specific timepoint when eyes closed become open (or viceversa)"
   ]
  },
  {
   "cell_type": "code",
   "execution_count": 89,
   "metadata": {},
   "outputs": [],
   "source": [
    "# Imports\n",
    "import neo\n",
    "import numpy as np\n",
    "import pandas as pd\n",
    "import quantities as pq\n",
    "import matplotlib.pyplot as plt\n",
    "from mne.time_frequency import psd_array_multitaper\n",
    "from neurodsp.spectral import compute_spectrum\n",
    "from specparam import SpectralModel\n",
    "\n",
    "# custom\n",
    "import sys\n",
    "sys.path.append(\"../../code\")\n",
    "from info import FS\n",
    "from settings import N_JOBS\n",
    "from paths import EXTERNAL_PATH, PROJECT_PATH\n",
    "from utils import load_nix, epoch_neo_segment"
   ]
  },
  {
   "cell_type": "code",
   "execution_count": 2,
   "metadata": {},
   "outputs": [],
   "source": [
    "# set path\n",
    "eye_path = EXTERNAL_PATH + \"/V1_v4_1024_electrode_resting_state_data/data/L_RS_090817/eye_signals/\"\n",
    "\n",
    "lfp_path = EXTERNAL_PATH + \"/V1_v4_1024_electrode_resting_state_data/data/L_RS_090817/LFP/\""
   ]
  },
  {
   "cell_type": "markdown",
   "metadata": {},
   "source": [
    "### Analyze eye data\n",
    "Create new nix file containing behavioral states"
   ]
  },
  {
   "cell_type": "code",
   "execution_count": 17,
   "metadata": {},
   "outputs": [
    {
     "data": {
      "text/plain": [
       "Block with 1 segments\n",
       "name: 'Eye signals'\n",
       "description: 'eye position and diameters'\n",
       "annotations: {'nix_name': 'neo.block.4296992d060d4ee7b15db59fadc15740'}\n",
       "file_datetime: datetime.datetime(2021, 4, 19, 13, 5, 17, 913450)\n",
       "rec_datetime: datetime.datetime(2021, 4, 19, 6, 25, 32)\n",
       "# segments (N=1)\n",
       "0: Segment with 4 analogsignals, 1 epochs\n",
       "   name: 'eye signal segment'\n",
       "   description: 'Segment of eye pos and diam'\n",
       "   annotations: {'nix_name': 'neo.segment.c532f30c3a734eabae2418c49282dada'}\n",
       "   # analogsignals (N=4)\n",
       "   0: AnalogSignal with 1 channels of length 39627730; units mV; datatype int16 \n",
       "      name: 'XPos'\n",
       "      annotations: {'nix_name': 'neo.analogsignal.19582fa74cef491f8a907698b6ad6702'}\n",
       "      sampling rate: 30000.0 Hz\n",
       "      time: 0.0 s to 1320.9243333333334 s\n",
       "   1: AnalogSignal with 1 channels of length 39627730; units mV; datatype int16 \n",
       "      name: 'YPos'\n",
       "      annotations: {'nix_name': 'neo.analogsignal.62564a856339447fa99eb204ee0daddc'}\n",
       "      sampling rate: 30000.0 Hz\n",
       "      time: 0.0 s to 1320.9243333333334 s\n",
       "   2: AnalogSignal with 1 channels of length 39627730; units mV; datatype int16 \n",
       "      name: 'XDiam'\n",
       "      annotations: {'nix_name': 'neo.analogsignal.6ec6601136fb4b00be8f79bbf5e4ad78'}\n",
       "      sampling rate: 30000.0 Hz\n",
       "      time: 0.0 s to 1320.9243333333334 s\n",
       "   3: AnalogSignal with 1 channels of length 39627730; units mV; datatype int16 \n",
       "      name: 'YDiam'\n",
       "      annotations: {'nix_name': 'neo.analogsignal.abc9f6a97ab6401fb7a598b71f6ee986'}\n",
       "      sampling rate: 30000.0 Hz\n",
       "      time: 0.0 s to 1320.9243333333334 s"
      ]
     },
     "execution_count": 17,
     "metadata": {},
     "output_type": "execute_result"
    }
   ],
   "source": [
    "# Load data\n",
    "with neo.NixIO(eye_path + \"aligned_eye_data.nix\", mode='ro') as nio:\n",
    "    eye_block = nio.read_block()\n",
    "\n",
    "eye_block"
   ]
  },
  {
   "cell_type": "code",
   "execution_count": 18,
   "metadata": {},
   "outputs": [
    {
     "name": "stdout",
     "output_type": "stream",
     "text": [
      "Original datetime: 2021-04-19 06:25:32\n",
      "New datetime: None\n"
     ]
    }
   ],
   "source": [
    "# set datetime to None to avoid errors when saving\n",
    "# Neo Github issue: https://github.com/NeuralEnsemble/python-neo/issues/1198\n",
    "\n",
    "print(f\"Original datetime: {eye_block.rec_datetime}\")\n",
    "\n",
    "# set block and segment datetime to None\n",
    "eye_block.rec_datetime = None\n",
    "for segment in eye_block.segments:\n",
    "    segment.rec_datetime = None\n",
    "\n",
    "print(f\"New datetime: {eye_block.rec_datetime}\")\n"
   ]
  },
  {
   "cell_type": "code",
   "execution_count": 19,
   "metadata": {},
   "outputs": [
    {
     "name": "stdout",
     "output_type": "stream",
     "text": [
      "pupil diameter for every time point: (39627730, 1)\n"
     ]
    }
   ],
   "source": [
    "# access X and Y pupil diameter\n",
    "xdiam = eye_block.segments[0].analogsignals[2] / 1000\n",
    "ydiam = eye_block.segments[0].analogsignals[3] / 1000\n",
    "xdiam[xdiam < 0] = 0*pq.mV\n",
    "ydiam[ydiam < 0] = 0*pq.mV\n",
    "\n",
    "# we use .magnitude to access values\n",
    "diam = np.sqrt(ydiam.magnitude**2 + xdiam.magnitude**2)\n",
    "print(f\"pupil diameter for every time point: {diam.shape}\")"
   ]
  },
  {
   "cell_type": "code",
   "execution_count": 20,
   "metadata": {},
   "outputs": [],
   "source": [
    "### Estimate behavioural epochs\n",
    "\n",
    "# Empirically estimated thresholds for eye closure, according to Chen et al\n",
    "#   if 'L_RS_090817' in eye_path: thr = 0.101\n",
    "mask = (diam > 0.101)\n",
    "behavioral_state = mask.astype(float)[:, 0]\n",
    "\n",
    "# Smoothen states with sliding window\n",
    "w = 3\n",
    "kernel = [1/w]*w\n",
    "behavioral_state = np.convolve(behavioral_state, kernel, mode='same')\n",
    "behavioral_state[behavioral_state < 0.5] = 0\n",
    "behavioral_state[behavioral_state >= 0.5] = 1\n",
    "\n",
    "# Save signal to block\n",
    "behaviour_anasig = neo.core.AnalogSignal(behavioral_state,\n",
    "                                              units=pq.V,\n",
    "                                              sampling_rate=xdiam.sampling_rate,\n",
    "                                              name='Behavioural state')\n",
    "eye_block.segments[0].analogsignals.append(behaviour_anasig)"
   ]
  },
  {
   "cell_type": "code",
   "execution_count": 7,
   "metadata": {},
   "outputs": [
    {
     "name": "stdout",
     "output_type": "stream",
     "text": [
      "Eyes open or closed measured in binary: [0. 1.] \n",
      "eyes closed: 32473667 \n",
      "eyes open:7154063\n"
     ]
    }
   ],
   "source": [
    "unique, counts = np.unique(behavioral_state, return_counts=True)\n",
    "print(f\"Eyes open or closed measured in binary: {unique} \\neyes closed: {counts[0]} \\neyes open:{counts[1]}\")"
   ]
  },
  {
   "cell_type": "code",
   "execution_count": null,
   "metadata": {},
   "outputs": [
    {
     "data": {
      "text/plain": [
       "Segment with 5 analogsignals, 1 epochs\n",
       "name: 'eye signal segment'\n",
       "description: 'Segment of eye pos and diam'\n",
       "annotations: {'nix_name': 'neo.segment.c532f30c3a734eabae2418c49282dada'}\n",
       "# analogsignals (N=5)\n",
       "0: AnalogSignal with 1 channels of length 39627730; units mV; datatype int16 \n",
       "   name: 'XPos'\n",
       "   annotations: {'nix_name': 'neo.analogsignal.19582fa74cef491f8a907698b6ad6702'}\n",
       "   sampling rate: 30000.0 Hz\n",
       "   time: 0.0 s to 1320.9243333333334 s\n",
       "1: AnalogSignal with 1 channels of length 39627730; units mV; datatype int16 \n",
       "   name: 'YPos'\n",
       "   annotations: {'nix_name': 'neo.analogsignal.62564a856339447fa99eb204ee0daddc'}\n",
       "   sampling rate: 30000.0 Hz\n",
       "   time: 0.0 s to 1320.9243333333334 s\n",
       "2: AnalogSignal with 1 channels of length 39627730; units mV; datatype int16 \n",
       "   name: 'XDiam'\n",
       "   annotations: {'nix_name': 'neo.analogsignal.6ec6601136fb4b00be8f79bbf5e4ad78'}\n",
       "   sampling rate: 30000.0 Hz\n",
       "   time: 0.0 s to 1320.9243333333334 s\n",
       "3: AnalogSignal with 1 channels of length 39627730; units mV; datatype int16 \n",
       "   name: 'YDiam'\n",
       "   annotations: {'nix_name': 'neo.analogsignal.abc9f6a97ab6401fb7a598b71f6ee986'}\n",
       "   sampling rate: 30000.0 Hz\n",
       "   time: 0.0 s to 1320.9243333333334 s\n",
       "4: AnalogSignal with 1 channels of length 39627730; units V; datatype float64 \n",
       "   name: 'Behavioural state'\n",
       "   sampling rate: 30000.0 Hz\n",
       "   time: 0.0 s to 1320.9243333333334 s"
      ]
     },
     "execution_count": 26,
     "metadata": {},
     "output_type": "execute_result"
    }
   ],
   "source": [
    "# confirm that we have 5 analogsignals (our 4 original + behaviour)\n",
    "eye_block.segments[0]"
   ]
  },
  {
   "cell_type": "code",
   "execution_count": 25,
   "metadata": {},
   "outputs": [
    {
     "name": "stdout",
     "output_type": "stream",
     "text": [
      "Block saved to E:/V1_v4_1024_electrode_resting_state_data/data/L_RS_090817/eye_signals/L_RS_090817_aligned_eye_data.nix\n"
     ]
    }
   ],
   "source": [
    "# save file \n",
    "with neo.io.NixIO(eye_path + \"L_RS_090817_aligned_eye_data.nix\", mode='ow') as nio:\n",
    "    nio.write_block(eye_block)\n",
    "\n",
    "print(f\"Block saved to {eye_path}L_RS_090817_aligned_eye_data.nix\")"
   ]
  },
  {
   "cell_type": "markdown",
   "metadata": {},
   "source": [
    "### Define time windows and load LFP data"
   ]
  },
  {
   "cell_type": "code",
   "execution_count": 9,
   "metadata": {},
   "outputs": [],
   "source": [
    "# load LFP and eye data \n",
    "fname = lfp_path + \"NSP1_array1_LFP.nix\"\n",
    "lfp_segment, _ = load_nix(fname)\n",
    "lfp_signal = lfp_segment.analogsignals[0]\n",
    "\n",
    "with neo.io.NixIO(eye_path + \"L_RS_090817_aligned_eye_data.nix\", mode='ro') as nio:\n",
    "    eye_block = nio.read_block()\n",
    "eye_signal = eye_block.segments[0].analogsignals[4]\n",
    "\n",
    "# # downsample eye signals to fit LFP\n",
    "# downsample_factor = int(pre_eye_signal.sampling_rate.magnitude / lfp_signal.sampling_rate.magnitude)\n",
    "# if downsample_factor == 60 :\n",
    "#     eye_signal = pre_eye_signal.downsample(downsample_factor)\n",
    "\n",
    "# if len(eye_signal) == len(lfp_signal):\n",
    "#     print(f\"Total values in signal: {len(lfp_signal)}\")"
   ]
  },
  {
   "cell_type": "code",
   "execution_count": 10,
   "metadata": {},
   "outputs": [
    {
     "name": "stdout",
     "output_type": "stream",
     "text": [
      "Segment duration: 0.0 s to 1320.926 s\n"
     ]
    }
   ],
   "source": [
    "print(f\"Segment duration: {lfp_segment.t_start} to {lfp_segment.t_stop}\")"
   ]
  },
  {
   "cell_type": "code",
   "execution_count": 11,
   "metadata": {},
   "outputs": [
    {
     "name": "stdout",
     "output_type": "stream",
     "text": [
      "Number of changes in behavioral states: 1102 \n",
      "Total time points: 39627730\n"
     ]
    }
   ],
   "source": [
    "# time indices where there is a change from eyes open to eyes closed\n",
    "eye_array = eye_signal.magnitude.flatten()\n",
    "wh = np.where(np.diff(eye_array) != 0)[0]\n",
    "print(f\"Number of changes in behavioral states: {wh.shape[0]} \\nTotal time points: {eye_array.shape[0]}\")"
   ]
  },
  {
   "cell_type": "code",
   "execution_count": null,
   "metadata": {},
   "outputs": [
    {
     "name": "stdout",
     "output_type": "stream",
     "text": [
      "Number of changes in behavioral states with 0.5 seconds: 64\n",
      "Number of changes in behavioral states with 1.0 seconds: 31\n",
      "Number of changes in behavioral states with 1.5 seconds: 14\n",
      "Number of changes in behavioral states with 2.0 seconds: 11\n",
      "Number of changes in behavioral states with 2.5 seconds: 7\n",
      "Number of changes in behavioral states with 3.0 seconds: 4\n",
      "Number of changes in behavioral states with 3.5 seconds: 2\n",
      "Number of changes in behavioral states with 4.0 seconds: 2\n",
      "Number of changes in behavioral states with 4.5 seconds: 0\n",
      "Number of changes in behavioral states with 5.0 seconds: 0\n",
      "Number of changes in behavioral states with 5.5 seconds: 0\n",
      "Number of changes in behavioral states with 6.0 seconds: 0\n"
     ]
    }
   ],
   "source": [
    "# find instances where the eyes are open/closed for Xsec duration and then Xsec of the other state\n",
    "DURATION_TIMES = np.arange(0.5,6.5,0.5)\n",
    "\n",
    "instances = np.array([])\n",
    "\n",
    "for t in DURATION_TIMES:\n",
    "    DURATION = t # in seconds \n",
    "\n",
    "    differences = np.diff(wh)\n",
    "    epoch_indices = np.array([])\n",
    "    for i in range(0, len(differences)):\n",
    "        if (differences[i] >= DURATION*30000) & (differences[i-1] >= DURATION*30000):\n",
    "            epoch_indices = np.append(epoch_indices, wh[i])\n",
    "\n",
    "    instances = np.append(instances, epoch_indices.shape[0])\n",
    "\n",
    "    print(f\"Number of changes in behavioral states with {DURATION} seconds: {epoch_indices.shape[0]}\")\n",
    "        "
   ]
  },
  {
   "cell_type": "code",
   "execution_count": 74,
   "metadata": {},
   "outputs": [
    {
     "data": {
      "text/plain": [
       "Text(0, 0.5, 'Number of changes in behavior')"
      ]
     },
     "execution_count": 74,
     "metadata": {},
     "output_type": "execute_result"
    },
    {
     "data": {
      "image/png": "[encoded data removed]",
      "text/plain": [
       "<Figure size 640x480 with 1 Axes>"
      ]
     },
     "metadata": {},
     "output_type": "display_data"
    }
   ],
   "source": [
    "\n",
    "# plot function of change between set duration of behavioral state and number of changes in behavior for 1 RS session\n",
    "fig, ax = plt.subplots()\n",
    "\n",
    "ax.plot(DURATION_TIMES, instances, color=\"#F5466F\")\n",
    "ax.set_xlabel(\"Duration (s)\")\n",
    "ax.set_ylabel(\"Number of changes in behavior\")\n",
    "#ax.show()"
   ]
  },
  {
   "cell_type": "markdown",
   "metadata": {},
   "source": [
    "### Epoch transition times"
   ]
  },
  {
   "cell_type": "markdown",
   "metadata": {},
   "source": [
    "Create a CSV file containing all time windows where there is a 2 second period of eyes in state 1 (either open or closed) and a 2 second transition in state 2"
   ]
  },
  {
   "cell_type": "code",
   "execution_count": 12,
   "metadata": {},
   "outputs": [
    {
     "name": "stdout",
     "output_type": "stream",
     "text": [
      "Number of changes in behavioral states with 2 seconds: 11\n"
     ]
    }
   ],
   "source": [
    "# define duration of our window as 2 seconds\n",
    "## this gives us 11 instances of behavioral change for 1 RS session of monkey L\n",
    "\n",
    "DURATION = 2 #seconds\n",
    "differences = np.diff(wh)\n",
    "epoch_indices = np.array([])\n",
    "for i in range(0, len(differences)):\n",
    "    if (differences[i] >= DURATION*30000) & (differences[i-1] >= DURATION*30000):\n",
    "        epoch_indices = np.append(epoch_indices, wh[i])\n",
    "\n",
    "print(f\"Number of changes in behavioral states with {DURATION} seconds: {epoch_indices.shape[0]}\")"
   ]
  },
  {
   "cell_type": "code",
   "execution_count": 13,
   "metadata": {},
   "outputs": [
    {
     "data": {
      "text/plain": [
       "array([ 289.16013333,  293.30373333,  296.10043333,  322.9545    ,\n",
       "        354.903     ,  381.4944    ,  538.64663333,  885.7171    ,\n",
       "       1120.32023333, 1164.14456667, 1225.85996667])"
      ]
     },
     "execution_count": 13,
     "metadata": {},
     "output_type": "execute_result"
    }
   ],
   "source": [
    "# create time stamps from indices\n",
    "time = np.array(eye_signal.times)\n",
    "epoch_times = np.array([])\n",
    "\n",
    "for i in epoch_indices:\n",
    "    timestamp = time[int(i)]\n",
    "    epoch_times = np.append(epoch_times, timestamp)\n",
    "\n",
    "epoch_times"
   ]
  },
  {
   "cell_type": "code",
   "execution_count": 78,
   "metadata": {},
   "outputs": [
    {
     "name": "stdout",
     "output_type": "stream",
     "text": [
      "transition ocurrence #1\n",
      "    initialized as eyes closed at 287.16\n",
      "    finalized as eyes open at 291.16\n",
      "transition ocurrence #2\n",
      "    initialized as eyes open at 291.3\n",
      "    finalized as eyes closed at 295.3\n",
      "transition ocurrence #3\n",
      "    initialized as eyes closed at 294.1\n",
      "    finalized as eyes open at 298.1\n",
      "transition ocurrence #4\n",
      "    initialized as eyes open at 320.95\n",
      "    finalized as eyes closed at 324.95\n",
      "transition ocurrence #5\n",
      "    initialized as eyes closed at 352.9\n",
      "    finalized as eyes open at 356.9\n",
      "transition ocurrence #6\n",
      "    initialized as eyes open at 379.49\n",
      "    finalized as eyes closed at 383.49\n",
      "transition ocurrence #7\n",
      "    initialized as eyes closed at 536.65\n",
      "    finalized as eyes open at 540.65\n",
      "transition ocurrence #8\n",
      "    initialized as eyes open at 883.72\n",
      "    finalized as eyes closed at 887.72\n",
      "transition ocurrence #9\n",
      "    initialized as eyes open at 1118.32\n",
      "    finalized as eyes closed at 1122.32\n",
      "transition ocurrence #10\n",
      "    initialized as eyes open at 1162.14\n",
      "    finalized as eyes closed at 1166.14\n",
      "transition ocurrence #11\n",
      "    initialized as eyes closed at 1223.86\n",
      "    finalized as eyes open at 1227.86\n"
     ]
    }
   ],
   "source": [
    "# use time stamps for epoching\n",
    "transition_times = pd.DataFrame(dtype=object)\n",
    "\n",
    "signal_epoch = []\n",
    "signal_time = []\n",
    "behavior_start = []\n",
    "behavior_stop = []\n",
    "\n",
    "\n",
    "count = 0\n",
    "for sec in epoch_times:\n",
    "    count += 1\n",
    "\n",
    "    print(f\"transition ocurrence #{count}\")\n",
    "\n",
    "    t_start = sec - 2\n",
    "    t_stop = sec + 2\n",
    "\n",
    "    lfp_sliced = lfp_signal.time_slice(t_start * pq.s, t_stop * pq.s)\n",
    "    beh_sliced = eye_signal.time_slice(t_start * pq.s, t_stop * pq.s)\n",
    "\n",
    "    signal_epoch.append(lfp_sliced.magnitude)\n",
    "    signal_time.append(lfp_sliced.times.magnitude)\n",
    "\n",
    "    if beh_sliced.magnitude[0] == 0:\n",
    "        print(f\"    initialized as eyes closed at {round(t_start,2)}\")\n",
    "        behavior_start.append(\"closed\")\n",
    "    elif beh_sliced.magnitude[0] == 1:\n",
    "        print(f\"    initialized as eyes open at {round(t_start,2)}\") \n",
    "        behavior_start.append(\"open\")\n",
    "    \n",
    "    if beh_sliced.magnitude[-1] == 0:\n",
    "        print(f\"    finalized as eyes closed at {round(t_stop,2)}\")\n",
    "        behavior_stop.append(\"closed\")\n",
    "    elif beh_sliced.magnitude[-1] == 1:\n",
    "        print(f\"    finalized as eyes open at {round(t_stop,2)}\")\n",
    "        behavior_stop.append(\"open\")\n",
    "    \n",
    "\n",
    "transition_times['state_1'] = behavior_start\n",
    "transition_times['state_2'] = behavior_stop\n",
    "transition_times['lfp'] = signal_epoch\n",
    "transition_times['time'] = signal_time"
   ]
  },
  {
   "cell_type": "code",
   "execution_count": 79,
   "metadata": {},
   "outputs": [
    {
     "data": {
      "text/html": [
       "<div>\n",
       "<style scoped>\n",
       "    .dataframe tbody tr th:only-of-type {\n",
       "        vertical-align: middle;\n",
       "    }\n",
       "\n",
       "    .dataframe tbody tr th {\n",
       "        vertical-align: top;\n",
       "    }\n",
       "\n",
       "    .dataframe thead th {\n",
       "        text-align: right;\n",
       "    }\n",
       "</style>\n",
       "<table border=\"1\" class=\"dataframe\">\n",
       "  <thead>\n",
       "    <tr style=\"text-align: right;\">\n",
       "      <th></th>\n",
       "      <th>state_1</th>\n",
       "      <th>state_2</th>\n",
       "      <th>lfp</th>\n",
       "      <th>time</th>\n",
       "    </tr>\n",
       "  </thead>\n",
       "  <tbody>\n",
       "    <tr>\n",
       "      <th>0</th>\n",
       "      <td>closed</td>\n",
       "      <td>open</td>\n",
       "      <td>[[38.07482058688473, 30.839792736238156, 33.94...</td>\n",
       "      <td>[287.16, 287.16200000000003, 287.1640000000000...</td>\n",
       "    </tr>\n",
       "    <tr>\n",
       "      <th>1</th>\n",
       "      <td>open</td>\n",
       "      <td>closed</td>\n",
       "      <td>[[-38.49435925946981, -31.330522739270233, -26...</td>\n",
       "      <td>[291.30400000000003, 291.30600000000004, 291.3...</td>\n",
       "    </tr>\n",
       "    <tr>\n",
       "      <th>2</th>\n",
       "      <td>closed</td>\n",
       "      <td>open</td>\n",
       "      <td>[[-13.998995810034833, -4.867778710755416, 4.3...</td>\n",
       "      <td>[294.1, 294.10200000000003, 294.10400000000004...</td>\n",
       "    </tr>\n",
       "    <tr>\n",
       "      <th>3</th>\n",
       "      <td>open</td>\n",
       "      <td>closed</td>\n",
       "      <td>[[13.206796728673371, 16.882380718237453, 7.48...</td>\n",
       "      <td>[320.954, 320.956, 320.958, 320.96, 320.962, 3...</td>\n",
       "    </tr>\n",
       "    <tr>\n",
       "      <th>4</th>\n",
       "      <td>closed</td>\n",
       "      <td>open</td>\n",
       "      <td>[[24.951716453766686, 11.349755470718321, 29.0...</td>\n",
       "      <td>[352.904, 352.906, 352.908, 352.90999999999997...</td>\n",
       "    </tr>\n",
       "    <tr>\n",
       "      <th>5</th>\n",
       "      <td>open</td>\n",
       "      <td>closed</td>\n",
       "      <td>[[19.71325118204737, 33.52533660707827, 15.040...</td>\n",
       "      <td>[379.494, 379.49600000000004, 379.498000000000...</td>\n",
       "    </tr>\n",
       "    <tr>\n",
       "      <th>6</th>\n",
       "      <td>closed</td>\n",
       "      <td>open</td>\n",
       "      <td>[[49.415765024980956, 37.979291880874314, 12.5...</td>\n",
       "      <td>[536.646, 536.6479999999999, 536.65, 536.65199...</td>\n",
       "    </tr>\n",
       "    <tr>\n",
       "      <th>7</th>\n",
       "      <td>open</td>\n",
       "      <td>closed</td>\n",
       "      <td>[[9.57130154535084, 14.911264675900723, 18.119...</td>\n",
       "      <td>[883.7180000000001, 883.72, 883.7220000000001,...</td>\n",
       "    </tr>\n",
       "    <tr>\n",
       "      <th>8</th>\n",
       "      <td>open</td>\n",
       "      <td>closed</td>\n",
       "      <td>[[-40.09471336350105, -50.731377867784786, -51...</td>\n",
       "      <td>[1118.32, 1118.322, 1118.3239999999998, 1118.3...</td>\n",
       "    </tr>\n",
       "    <tr>\n",
       "      <th>9</th>\n",
       "      <td>open</td>\n",
       "      <td>closed</td>\n",
       "      <td>[[32.95809359004258, 19.346196922785218, 31.01...</td>\n",
       "      <td>[1162.144, 1162.146, 1162.148, 1162.15, 1162.1...</td>\n",
       "    </tr>\n",
       "    <tr>\n",
       "      <th>10</th>\n",
       "      <td>closed</td>\n",
       "      <td>open</td>\n",
       "      <td>[[39.175560881266705, 35.794309188242025, 58.9...</td>\n",
       "      <td>[1223.8600000000001, 1223.862, 1223.864, 1223....</td>\n",
       "    </tr>\n",
       "  </tbody>\n",
       "</table>\n",
       "</div>"
      ],
      "text/plain": [
       "   state_1 state_2                                                lfp  \\\n",
       "0   closed    open  [[38.07482058688473, 30.839792736238156, 33.94...   \n",
       "1     open  closed  [[-38.49435925946981, -31.330522739270233, -26...   \n",
       "2   closed    open  [[-13.998995810034833, -4.867778710755416, 4.3...   \n",
       "3     open  closed  [[13.206796728673371, 16.882380718237453, 7.48...   \n",
       "4   closed    open  [[24.951716453766686, 11.349755470718321, 29.0...   \n",
       "5     open  closed  [[19.71325118204737, 33.52533660707827, 15.040...   \n",
       "6   closed    open  [[49.415765024980956, 37.979291880874314, 12.5...   \n",
       "7     open  closed  [[9.57130154535084, 14.911264675900723, 18.119...   \n",
       "8     open  closed  [[-40.09471336350105, -50.731377867784786, -51...   \n",
       "9     open  closed  [[32.95809359004258, 19.346196922785218, 31.01...   \n",
       "10  closed    open  [[39.175560881266705, 35.794309188242025, 58.9...   \n",
       "\n",
       "                                                 time  \n",
       "0   [287.16, 287.16200000000003, 287.1640000000000...  \n",
       "1   [291.30400000000003, 291.30600000000004, 291.3...  \n",
       "2   [294.1, 294.10200000000003, 294.10400000000004...  \n",
       "3   [320.954, 320.956, 320.958, 320.96, 320.962, 3...  \n",
       "4   [352.904, 352.906, 352.908, 352.90999999999997...  \n",
       "5   [379.494, 379.49600000000004, 379.498000000000...  \n",
       "6   [536.646, 536.6479999999999, 536.65, 536.65199...  \n",
       "7   [883.7180000000001, 883.72, 883.7220000000001,...  \n",
       "8   [1118.32, 1118.322, 1118.3239999999998, 1118.3...  \n",
       "9   [1162.144, 1162.146, 1162.148, 1162.15, 1162.1...  \n",
       "10  [1223.8600000000001, 1223.862, 1223.864, 1223....  "
      ]
     },
     "execution_count": 79,
     "metadata": {},
     "output_type": "execute_result"
    }
   ],
   "source": [
    "transition_times"
   ]
  },
  {
   "cell_type": "code",
   "execution_count": 80,
   "metadata": {},
   "outputs": [],
   "source": [
    "# save dataframe to csv\n",
    "transition_times.to_csv(PROJECT_PATH + \"/data/results/lfp_eye_arousal.csv\")"
   ]
  },
  {
   "cell_type": "code",
   "execution_count": 81,
   "metadata": {},
   "outputs": [
    {
     "data": {
      "text/plain": [
       "numpy.ndarray"
      ]
     },
     "execution_count": 81,
     "metadata": {},
     "output_type": "execute_result"
    }
   ],
   "source": [
    "type(lfp_sliced.magnitude)"
   ]
  },
  {
   "cell_type": "markdown",
   "metadata": {},
   "source": [
    "### Compute spectra\n",
    "\n",
    "calculate and plot spectra from csv"
   ]
  },
  {
   "cell_type": "code",
   "execution_count": 76,
   "metadata": {},
   "outputs": [],
   "source": [
    "# load data\n",
    "transition_times = pd.read_csv(PROJECT_PATH + \"/data/results/lfp_eye_arousal.csv\")"
   ]
  },
  {
   "cell_type": "code",
   "execution_count": 84,
   "metadata": {},
   "outputs": [
    {
     "data": {
      "text/plain": [
       "array([[ 38.07482059,  30.83979274,  33.94191367, ...,  38.78437854,\n",
       "         37.80898078,  31.10260234],\n",
       "       [ 42.41193393,  32.75362263,  36.55692089, ...,  43.07328905,\n",
       "         41.97401808,  34.50215498],\n",
       "       [ 44.0003779 ,  35.90524987,  38.12755464, ...,  46.25818768,\n",
       "         45.92447606,  37.11186815],\n",
       "       ...,\n",
       "       [-66.34101073, -48.61208412, -53.371726  , ..., -43.09877078,\n",
       "        -54.05323863, -57.34685337],\n",
       "       [-65.90433276, -46.57716112, -49.46347086, ..., -43.96329922,\n",
       "        -52.89856177, -60.12001896],\n",
       "       [-62.7328628 , -42.10789913, -56.77496855, ..., -43.70016399,\n",
       "        -50.30757961, -59.42631566]])"
      ]
     },
     "execution_count": 84,
     "metadata": {},
     "output_type": "execute_result"
    }
   ],
   "source": [
    "transition_times['lfp'][0]"
   ]
  },
  {
   "cell_type": "code",
   "execution_count": null,
   "metadata": {},
   "outputs": [
    {
     "ename": "TypeError",
     "evalue": "compute_spectrum_welch() got an unexpected keyword argument 'n_jobs'",
     "output_type": "error",
     "traceback": [
      "\u001b[1;31m---------------------------------------------------------------------------\u001b[0m",
      "\u001b[1;31mTypeError\u001b[0m                                 Traceback (most recent call last)",
      "Input \u001b[1;32mIn [92]\u001b[0m, in \u001b[0;36m<cell line: 2>\u001b[1;34m()\u001b[0m\n\u001b[0;32m      1\u001b[0m \u001b[38;5;66;03m# compute power spectrum\u001b[39;00m\n\u001b[1;32m----> 2\u001b[0m freq, psd \u001b[38;5;241m=\u001b[39m \u001b[43mcompute_spectrum\u001b[49m\u001b[43m(\u001b[49m\u001b[43mtransition_times\u001b[49m\u001b[43m[\u001b[49m\u001b[38;5;124;43m'\u001b[39;49m\u001b[38;5;124;43mlfp\u001b[39;49m\u001b[38;5;124;43m'\u001b[39;49m\u001b[43m]\u001b[49m\u001b[43m[\u001b[49m\u001b[38;5;241;43m0\u001b[39;49m\u001b[43m]\u001b[49m\u001b[43m,\u001b[49m\u001b[43m \u001b[49m\u001b[43mFS\u001b[49m\u001b[43m,\u001b[49m\u001b[43m \u001b[49m\u001b[43mn_jobs\u001b[49m\u001b[38;5;241;43m=\u001b[39;49m\u001b[43mN_JOBS\u001b[49m\u001b[43m)\u001b[49m\n",
      "File \u001b[1;32mc:\\Users\\Andre\\anaconda3\\envs\\voytek_f1\\lib\\site-packages\\neurodsp\\spectral\\power.py:57\u001b[0m, in \u001b[0;36mcompute_spectrum\u001b[1;34m(sig, fs, method, avg_type, **kwargs)\u001b[0m\n\u001b[0;32m     24\u001b[0m \u001b[38;5;124;03m\"\"\"Compute the power spectral density of a time series.\u001b[39;00m\n\u001b[0;32m     25\u001b[0m \n\u001b[0;32m     26\u001b[0m \u001b[38;5;124;03mParameters\u001b[39;00m\n\u001b[1;32m   (...)\u001b[0m\n\u001b[0;32m     53\u001b[0m \u001b[38;5;124;03m>>> freqs, spectrum = compute_spectrum(sig, fs=500)\u001b[39;00m\n\u001b[0;32m     54\u001b[0m \u001b[38;5;124;03m\"\"\"\u001b[39;00m\n\u001b[0;32m     56\u001b[0m \u001b[38;5;28;01mif\u001b[39;00m method \u001b[38;5;241m==\u001b[39m \u001b[38;5;124m'\u001b[39m\u001b[38;5;124mwelch\u001b[39m\u001b[38;5;124m'\u001b[39m:\n\u001b[1;32m---> 57\u001b[0m     \u001b[38;5;28;01mreturn\u001b[39;00m compute_spectrum_welch(sig, fs, avg_type\u001b[38;5;241m=\u001b[39mavg_type, \u001b[38;5;241m*\u001b[39m\u001b[38;5;241m*\u001b[39mkwargs)\n\u001b[0;32m     59\u001b[0m \u001b[38;5;28;01melif\u001b[39;00m method \u001b[38;5;241m==\u001b[39m \u001b[38;5;124m'\u001b[39m\u001b[38;5;124mwavelet\u001b[39m\u001b[38;5;124m'\u001b[39m:\n\u001b[0;32m     60\u001b[0m     \u001b[38;5;28;01mreturn\u001b[39;00m compute_spectrum_wavelet(sig, fs, avg_type\u001b[38;5;241m=\u001b[39mavg_type, \u001b[38;5;241m*\u001b[39m\u001b[38;5;241m*\u001b[39mkwargs)\n",
      "\u001b[1;31mTypeError\u001b[0m: compute_spectrum_welch() got an unexpected keyword argument 'n_jobs'"
     ]
    }
   ],
   "source": [
    "# compute power spectrum\n",
    "freq, psd = compute_spectrum(transition_times['lfp'][0], FS)"
   ]
  },
  {
   "cell_type": "code",
   "execution_count": 94,
   "metadata": {},
   "outputs": [
    {
     "ename": "ValueError",
     "evalue": "bandwidth value 5.0 yields a normalized bandwidth of 0.32 < 0.5, use a value of at least 7.8125",
     "output_type": "error",
     "traceback": [
      "\u001b[1;31m---------------------------------------------------------------------------\u001b[0m",
      "\u001b[1;31mValueError\u001b[0m                                Traceback (most recent call last)",
      "Input \u001b[1;32mIn [94]\u001b[0m, in \u001b[0;36m<cell line: 5>\u001b[1;34m()\u001b[0m\n\u001b[0;32m      2\u001b[0m BANDWIDTH \u001b[38;5;241m=\u001b[39m \u001b[38;5;241m5.0\u001b[39m \u001b[38;5;66;03m# frequency bandwidth of multitaper decomposition\u001b[39;00m\n\u001b[0;32m      3\u001b[0m lfp \u001b[38;5;241m=\u001b[39m transition_times[\u001b[38;5;124m'\u001b[39m\u001b[38;5;124mlfp\u001b[39m\u001b[38;5;124m'\u001b[39m][\u001b[38;5;241m0\u001b[39m]\n\u001b[1;32m----> 5\u001b[0m spectra_i, freq \u001b[38;5;241m=\u001b[39m \u001b[43mpsd_array_multitaper\u001b[49m\u001b[43m(\u001b[49m\u001b[43mlfp\u001b[49m\u001b[43m,\u001b[49m\u001b[43m \u001b[49m\u001b[43mFS\u001b[49m\u001b[43m,\u001b[49m\u001b[43m \u001b[49m\u001b[43mn_jobs\u001b[49m\u001b[38;5;241;43m=\u001b[39;49m\u001b[43mN_JOBS\u001b[49m\u001b[43m,\u001b[49m\n\u001b[0;32m      6\u001b[0m \u001b[43m                                                       \u001b[49m\u001b[43mbandwidth\u001b[49m\u001b[38;5;241;43m=\u001b[39;49m\u001b[43mBANDWIDTH\u001b[49m\u001b[43m,\u001b[49m\n\u001b[0;32m      7\u001b[0m \u001b[43m                                                       \u001b[49m\u001b[43mverbose\u001b[49m\u001b[38;5;241;43m=\u001b[39;49m\u001b[38;5;28;43;01mFalse\u001b[39;49;00m\u001b[43m)\u001b[49m\n",
      "File \u001b[1;32m<decorator-gen-184>:10\u001b[0m, in \u001b[0;36mpsd_array_multitaper\u001b[1;34m(x, sfreq, fmin, fmax, bandwidth, adaptive, low_bias, normalization, output, n_jobs, max_iter, verbose)\u001b[0m\n",
      "File \u001b[1;32mc:\\Users\\Andre\\anaconda3\\envs\\voytek_f1\\lib\\site-packages\\mne\\time_frequency\\multitaper.py:420\u001b[0m, in \u001b[0;36mpsd_array_multitaper\u001b[1;34m(x, sfreq, fmin, fmax, bandwidth, adaptive, low_bias, normalization, output, n_jobs, max_iter, verbose)\u001b[0m\n\u001b[0;32m    417\u001b[0m dshape \u001b[38;5;241m=\u001b[39m x\u001b[38;5;241m.\u001b[39mshape[:\u001b[38;5;241m-\u001b[39m\u001b[38;5;241m1\u001b[39m]\n\u001b[0;32m    418\u001b[0m x \u001b[38;5;241m=\u001b[39m x\u001b[38;5;241m.\u001b[39mreshape(\u001b[38;5;241m-\u001b[39m\u001b[38;5;241m1\u001b[39m, n_times)\n\u001b[1;32m--> 420\u001b[0m dpss, eigvals, adaptive \u001b[38;5;241m=\u001b[39m \u001b[43m_compute_mt_params\u001b[49m\u001b[43m(\u001b[49m\n\u001b[0;32m    421\u001b[0m \u001b[43m    \u001b[49m\u001b[43mn_times\u001b[49m\u001b[43m,\u001b[49m\u001b[43m \u001b[49m\u001b[43msfreq\u001b[49m\u001b[43m,\u001b[49m\u001b[43m \u001b[49m\u001b[43mbandwidth\u001b[49m\u001b[43m,\u001b[49m\u001b[43m \u001b[49m\u001b[43mlow_bias\u001b[49m\u001b[43m,\u001b[49m\u001b[43m \u001b[49m\u001b[43madaptive\u001b[49m\u001b[43m)\u001b[49m\n\u001b[0;32m    422\u001b[0m n_tapers \u001b[38;5;241m=\u001b[39m \u001b[38;5;28mlen\u001b[39m(dpss)\n\u001b[0;32m    423\u001b[0m weights \u001b[38;5;241m=\u001b[39m np\u001b[38;5;241m.\u001b[39msqrt(eigvals)[np\u001b[38;5;241m.\u001b[39mnewaxis, :, np\u001b[38;5;241m.\u001b[39mnewaxis]\n",
      "File \u001b[1;32m<decorator-gen-183>:12\u001b[0m, in \u001b[0;36m_compute_mt_params\u001b[1;34m(n_times, sfreq, bandwidth, low_bias, adaptive, verbose)\u001b[0m\n",
      "File \u001b[1;32mc:\\Users\\Andre\\anaconda3\\envs\\voytek_f1\\lib\\site-packages\\mne\\time_frequency\\multitaper.py:325\u001b[0m, in \u001b[0;36m_compute_mt_params\u001b[1;34m(n_times, sfreq, bandwidth, low_bias, adaptive, verbose)\u001b[0m\n\u001b[0;32m    323\u001b[0m     half_nbw \u001b[38;5;241m=\u001b[39m \u001b[38;5;241m4.\u001b[39m\n\u001b[0;32m    324\u001b[0m \u001b[38;5;28;01mif\u001b[39;00m half_nbw \u001b[38;5;241m<\u001b[39m \u001b[38;5;241m0.5\u001b[39m:\n\u001b[1;32m--> 325\u001b[0m     \u001b[38;5;28;01mraise\u001b[39;00m \u001b[38;5;167;01mValueError\u001b[39;00m(\n\u001b[0;32m    326\u001b[0m         \u001b[38;5;124m'\u001b[39m\u001b[38;5;124mbandwidth value \u001b[39m\u001b[38;5;132;01m%s\u001b[39;00m\u001b[38;5;124m yields a normalized bandwidth of \u001b[39m\u001b[38;5;132;01m%s\u001b[39;00m\u001b[38;5;124m < 0.5, \u001b[39m\u001b[38;5;124m'\u001b[39m\n\u001b[0;32m    327\u001b[0m         \u001b[38;5;124m'\u001b[39m\u001b[38;5;124muse a value of at least \u001b[39m\u001b[38;5;132;01m%s\u001b[39;00m\u001b[38;5;124m'\u001b[39m\n\u001b[0;32m    328\u001b[0m         \u001b[38;5;241m%\u001b[39m (bandwidth, half_nbw, sfreq \u001b[38;5;241m/\u001b[39m n_times))\n\u001b[0;32m    330\u001b[0m \u001b[38;5;66;03m# Compute DPSS windows\u001b[39;00m\n\u001b[0;32m    331\u001b[0m n_tapers_max \u001b[38;5;241m=\u001b[39m \u001b[38;5;28mint\u001b[39m(\u001b[38;5;241m2\u001b[39m \u001b[38;5;241m*\u001b[39m half_nbw)\n",
      "\u001b[1;31mValueError\u001b[0m: bandwidth value 5.0 yields a normalized bandwidth of 0.32 < 0.5, use a value of at least 7.8125"
     ]
    }
   ],
   "source": [
    "# settings\n",
    "BANDWIDTH = 5.0 # frequency bandwidth of multitaper decomposition\n",
    "lfp = transition_times['lfp'][0]\n",
    "\n",
    "spectra_i, freq = psd_array_multitaper(lfp, FS, n_jobs=N_JOBS,\n",
    "                                                       bandwidth=BANDWIDTH,\n",
    "                                                       verbose=False)"
   ]
  },
  {
   "cell_type": "code",
   "execution_count": 91,
   "metadata": {},
   "outputs": [
    {
     "ename": "DataError",
     "evalue": "Inputs are not the right dimensions.",
     "output_type": "error",
     "traceback": [
      "\u001b[1;31m---------------------------------------------------------------------------\u001b[0m",
      "\u001b[1;31mDataError\u001b[0m                                 Traceback (most recent call last)",
      "Input \u001b[1;32mIn [91]\u001b[0m, in \u001b[0;36m<cell line: 2>\u001b[1;34m()\u001b[0m\n\u001b[0;32m      1\u001b[0m fm \u001b[38;5;241m=\u001b[39m SpectralModel()\n\u001b[1;32m----> 2\u001b[0m \u001b[43mfm\u001b[49m\u001b[38;5;241;43m.\u001b[39;49m\u001b[43madd_data\u001b[49m\u001b[43m(\u001b[49m\u001b[43mfreq\u001b[49m\u001b[43m,\u001b[49m\u001b[43m \u001b[49m\u001b[43mpsd\u001b[49m\u001b[43m)\u001b[49m\n\u001b[0;32m      3\u001b[0m fm\u001b[38;5;241m.\u001b[39mplot()\n",
      "File \u001b[1;32mc:\\users\\andre\\fooof\\specparam\\objs\\fit.py:338\u001b[0m, in \u001b[0;36mSpectralModel.add_data\u001b[1;34m(self, freqs, power_spectrum, freq_range, clear_results)\u001b[0m\n\u001b[0;32m    330\u001b[0m \u001b[38;5;66;03m# If any data is already present, then clear previous data\u001b[39;00m\n\u001b[0;32m    331\u001b[0m \u001b[38;5;66;03m# Also clear results, if present, unless indicated not to\u001b[39;00m\n\u001b[0;32m    332\u001b[0m \u001b[38;5;66;03m#   This is to ensure object consistency of all data & results\u001b[39;00m\n\u001b[0;32m    333\u001b[0m \u001b[38;5;28mself\u001b[39m\u001b[38;5;241m.\u001b[39m_reset_data_results(clear_freqs\u001b[38;5;241m=\u001b[39m\u001b[38;5;28mself\u001b[39m\u001b[38;5;241m.\u001b[39mhas_data,\n\u001b[0;32m    334\u001b[0m                          clear_spectrum\u001b[38;5;241m=\u001b[39m\u001b[38;5;28mself\u001b[39m\u001b[38;5;241m.\u001b[39mhas_data,\n\u001b[0;32m    335\u001b[0m                          clear_results\u001b[38;5;241m=\u001b[39m\u001b[38;5;28mself\u001b[39m\u001b[38;5;241m.\u001b[39mhas_model \u001b[38;5;129;01mand\u001b[39;00m clear_results)\n\u001b[0;32m    337\u001b[0m \u001b[38;5;28mself\u001b[39m\u001b[38;5;241m.\u001b[39mfreqs, \u001b[38;5;28mself\u001b[39m\u001b[38;5;241m.\u001b[39mpower_spectrum, \u001b[38;5;28mself\u001b[39m\u001b[38;5;241m.\u001b[39mfreq_range, \u001b[38;5;28mself\u001b[39m\u001b[38;5;241m.\u001b[39mfreq_res \u001b[38;5;241m=\u001b[39m \\\n\u001b[1;32m--> 338\u001b[0m     \u001b[38;5;28;43mself\u001b[39;49m\u001b[38;5;241;43m.\u001b[39;49m\u001b[43m_prepare_data\u001b[49m\u001b[43m(\u001b[49m\u001b[43mfreqs\u001b[49m\u001b[43m,\u001b[49m\u001b[43m \u001b[49m\u001b[43mpower_spectrum\u001b[49m\u001b[43m,\u001b[49m\u001b[43m \u001b[49m\u001b[43mfreq_range\u001b[49m\u001b[43m,\u001b[49m\u001b[43m \u001b[49m\u001b[38;5;241;43m1\u001b[39;49m\u001b[43m)\u001b[49m\n",
      "File \u001b[1;32mc:\\users\\andre\\fooof\\specparam\\objs\\fit.py:1361\u001b[0m, in \u001b[0;36mSpectralModel._prepare_data\u001b[1;34m(self, freqs, power_spectrum, freq_range, spectra_dim)\u001b[0m\n\u001b[0;32m   1359\u001b[0m \u001b[38;5;66;03m# Check that data have the right dimensionality\u001b[39;00m\n\u001b[0;32m   1360\u001b[0m \u001b[38;5;28;01mif\u001b[39;00m freqs\u001b[38;5;241m.\u001b[39mndim \u001b[38;5;241m!=\u001b[39m \u001b[38;5;241m1\u001b[39m \u001b[38;5;129;01mor\u001b[39;00m (power_spectrum\u001b[38;5;241m.\u001b[39mndim \u001b[38;5;241m!=\u001b[39m spectra_dim):\n\u001b[1;32m-> 1361\u001b[0m     \u001b[38;5;28;01mraise\u001b[39;00m DataError(\u001b[38;5;124m\"\u001b[39m\u001b[38;5;124mInputs are not the right dimensions.\u001b[39m\u001b[38;5;124m\"\u001b[39m)\n\u001b[0;32m   1363\u001b[0m \u001b[38;5;66;03m# Check that data sizes are compatible\u001b[39;00m\n\u001b[0;32m   1364\u001b[0m \u001b[38;5;28;01mif\u001b[39;00m (spectra_dim \u001b[38;5;241m<\u001b[39m \u001b[38;5;241m3\u001b[39m \u001b[38;5;129;01mand\u001b[39;00m freqs\u001b[38;5;241m.\u001b[39mshape[\u001b[38;5;241m-\u001b[39m\u001b[38;5;241m1\u001b[39m] \u001b[38;5;241m!=\u001b[39m power_spectrum\u001b[38;5;241m.\u001b[39mshape[\u001b[38;5;241m-\u001b[39m\u001b[38;5;241m1\u001b[39m]) \u001b[38;5;129;01mor\u001b[39;00m \\\n\u001b[0;32m   1365\u001b[0m     spectra_dim \u001b[38;5;241m==\u001b[39m \u001b[38;5;241m3\u001b[39m \u001b[38;5;129;01mand\u001b[39;00m freqs\u001b[38;5;241m.\u001b[39mshape[\u001b[38;5;241m-\u001b[39m\u001b[38;5;241m1\u001b[39m] \u001b[38;5;241m!=\u001b[39m power_spectrum\u001b[38;5;241m.\u001b[39mshape[\u001b[38;5;241m1\u001b[39m]:\n",
      "\u001b[1;31mDataError\u001b[0m: Inputs are not the right dimensions."
     ]
    }
   ],
   "source": [
    "fm = SpectralModel()\n",
    "fm.add_data(freq, psd)\n",
    "fm.plot()"
   ]
  },
  {
   "cell_type": "markdown",
   "metadata": {},
   "source": [
    "### ***deprecated"
   ]
  },
  {
   "cell_type": "code",
   "execution_count": null,
   "metadata": {},
   "outputs": [
    {
     "data": {
      "text/plain": [
       "True"
      ]
     },
     "execution_count": 17,
     "metadata": {},
     "output_type": "execute_result"
    }
   ],
   "source": [
    "# downsample eye signals to fit LFP\n",
    "downsample_factor = int(eye_signal.sampling_rate.magnitude / lfp_signal.sampling_rate.magnitude)\n",
    "if downsample_factor == 60 :\n",
    "    downsample_eye = eye_signal.downsample(downsample_factor)"
   ]
  },
  {
   "cell_type": "code",
   "execution_count": null,
   "metadata": {},
   "outputs": [],
   "source": [
    "# define function for when creating the epoch object\n",
    "def get_mean_state(diam):\n",
    "    if np.sum(diam <= 0.5) > np.sum(diam > 0.5):\n",
    "        state = 'Closed_eyes'\n",
    "    else:\n",
    "        state = 'Open_eyes'\n",
    "    return state"
   ]
  },
  {
   "cell_type": "code",
   "execution_count": null,
   "metadata": {},
   "outputs": [
    {
     "data": {
      "text/plain": [
       "AnalogSignal with 1 channels of length 39627730; units V; datatype float64 \n",
       "name: 'Behavioural state'\n",
       "annotations: {'nix_name': 'neo.analogsignal.6dcd4242b0ad425ea2b787dbf5fc1357'}\n",
       "sampling rate: 30000.0 Hz\n",
       "time: 0.0 s to 1320.9243333333334 s"
      ]
     },
     "execution_count": 41,
     "metadata": {},
     "output_type": "execute_result"
    }
   ],
   "source": [
    "## create epoch object\n",
    "wh = np.where(np.diff(behavioral_state) != 0)[0]\n",
    "wh.shape\n",
    "#start_time = wh - (duration/2)\n",
    "# edgeindex = [0] + wh.tolist() + [len(behavioural_state)]\n",
    "\n",
    "# # initialise with first slice\n",
    "# i_start = [edgeindex[0]]\n",
    "# i_stop = [edgeindex[1]]\n",
    "# states = [get_mean_state(behavioural_state[edgeindex[0]:edgeindex[1]])]\n",
    "# # Loop over indices, assign states and merge consecutive same-state slices\n",
    "# for startidx, stopidx in zip(edgeindex[1:-1], edgeindex[2:]):\n",
    "#     nextstate = get_mean_state(behavioural_state[startidx:stopidx])\n",
    "#     if nextstate == states[-1]:\n",
    "#         i_stop[-1] = stopidx\n",
    "#     else:\n",
    "#         i_start.append(startidx)\n",
    "#         i_stop.append(stopidx)\n",
    "#         states.append(nextstate)\n",
    "\n",
    "# # Turn index lists into time arrays\n",
    "# start_times = (np.array(i_start) / ydiam.sampling_rate).rescale('s')\n",
    "# stop_times = (np.array(i_stop) / ydiam.sampling_rate).rescale('s')\n",
    "# durs = stop_times - start_times\n",
    "\n",
    "# # Convert into a pandas dataframe,\n",
    "# datadict = {'t_start': start_times.magnitude,\n",
    "#                 't_stop': stop_times.magnitude,\n",
    "#                 'dur': durs.magnitude,\n",
    "#                 'state': states}\n",
    "\n",
    "# epochs = pd.DataFrame(data=datadict)"
   ]
  },
  {
   "cell_type": "code",
   "execution_count": null,
   "metadata": {},
   "outputs": [],
   "source": []
  }
 ],
 "metadata": {
  "kernelspec": {
   "display_name": "voytek_f1",
   "language": "python",
   "name": "python3"
  },
  "language_info": {
   "codemirror_mode": {
    "name": "ipython",
    "version": 3
   },
   "file_extension": ".py",
   "mimetype": "text/x-python",
   "name": "python",
   "nbconvert_exporter": "python",
   "pygments_lexer": "ipython3",
   "version": "3.10.4"
  }
 },
 "nbformat": 4,
 "nbformat_minor": 2
}
