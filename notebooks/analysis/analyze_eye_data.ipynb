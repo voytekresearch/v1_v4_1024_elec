{
 "cells": [
  {
   "cell_type": "markdown",
   "metadata": {},
   "source": [
    "# Analyze eye signal data\n",
    "\n",
    "created: November 19, 2024 <br>\n",
    "last modified:  February 28, 2024\n",
    "\n",
    "Start by analyzing a downsampled version of eye data, then introduce full resolution eye data and compare resting state aperiodic activity in eyes open vs close and in specific timepoint when eyes closed become open (or viceversa)"
   ]
  },
  {
   "cell_type": "code",
   "execution_count": 1,
   "metadata": {},
   "outputs": [],
   "source": [
    "# Imports\n",
    "import neo\n",
    "import numpy as np\n",
    "import pandas as pd\n",
    "import quantities as pq\n",
    "import matplotlib.pyplot as plt\n",
    "from mne.time_frequency import psd_array_multitaper\n",
    "\n",
    "# custom\n",
    "import sys\n",
    "sys.path.append(\"../../code\")\n",
    "from info import FS\n",
    "from settings import N_JOBS\n",
    "from paths import EXTERNAL_PATH\n",
    "from utils import load_nix, epoch_neo_segment"
   ]
  },
  {
   "cell_type": "code",
   "execution_count": 2,
   "metadata": {},
   "outputs": [],
   "source": [
    "# set path\n",
    "eye_path = EXTERNAL_PATH + \"/V1_v4_1024_electrode_resting_state_data/data/L_RS_090817/eye_signals/\"\n",
    "\n",
    "lfp_path = EXTERNAL_PATH + \"/V1_v4_1024_electrode_resting_state_data/data/L_RS_090817/LFP/\""
   ]
  },
  {
   "cell_type": "markdown",
   "metadata": {},
   "source": [
    "### Analyze eye data\n",
    "Create new nix file containing behavioral states"
   ]
  },
  {
   "cell_type": "code",
   "execution_count": 17,
   "metadata": {},
   "outputs": [
    {
     "data": {
      "text/plain": [
       "Block with 1 segments\n",
       "name: 'Eye signals'\n",
       "description: 'eye position and diameters'\n",
       "annotations: {'nix_name': 'neo.block.4296992d060d4ee7b15db59fadc15740'}\n",
       "file_datetime: datetime.datetime(2021, 4, 19, 13, 5, 17, 913450)\n",
       "rec_datetime: datetime.datetime(2021, 4, 19, 6, 25, 32)\n",
       "# segments (N=1)\n",
       "0: Segment with 4 analogsignals, 1 epochs\n",
       "   name: 'eye signal segment'\n",
       "   description: 'Segment of eye pos and diam'\n",
       "   annotations: {'nix_name': 'neo.segment.c532f30c3a734eabae2418c49282dada'}\n",
       "   # analogsignals (N=4)\n",
       "   0: AnalogSignal with 1 channels of length 39627730; units mV; datatype int16 \n",
       "      name: 'XPos'\n",
       "      annotations: {'nix_name': 'neo.analogsignal.19582fa74cef491f8a907698b6ad6702'}\n",
       "      sampling rate: 30000.0 Hz\n",
       "      time: 0.0 s to 1320.9243333333334 s\n",
       "   1: AnalogSignal with 1 channels of length 39627730; units mV; datatype int16 \n",
       "      name: 'YPos'\n",
       "      annotations: {'nix_name': 'neo.analogsignal.62564a856339447fa99eb204ee0daddc'}\n",
       "      sampling rate: 30000.0 Hz\n",
       "      time: 0.0 s to 1320.9243333333334 s\n",
       "   2: AnalogSignal with 1 channels of length 39627730; units mV; datatype int16 \n",
       "      name: 'XDiam'\n",
       "      annotations: {'nix_name': 'neo.analogsignal.6ec6601136fb4b00be8f79bbf5e4ad78'}\n",
       "      sampling rate: 30000.0 Hz\n",
       "      time: 0.0 s to 1320.9243333333334 s\n",
       "   3: AnalogSignal with 1 channels of length 39627730; units mV; datatype int16 \n",
       "      name: 'YDiam'\n",
       "      annotations: {'nix_name': 'neo.analogsignal.abc9f6a97ab6401fb7a598b71f6ee986'}\n",
       "      sampling rate: 30000.0 Hz\n",
       "      time: 0.0 s to 1320.9243333333334 s"
      ]
     },
     "execution_count": 17,
     "metadata": {},
     "output_type": "execute_result"
    }
   ],
   "source": [
    "# Load data\n",
    "with neo.NixIO(eye_path + \"aligned_eye_data.nix\", mode='ro') as nio:\n",
    "    eye_block = nio.read_block()\n",
    "\n",
    "eye_block"
   ]
  },
  {
   "cell_type": "code",
   "execution_count": 18,
   "metadata": {},
   "outputs": [
    {
     "name": "stdout",
     "output_type": "stream",
     "text": [
      "Original datetime: 2021-04-19 06:25:32\n",
      "New datetime: None\n"
     ]
    }
   ],
   "source": [
    "# set datetime to None to avoid errors when saving\n",
    "# Neo Github issue: https://github.com/NeuralEnsemble/python-neo/issues/1198\n",
    "\n",
    "print(f\"Original datetime: {eye_block.rec_datetime}\")\n",
    "\n",
    "# set block and segment datetime to None\n",
    "eye_block.rec_datetime = None\n",
    "for segment in eye_block.segments:\n",
    "    segment.rec_datetime = None\n",
    "\n",
    "print(f\"New datetime: {eye_block.rec_datetime}\")\n"
   ]
  },
  {
   "cell_type": "code",
   "execution_count": 19,
   "metadata": {},
   "outputs": [
    {
     "name": "stdout",
     "output_type": "stream",
     "text": [
      "pupil diameter for every time point: (39627730, 1)\n"
     ]
    }
   ],
   "source": [
    "# access X and Y pupil diameter\n",
    "xdiam = eye_block.segments[0].analogsignals[2] / 1000\n",
    "ydiam = eye_block.segments[0].analogsignals[3] / 1000\n",
    "xdiam[xdiam < 0] = 0*pq.mV\n",
    "ydiam[ydiam < 0] = 0*pq.mV\n",
    "\n",
    "# we use .magnitude to access values\n",
    "diam = np.sqrt(ydiam.magnitude**2 + xdiam.magnitude**2)\n",
    "print(f\"pupil diameter for every time point: {diam.shape}\")"
   ]
  },
  {
   "cell_type": "code",
   "execution_count": 20,
   "metadata": {},
   "outputs": [],
   "source": [
    "### Estimate behavioural epochs\n",
    "\n",
    "# Empirically estimated thresholds for eye closure, according to Chen et al\n",
    "#   if 'L_RS_090817' in eye_path: thr = 0.101\n",
    "mask = (diam > 0.101)\n",
    "behavioral_state = mask.astype(float)[:, 0]\n",
    "\n",
    "# Smoothen states with sliding window\n",
    "w = 3\n",
    "kernel = [1/w]*w\n",
    "behavioral_state = np.convolve(behavioral_state, kernel, mode='same')\n",
    "behavioral_state[behavioral_state < 0.5] = 0\n",
    "behavioral_state[behavioral_state >= 0.5] = 1\n",
    "\n",
    "# Save signal to block\n",
    "behaviour_anasig = neo.core.AnalogSignal(behavioral_state,\n",
    "                                              units=pq.V,\n",
    "                                              sampling_rate=xdiam.sampling_rate,\n",
    "                                              name='Behavioural state')\n",
    "eye_block.segments[0].analogsignals.append(behaviour_anasig)"
   ]
  },
  {
   "cell_type": "code",
   "execution_count": 7,
   "metadata": {},
   "outputs": [
    {
     "name": "stdout",
     "output_type": "stream",
     "text": [
      "Eyes open or closed measured in binary: [0. 1.] \n",
      "eyes closed: 32473667 \n",
      "eyes open:7154063\n"
     ]
    }
   ],
   "source": [
    "unique, counts = np.unique(behavioral_state, return_counts=True)\n",
    "print(f\"Eyes open or closed measured in binary: {unique} \\neyes closed: {counts[0]} \\neyes open:{counts[1]}\")"
   ]
  },
  {
   "cell_type": "code",
   "execution_count": null,
   "metadata": {},
   "outputs": [
    {
     "data": {
      "text/plain": [
       "Segment with 5 analogsignals, 1 epochs\n",
       "name: 'eye signal segment'\n",
       "description: 'Segment of eye pos and diam'\n",
       "annotations: {'nix_name': 'neo.segment.c532f30c3a734eabae2418c49282dada'}\n",
       "# analogsignals (N=5)\n",
       "0: AnalogSignal with 1 channels of length 39627730; units mV; datatype int16 \n",
       "   name: 'XPos'\n",
       "   annotations: {'nix_name': 'neo.analogsignal.19582fa74cef491f8a907698b6ad6702'}\n",
       "   sampling rate: 30000.0 Hz\n",
       "   time: 0.0 s to 1320.9243333333334 s\n",
       "1: AnalogSignal with 1 channels of length 39627730; units mV; datatype int16 \n",
       "   name: 'YPos'\n",
       "   annotations: {'nix_name': 'neo.analogsignal.62564a856339447fa99eb204ee0daddc'}\n",
       "   sampling rate: 30000.0 Hz\n",
       "   time: 0.0 s to 1320.9243333333334 s\n",
       "2: AnalogSignal with 1 channels of length 39627730; units mV; datatype int16 \n",
       "   name: 'XDiam'\n",
       "   annotations: {'nix_name': 'neo.analogsignal.6ec6601136fb4b00be8f79bbf5e4ad78'}\n",
       "   sampling rate: 30000.0 Hz\n",
       "   time: 0.0 s to 1320.9243333333334 s\n",
       "3: AnalogSignal with 1 channels of length 39627730; units mV; datatype int16 \n",
       "   name: 'YDiam'\n",
       "   annotations: {'nix_name': 'neo.analogsignal.abc9f6a97ab6401fb7a598b71f6ee986'}\n",
       "   sampling rate: 30000.0 Hz\n",
       "   time: 0.0 s to 1320.9243333333334 s\n",
       "4: AnalogSignal with 1 channels of length 39627730; units V; datatype float64 \n",
       "   name: 'Behavioural state'\n",
       "   sampling rate: 30000.0 Hz\n",
       "   time: 0.0 s to 1320.9243333333334 s"
      ]
     },
     "execution_count": 26,
     "metadata": {},
     "output_type": "execute_result"
    }
   ],
   "source": [
    "# confirm that we have 5 analogsignals (our 4 original + behaviour)\n",
    "eye_block.segments[0]"
   ]
  },
  {
   "cell_type": "code",
   "execution_count": 25,
   "metadata": {},
   "outputs": [
    {
     "name": "stdout",
     "output_type": "stream",
     "text": [
      "Block saved to E:/V1_v4_1024_electrode_resting_state_data/data/L_RS_090817/eye_signals/L_RS_090817_aligned_eye_data.nix\n"
     ]
    }
   ],
   "source": [
    "# save file \n",
    "with neo.io.NixIO(eye_path + \"L_RS_090817_aligned_eye_data.nix\", mode='ow') as nio:\n",
    "    nio.write_block(eye_block)\n",
    "\n",
    "print(f\"Block saved to {eye_path}L_RS_090817_aligned_eye_data.nix\")"
   ]
  },
  {
   "cell_type": "markdown",
   "metadata": {},
   "source": [
    "## Plot time windows and load LFP data"
   ]
  },
  {
   "cell_type": "code",
   "execution_count": 3,
   "metadata": {},
   "outputs": [],
   "source": [
    "# load LFP and eye data \n",
    "fname = lfp_path + \"NSP1_array1_LFP.nix\"\n",
    "lfp_segment, _ = load_nix(fname)\n",
    "lfp_signal = lfp_segment.analogsignals[0]\n",
    "\n",
    "with neo.io.NixIO(eye_path + \"L_RS_090817_aligned_eye_data.nix\", mode='ro') as nio:\n",
    "    eye_block = nio.read_block()\n",
    "eye_signal = eye_block.segments[0].analogsignals[4]\n",
    "\n",
    "# # downsample eye signals to fit LFP\n",
    "# downsample_factor = int(pre_eye_signal.sampling_rate.magnitude / lfp_signal.sampling_rate.magnitude)\n",
    "# if downsample_factor == 60 :\n",
    "#     eye_signal = pre_eye_signal.downsample(downsample_factor)\n",
    "\n",
    "# if len(eye_signal) == len(lfp_signal):\n",
    "#     print(f\"Total values in signal: {len(lfp_signal)}\")"
   ]
  },
  {
   "cell_type": "code",
   "execution_count": 4,
   "metadata": {},
   "outputs": [
    {
     "name": "stdout",
     "output_type": "stream",
     "text": [
      "Segment duration: 0.0 s to 1320.926 s\n"
     ]
    }
   ],
   "source": [
    "print(f\"Segment duration: {lfp_segment.t_start} to {lfp_segment.t_stop}\")"
   ]
  },
  {
   "cell_type": "code",
   "execution_count": 5,
   "metadata": {},
   "outputs": [
    {
     "name": "stdout",
     "output_type": "stream",
     "text": [
      "Number of changes in behavioral states: 1102 \n",
      "Total time points: 39627730\n"
     ]
    }
   ],
   "source": [
    "# time indices where there is a change from eyes open to eyes closed\n",
    "eye_array = eye_signal.magnitude.flatten()\n",
    "wh = np.where(np.diff(eye_array) != 0)[0]\n",
    "print(f\"Number of changes in behavioral states: {wh.shape[0]} \\nTotal time points: {eye_array.shape[0]}\")"
   ]
  },
  {
   "cell_type": "code",
   "execution_count": 6,
   "metadata": {},
   "outputs": [
    {
     "name": "stdout",
     "output_type": "stream",
     "text": [
      "Number of changes in behavioral states with 1 seconds: 126\n"
     ]
    }
   ],
   "source": [
    "# find instances where the eyes are open/closed for 1sec duration and then 1sec of the other state\n",
    "DURATION = 1 # in seconds \n",
    "differences = np.diff(wh)\n",
    "\n",
    "epoch_times = np.array([])\n",
    "for i in np.where(differences >= DURATION*30000)[0]:\n",
    "    epoch_times = np.append(wh[i], epoch_times)\n",
    "\n",
    "epoch_times = np.sort(epoch_times)\n",
    "#epoch_times\n",
    "print(f\"Number of changes in behavioral states with {DURATION} seconds: {epoch_times.shape[0]}\")"
   ]
  },
  {
   "cell_type": "code",
   "execution_count": 61,
   "metadata": {},
   "outputs": [
    {
     "data": {
      "text/plain": [
       "array([0.5, 1. , 1.5, 2. , 2.5, 3. , 3.5, 4. , 4.5, 5. , 5.5, 6. ])"
      ]
     },
     "execution_count": 61,
     "metadata": {},
     "output_type": "execute_result"
    }
   ],
   "source": [
    "np.arange(0.5,6.5,0.5)"
   ]
  },
  {
   "cell_type": "code",
   "execution_count": 13,
   "metadata": {},
   "outputs": [
    {
     "name": "stdout",
     "output_type": "stream",
     "text": [
      "Number of changes in behavioral states with 0.5 seconds: 170\n",
      "Number of changes in behavioral states with 1.0 seconds: 126\n",
      "Number of changes in behavioral states with 1.5 seconds: 93\n",
      "Number of changes in behavioral states with 2.0 seconds: 79\n",
      "Number of changes in behavioral states with 2.5 seconds: 65\n",
      "Number of changes in behavioral states with 3.0 seconds: 54\n",
      "Number of changes in behavioral states with 3.5 seconds: 46\n",
      "Number of changes in behavioral states with 4.0 seconds: 38\n",
      "Number of changes in behavioral states with 4.5 seconds: 31\n",
      "Number of changes in behavioral states with 5.0 seconds: 27\n",
      "Number of changes in behavioral states with 5.5 seconds: 26\n",
      "Number of changes in behavioral states with 6.0 seconds: 24\n"
     ]
    }
   ],
   "source": [
    "DURATION_TIMES = np.arange(0.5,6.5,0.5)\n",
    "\n",
    "instances = np.array([])\n",
    "\n",
    "for t in DURATION_TIMES:\n",
    "    DURATION = t # in seconds \n",
    "    differences = np.diff(wh)\n",
    "\n",
    "    epoch_times = np.array([])\n",
    "    for i in np.where(differences >= DURATION*30000)[0]:\n",
    "        epoch_times = np.append(wh[i], epoch_times)\n",
    "\n",
    "    epoch_times = np.sort(epoch_times)\n",
    "    instances = np.append(instances, epoch_times.shape[0])\n",
    "\n",
    "    #epoch_times\n",
    "    print(f\"Number of changes in behavioral states with {DURATION} seconds: {epoch_times.shape[0]}\")\n",
    "        "
   ]
  },
  {
   "cell_type": "code",
   "execution_count": 27,
   "metadata": {},
   "outputs": [
    {
     "data": {
      "text/plain": [
       "Text(0, 0.5, 'Number of changes in behavior')"
      ]
     },
     "execution_count": 27,
     "metadata": {},
     "output_type": "execute_result"
    },
    {
     "data": {
      "image/png": "[encoded data removed]",
      "text/plain": [
       "<Figure size 640x480 with 1 Axes>"
      ]
     },
     "metadata": {},
     "output_type": "display_data"
    }
   ],
   "source": [
    "\n",
    "# plot function of change between set duration of behavioral state and number of changes in behavior for 1 RS session\n",
    "fig, ax = plt.subplots()\n",
    "\n",
    "ax.plot(DURATION_TIMES, instances, color=\"#F5466F\")\n",
    "ax.set_xlabel(\"Duration (s)\")\n",
    "ax.set_ylabel(\"Number of changes in behavior\")\n",
    "#ax.show()"
   ]
  },
  {
   "cell_type": "code",
   "execution_count": null,
   "metadata": {},
   "outputs": [
    {
     "data": {
      "text/plain": [
       "(779,)"
      ]
     },
     "execution_count": 29,
     "metadata": {},
     "output_type": "execute_result"
    }
   ],
   "source": [
    "\n",
    "DURATION = 3 # in seconds \n",
    "differences = np.diff(wh)\n",
    "\n",
    "epoch_times = np.array([])\n",
    "for i in np.where(differences >= DURATION*30000)[0]:\n",
    "    epoch_times = np.append(wh[i], epoch_times)\n",
    "\n",
    "epoch_times = np.sort(epoch_times)\n",
    "instances = np.concatenate((instances, epoch_times), axis=0)\n",
    "\n",
    "#epoch_times\n",
    "#print(f\"Number of changes in behavioral states with {DURATION} seconds: {epoch_times.shape[0]}\")\n",
    "instances.shape\n",
    "        "
   ]
  },
  {
   "cell_type": "code",
   "execution_count": null,
   "metadata": {},
   "outputs": [],
   "source": []
  },
  {
   "cell_type": "markdown",
   "metadata": {},
   "source": [
    "### ***deprecated"
   ]
  },
  {
   "cell_type": "code",
   "execution_count": null,
   "metadata": {},
   "outputs": [
    {
     "data": {
      "text/plain": [
       "True"
      ]
     },
     "execution_count": 17,
     "metadata": {},
     "output_type": "execute_result"
    }
   ],
   "source": [
    "# downsample eye signals to fit LFP\n",
    "downsample_factor = int(eye_signal.sampling_rate.magnitude / lfp_signal.sampling_rate.magnitude)\n",
    "if downsample_factor == 60 :\n",
    "    downsample_eye = eye_signal.downsample(downsample_factor)"
   ]
  },
  {
   "cell_type": "code",
   "execution_count": null,
   "metadata": {},
   "outputs": [],
   "source": [
    "# define function for when creating the epoch object\n",
    "def get_mean_state(diam):\n",
    "    if np.sum(diam <= 0.5) > np.sum(diam > 0.5):\n",
    "        state = 'Closed_eyes'\n",
    "    else:\n",
    "        state = 'Open_eyes'\n",
    "    return state"
   ]
  },
  {
   "cell_type": "code",
   "execution_count": null,
   "metadata": {},
   "outputs": [
    {
     "data": {
      "text/plain": [
       "AnalogSignal with 1 channels of length 39627730; units V; datatype float64 \n",
       "name: 'Behavioural state'\n",
       "annotations: {'nix_name': 'neo.analogsignal.6dcd4242b0ad425ea2b787dbf5fc1357'}\n",
       "sampling rate: 30000.0 Hz\n",
       "time: 0.0 s to 1320.9243333333334 s"
      ]
     },
     "execution_count": 41,
     "metadata": {},
     "output_type": "execute_result"
    }
   ],
   "source": [
    "## create epoch object\n",
    "wh = np.where(np.diff(behavioral_state) != 0)[0]\n",
    "wh.shape\n",
    "#start_time = wh - (duration/2)\n",
    "# edgeindex = [0] + wh.tolist() + [len(behavioural_state)]\n",
    "\n",
    "# # initialise with first slice\n",
    "# i_start = [edgeindex[0]]\n",
    "# i_stop = [edgeindex[1]]\n",
    "# states = [get_mean_state(behavioural_state[edgeindex[0]:edgeindex[1]])]\n",
    "# # Loop over indices, assign states and merge consecutive same-state slices\n",
    "# for startidx, stopidx in zip(edgeindex[1:-1], edgeindex[2:]):\n",
    "#     nextstate = get_mean_state(behavioural_state[startidx:stopidx])\n",
    "#     if nextstate == states[-1]:\n",
    "#         i_stop[-1] = stopidx\n",
    "#     else:\n",
    "#         i_start.append(startidx)\n",
    "#         i_stop.append(stopidx)\n",
    "#         states.append(nextstate)\n",
    "\n",
    "# # Turn index lists into time arrays\n",
    "# start_times = (np.array(i_start) / ydiam.sampling_rate).rescale('s')\n",
    "# stop_times = (np.array(i_stop) / ydiam.sampling_rate).rescale('s')\n",
    "# durs = stop_times - start_times\n",
    "\n",
    "# # Convert into a pandas dataframe,\n",
    "# datadict = {'t_start': start_times.magnitude,\n",
    "#                 't_stop': stop_times.magnitude,\n",
    "#                 'dur': durs.magnitude,\n",
    "#                 'state': states}\n",
    "\n",
    "# epochs = pd.DataFrame(data=datadict)"
   ]
  },
  {
   "cell_type": "code",
   "execution_count": null,
   "metadata": {},
   "outputs": [],
   "source": []
  }
 ],
 "metadata": {
  "kernelspec": {
   "display_name": "voytek_f1",
   "language": "python",
   "name": "python3"
  },
  "language_info": {
   "codemirror_mode": {
    "name": "ipython",
    "version": 3
   },
   "file_extension": ".py",
   "mimetype": "text/x-python",
   "name": "python",
   "nbconvert_exporter": "python",
   "pygments_lexer": "ipython3",
   "version": "3.10.4"
  }
 },
 "nbformat": 4,
 "nbformat_minor": 2
}
