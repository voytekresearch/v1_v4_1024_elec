{
 "cells": [
  {
   "cell_type": "markdown",
   "metadata": {},
   "source": [
    "# Analyze eye signal data\n",
    "\n",
    "created: November 19, 2024 <br>\n",
    "last modified:  February 11, 2024\n",
    "\n",
    "Start by analyzing a downsampled version of eye data, then introduce full resolution eye data and compare resting state aperiodic activity in eyes open vs close and in specific timepoint when eyes closed become open (or viceversa)"
   ]
  },
  {
   "cell_type": "code",
   "execution_count": null,
   "metadata": {},
   "outputs": [],
   "source": [
    "# Imports\n",
    "import neo\n",
    "import numpy as np\n",
    "import pandas as pd\n",
    "import nixio\n",
    "import quantities as pq\n",
    "import matplotlib.pyplot as plt\n",
    "\n",
    "# custom\n",
    "import sys\n",
    "sys.path.append(\"../../code\")\n",
    "from paths import EXTERNAL_PATH"
   ]
  },
  {
   "cell_type": "code",
   "execution_count": 2,
   "metadata": {},
   "outputs": [],
   "source": [
    "# set path\n",
    "eye_path = EXTERNAL_PATH + \"/V1_v4_1024_electrode_resting_state_data/data/L_RS_090817/eye_signals/\""
   ]
  },
  {
   "cell_type": "code",
   "execution_count": 3,
   "metadata": {},
   "outputs": [
    {
     "data": {
      "text/plain": [
       "Block with 1 segments\n",
       "name: 'Eye signals'\n",
       "description: 'eye position and diameters'\n",
       "annotations: {'nix_name': 'neo.block.4296992d060d4ee7b15db59fadc15740'}\n",
       "file_datetime: datetime.datetime(2021, 4, 19, 13, 5, 17, 913450)\n",
       "rec_datetime: datetime.datetime(2021, 4, 19, 6, 25, 32)\n",
       "# segments (N=1)\n",
       "0: Segment with 4 analogsignals, 1 epochs\n",
       "   name: 'eye signal segment'\n",
       "   description: 'Segment of eye pos and diam'\n",
       "   annotations: {'nix_name': 'neo.segment.c532f30c3a734eabae2418c49282dada'}\n",
       "   # analogsignals (N=4)\n",
       "   0: AnalogSignal with 1 channels of length 39627730; units mV; datatype int16 \n",
       "      name: 'XPos'\n",
       "      annotations: {'nix_name': 'neo.analogsignal.19582fa74cef491f8a907698b6ad6702'}\n",
       "      sampling rate: 30000.0 Hz\n",
       "      time: 0.0 s to 1320.9243333333334 s\n",
       "   1: AnalogSignal with 1 channels of length 39627730; units mV; datatype int16 \n",
       "      name: 'YPos'\n",
       "      annotations: {'nix_name': 'neo.analogsignal.62564a856339447fa99eb204ee0daddc'}\n",
       "      sampling rate: 30000.0 Hz\n",
       "      time: 0.0 s to 1320.9243333333334 s\n",
       "   2: AnalogSignal with 1 channels of length 39627730; units mV; datatype int16 \n",
       "      name: 'XDiam'\n",
       "      annotations: {'nix_name': 'neo.analogsignal.6ec6601136fb4b00be8f79bbf5e4ad78'}\n",
       "      sampling rate: 30000.0 Hz\n",
       "      time: 0.0 s to 1320.9243333333334 s\n",
       "   3: AnalogSignal with 1 channels of length 39627730; units mV; datatype int16 \n",
       "      name: 'YDiam'\n",
       "      annotations: {'nix_name': 'neo.analogsignal.abc9f6a97ab6401fb7a598b71f6ee986'}\n",
       "      sampling rate: 30000.0 Hz\n",
       "      time: 0.0 s to 1320.9243333333334 s"
      ]
     },
     "execution_count": 3,
     "metadata": {},
     "output_type": "execute_result"
    }
   ],
   "source": [
    "# Load data\n",
    "with neo.NixIO(eye_path + \"aligned_eye_data.nix\", mode='ro') as nio:\n",
    "    block = nio.read_block()\n",
    "\n",
    "block"
   ]
  },
  {
   "cell_type": "code",
   "execution_count": 4,
   "metadata": {},
   "outputs": [
    {
     "name": "stdout",
     "output_type": "stream",
     "text": [
      "Original datetime: 2021-04-19 06:25:32\n",
      "New datetime: None\n"
     ]
    }
   ],
   "source": [
    "# set datetime to None to avoid errors when saving\n",
    "# Neo Github issue: https://github.com/NeuralEnsemble/python-neo/issues/1198\n",
    "\n",
    "print(f\"Original datetime: {block.rec_datetime}\")\n",
    "\n",
    "# set block and segment datetime to None\n",
    "block.rec_datetime = None\n",
    "for segment in block.segments:\n",
    "    segment.rec_datetime = None\n",
    "\n",
    "print(f\"New datetime: {block.rec_datetime}\")\n"
   ]
  },
  {
   "cell_type": "code",
   "execution_count": 5,
   "metadata": {},
   "outputs": [],
   "source": [
    "# with neo.io.NixIO(eye_path + \"L_RS_090817_aligned_eye_data.nix\", mode='ow') as nio:\n",
    "#     nio.write_block(block)\n",
    "\n",
    "# print(f\"Block saved to {eye_path}L_RS_090817_aligned_eye_data.nix\")"
   ]
  },
  {
   "cell_type": "code",
   "execution_count": 9,
   "metadata": {},
   "outputs": [
    {
     "name": "stdout",
     "output_type": "stream",
     "text": [
      "pupil diameter for every time point: (39627730, 1)\n"
     ]
    }
   ],
   "source": [
    "# [0] for xpos and [1] for ypos\n",
    "xdiam = block.segments[0].analogsignals[2] / 1000\n",
    "ydiam = block.segments[0].analogsignals[3] / 1000\n",
    "xdiam[xdiam < 0] = 0*pq.mV\n",
    "ydiam[ydiam < 0] = 0*pq.mV\n",
    "\n",
    "# we use .magnitude to access values\n",
    "diam = np.sqrt(ydiam.magnitude**2 + xdiam.magnitude**2)\n",
    "print(f\"pupil diameter for every time point: {diam.shape}\")"
   ]
  },
  {
   "cell_type": "code",
   "execution_count": 10,
   "metadata": {},
   "outputs": [],
   "source": [
    "### Estimate behavioural epochs\n",
    "# Empirically estimated thresholds for eye closure, according to Chen et al\n",
    "#   if 'L_RS_090817' in eye_path: thr = 0.101\n",
    "\n",
    "mask = (diam > 0.101)\n",
    "behavioural_state = mask.astype(float)[:, 0]\n",
    "behaviour_anasig = neo.core.AnalogSignal(behavioural_state,\n",
    "                                              units=pq.V,\n",
    "                                              sampling_rate=xdiam.sampling_rate,\n",
    "                                              name='Behavioural state')\n",
    "block.segments[0].analogsignals.append(behaviour_anasig)\n",
    "\n",
    "### Smoothen states with sliding window\n",
    "w = 3\n",
    "kernel = [1/w]*w\n",
    "behavioural_state = np.convolve(behavioural_state, kernel, mode='same')\n",
    "behavioural_state[behavioural_state < 0.5] = 0\n",
    "behavioural_state[behavioural_state >= 0.5] = 1"
   ]
  },
  {
   "cell_type": "code",
   "execution_count": 11,
   "metadata": {},
   "outputs": [
    {
     "name": "stdout",
     "output_type": "stream",
     "text": [
      "Eyes open or closed measured in binary: [0. 1.] \n",
      "eyes closed: 32473667 \n",
      "eyes open:7154063\n"
     ]
    }
   ],
   "source": [
    "unique, counts = np.unique(behavioural_state, return_counts=True)\n",
    "print(f\"Eyes open or closed measured in binary: {unique} \\neyes closed: {counts[0]} \\neyes open:{counts[1]}\")"
   ]
  },
  {
   "cell_type": "code",
   "execution_count": 19,
   "metadata": {},
   "outputs": [
    {
     "data": {
      "text/html": [
       "<div>\n",
       "<style scoped>\n",
       "    .dataframe tbody tr th:only-of-type {\n",
       "        vertical-align: middle;\n",
       "    }\n",
       "\n",
       "    .dataframe tbody tr th {\n",
       "        vertical-align: top;\n",
       "    }\n",
       "\n",
       "    .dataframe thead th {\n",
       "        text-align: right;\n",
       "    }\n",
       "</style>\n",
       "<table border=\"1\" class=\"dataframe\">\n",
       "  <thead>\n",
       "    <tr style=\"text-align: right;\">\n",
       "      <th></th>\n",
       "      <th>state</th>\n",
       "      <th>behavioural_state</th>\n",
       "      <th>diam</th>\n",
       "    </tr>\n",
       "  </thead>\n",
       "  <tbody>\n",
       "    <tr>\n",
       "      <th>87947</th>\n",
       "      <td>0.0</td>\n",
       "      <td>closed</td>\n",
       "      <td>0.0</td>\n",
       "    </tr>\n",
       "    <tr>\n",
       "      <th>87948</th>\n",
       "      <td>0.0</td>\n",
       "      <td>closed</td>\n",
       "      <td>0.0</td>\n",
       "    </tr>\n",
       "    <tr>\n",
       "      <th>87949</th>\n",
       "      <td>0.0</td>\n",
       "      <td>closed</td>\n",
       "      <td>0.0</td>\n",
       "    </tr>\n",
       "    <tr>\n",
       "      <th>87950</th>\n",
       "      <td>0.0</td>\n",
       "      <td>closed</td>\n",
       "      <td>0.0</td>\n",
       "    </tr>\n",
       "    <tr>\n",
       "      <th>87951</th>\n",
       "      <td>0.0</td>\n",
       "      <td>closed</td>\n",
       "      <td>0.0</td>\n",
       "    </tr>\n",
       "    <tr>\n",
       "      <th>...</th>\n",
       "      <td>...</td>\n",
       "      <td>...</td>\n",
       "      <td>...</td>\n",
       "    </tr>\n",
       "    <tr>\n",
       "      <th>39592814</th>\n",
       "      <td>0.0</td>\n",
       "      <td>closed</td>\n",
       "      <td>0.0</td>\n",
       "    </tr>\n",
       "    <tr>\n",
       "      <th>39592815</th>\n",
       "      <td>0.0</td>\n",
       "      <td>closed</td>\n",
       "      <td>0.0</td>\n",
       "    </tr>\n",
       "    <tr>\n",
       "      <th>39592816</th>\n",
       "      <td>0.0</td>\n",
       "      <td>closed</td>\n",
       "      <td>0.0</td>\n",
       "    </tr>\n",
       "    <tr>\n",
       "      <th>39592817</th>\n",
       "      <td>0.0</td>\n",
       "      <td>closed</td>\n",
       "      <td>0.0</td>\n",
       "    </tr>\n",
       "    <tr>\n",
       "      <th>39592818</th>\n",
       "      <td>0.0</td>\n",
       "      <td>closed</td>\n",
       "      <td>0.0</td>\n",
       "    </tr>\n",
       "  </tbody>\n",
       "</table>\n",
       "<p>32473667 rows × 3 columns</p>\n",
       "</div>"
      ],
      "text/plain": [
       "          state behavioural_state  diam\n",
       "87947       0.0            closed   0.0\n",
       "87948       0.0            closed   0.0\n",
       "87949       0.0            closed   0.0\n",
       "87950       0.0            closed   0.0\n",
       "87951       0.0            closed   0.0\n",
       "...         ...               ...   ...\n",
       "39592814    0.0            closed   0.0\n",
       "39592815    0.0            closed   0.0\n",
       "39592816    0.0            closed   0.0\n",
       "39592817    0.0            closed   0.0\n",
       "39592818    0.0            closed   0.0\n",
       "\n",
       "[32473667 rows x 3 columns]"
      ]
     },
     "execution_count": 19,
     "metadata": {},
     "output_type": "execute_result"
    }
   ],
   "source": [
    "# create behavioural state df\n",
    "eyes = pd.DataFrame()\n",
    "eyes['state'] = behavioural_state\n",
    "eyes['behavioural_state'] = list(map(lambda x: 'open' if x == 1 else 'closed', behavioural_state))\n",
    "eyes['diam'] = diam\n",
    "\n",
    "# test if behavioural labels have been applied correctly\n",
    "eyes[eyes['behavioural_state'] == 'closed']"
   ]
  },
  {
   "cell_type": "code",
   "execution_count": 20,
   "metadata": {},
   "outputs": [],
   "source": [
    "# define function for when creating the epoch object\n",
    "def get_mean_state(diam):\n",
    "    if np.sum(diam <= 0.5) > np.sum(diam > 0.5):\n",
    "        state = 'Closed_eyes'\n",
    "    else:\n",
    "        state = 'Open_eyes'\n",
    "    return state"
   ]
  },
  {
   "cell_type": "code",
   "execution_count": 21,
   "metadata": {},
   "outputs": [],
   "source": [
    "## create epoch object\n",
    "wh = np.where(np.diff(behavioural_state) != 0)[0]\n",
    "edgeindex = [0] + wh.tolist() + [len(behavioural_state)]\n",
    "\n",
    "# initialise with first slice\n",
    "i_start = [edgeindex[0]]\n",
    "i_stop = [edgeindex[1]]\n",
    "states = [get_mean_state(behavioural_state[edgeindex[0]:edgeindex[1]])]\n",
    "# Loop over indices, assign states and merge consecutive same-state slices\n",
    "for startidx, stopidx in zip(edgeindex[1:-1], edgeindex[2:]):\n",
    "    nextstate = get_mean_state(behavioural_state[startidx:stopidx])\n",
    "    if nextstate == states[-1]:\n",
    "        i_stop[-1] = stopidx\n",
    "    else:\n",
    "        i_start.append(startidx)\n",
    "        i_stop.append(stopidx)\n",
    "        states.append(nextstate)\n",
    "\n",
    "# Turn index lists into time arrays\n",
    "start_times = (np.array(i_start) / ydiam.sampling_rate).rescale('s')\n",
    "stop_times = (np.array(i_stop) / ydiam.sampling_rate).rescale('s')\n",
    "durs = stop_times - start_times\n",
    "\n",
    "# Convert into a pandas dataframe,\n",
    "datadict = {'t_start': start_times.magnitude,\n",
    "                't_stop': stop_times.magnitude,\n",
    "                'dur': durs.magnitude,\n",
    "                'state': states}\n",
    "\n",
    "epochs = pd.DataFrame(data=datadict)"
   ]
  },
  {
   "cell_type": "code",
   "execution_count": 22,
   "metadata": {},
   "outputs": [
    {
     "data": {
      "text/html": [
       "<div>\n",
       "<style scoped>\n",
       "    .dataframe tbody tr th:only-of-type {\n",
       "        vertical-align: middle;\n",
       "    }\n",
       "\n",
       "    .dataframe tbody tr th {\n",
       "        vertical-align: top;\n",
       "    }\n",
       "\n",
       "    .dataframe thead th {\n",
       "        text-align: right;\n",
       "    }\n",
       "</style>\n",
       "<table border=\"1\" class=\"dataframe\">\n",
       "  <thead>\n",
       "    <tr style=\"text-align: right;\">\n",
       "      <th></th>\n",
       "      <th>t_start</th>\n",
       "      <th>t_stop</th>\n",
       "      <th>dur</th>\n",
       "      <th>state</th>\n",
       "    </tr>\n",
       "  </thead>\n",
       "  <tbody>\n",
       "    <tr>\n",
       "      <th>0</th>\n",
       "      <td>0.000000</td>\n",
       "      <td>2.931533</td>\n",
       "      <td>2.931533</td>\n",
       "      <td>Open_eyes</td>\n",
       "    </tr>\n",
       "    <tr>\n",
       "      <th>1</th>\n",
       "      <td>2.931533</td>\n",
       "      <td>4.317033</td>\n",
       "      <td>1.385500</td>\n",
       "      <td>Closed_eyes</td>\n",
       "    </tr>\n",
       "    <tr>\n",
       "      <th>2</th>\n",
       "      <td>4.317033</td>\n",
       "      <td>7.983133</td>\n",
       "      <td>3.666100</td>\n",
       "      <td>Open_eyes</td>\n",
       "    </tr>\n",
       "    <tr>\n",
       "      <th>3</th>\n",
       "      <td>7.983133</td>\n",
       "      <td>8.172400</td>\n",
       "      <td>0.189267</td>\n",
       "      <td>Closed_eyes</td>\n",
       "    </tr>\n",
       "    <tr>\n",
       "      <th>4</th>\n",
       "      <td>8.172400</td>\n",
       "      <td>8.430667</td>\n",
       "      <td>0.258267</td>\n",
       "      <td>Open_eyes</td>\n",
       "    </tr>\n",
       "    <tr>\n",
       "      <th>...</th>\n",
       "      <td>...</td>\n",
       "      <td>...</td>\n",
       "      <td>...</td>\n",
       "      <td>...</td>\n",
       "    </tr>\n",
       "    <tr>\n",
       "      <th>1098</th>\n",
       "      <td>1318.439600</td>\n",
       "      <td>1318.448233</td>\n",
       "      <td>0.008633</td>\n",
       "      <td>Open_eyes</td>\n",
       "    </tr>\n",
       "    <tr>\n",
       "      <th>1099</th>\n",
       "      <td>1318.448233</td>\n",
       "      <td>1319.579900</td>\n",
       "      <td>1.131667</td>\n",
       "      <td>Closed_eyes</td>\n",
       "    </tr>\n",
       "    <tr>\n",
       "      <th>1100</th>\n",
       "      <td>1319.579900</td>\n",
       "      <td>1319.743367</td>\n",
       "      <td>0.163467</td>\n",
       "      <td>Open_eyes</td>\n",
       "    </tr>\n",
       "    <tr>\n",
       "      <th>1101</th>\n",
       "      <td>1319.743367</td>\n",
       "      <td>1319.760600</td>\n",
       "      <td>0.017233</td>\n",
       "      <td>Closed_eyes</td>\n",
       "    </tr>\n",
       "    <tr>\n",
       "      <th>1102</th>\n",
       "      <td>1319.760600</td>\n",
       "      <td>1320.924333</td>\n",
       "      <td>1.163733</td>\n",
       "      <td>Open_eyes</td>\n",
       "    </tr>\n",
       "  </tbody>\n",
       "</table>\n",
       "<p>1103 rows × 4 columns</p>\n",
       "</div>"
      ],
      "text/plain": [
       "          t_start       t_stop       dur        state\n",
       "0        0.000000     2.931533  2.931533    Open_eyes\n",
       "1        2.931533     4.317033  1.385500  Closed_eyes\n",
       "2        4.317033     7.983133  3.666100    Open_eyes\n",
       "3        7.983133     8.172400  0.189267  Closed_eyes\n",
       "4        8.172400     8.430667  0.258267    Open_eyes\n",
       "...           ...          ...       ...          ...\n",
       "1098  1318.439600  1318.448233  0.008633    Open_eyes\n",
       "1099  1318.448233  1319.579900  1.131667  Closed_eyes\n",
       "1100  1319.579900  1319.743367  0.163467    Open_eyes\n",
       "1101  1319.743367  1319.760600  0.017233  Closed_eyes\n",
       "1102  1319.760600  1320.924333  1.163733    Open_eyes\n",
       "\n",
       "[1103 rows x 4 columns]"
      ]
     },
     "execution_count": 22,
     "metadata": {},
     "output_type": "execute_result"
    }
   ],
   "source": [
    "epochs"
   ]
  },
  {
   "cell_type": "code",
   "execution_count": 26,
   "metadata": {},
   "outputs": [
    {
     "data": {
      "text/plain": [
       "Segment with 5 analogsignals, 1 epochs\n",
       "name: 'eye signal segment'\n",
       "description: 'Segment of eye pos and diam'\n",
       "annotations: {'nix_name': 'neo.segment.c532f30c3a734eabae2418c49282dada'}\n",
       "# analogsignals (N=5)\n",
       "0: AnalogSignal with 1 channels of length 39627730; units mV; datatype int16 \n",
       "   name: 'XPos'\n",
       "   annotations: {'nix_name': 'neo.analogsignal.19582fa74cef491f8a907698b6ad6702'}\n",
       "   sampling rate: 30000.0 Hz\n",
       "   time: 0.0 s to 1320.9243333333334 s\n",
       "1: AnalogSignal with 1 channels of length 39627730; units mV; datatype int16 \n",
       "   name: 'YPos'\n",
       "   annotations: {'nix_name': 'neo.analogsignal.62564a856339447fa99eb204ee0daddc'}\n",
       "   sampling rate: 30000.0 Hz\n",
       "   time: 0.0 s to 1320.9243333333334 s\n",
       "2: AnalogSignal with 1 channels of length 39627730; units mV; datatype int16 \n",
       "   name: 'XDiam'\n",
       "   annotations: {'nix_name': 'neo.analogsignal.6ec6601136fb4b00be8f79bbf5e4ad78'}\n",
       "   sampling rate: 30000.0 Hz\n",
       "   time: 0.0 s to 1320.9243333333334 s\n",
       "3: AnalogSignal with 1 channels of length 39627730; units mV; datatype int16 \n",
       "   name: 'YDiam'\n",
       "   annotations: {'nix_name': 'neo.analogsignal.abc9f6a97ab6401fb7a598b71f6ee986'}\n",
       "   sampling rate: 30000.0 Hz\n",
       "   time: 0.0 s to 1320.9243333333334 s\n",
       "4: AnalogSignal with 1 channels of length 39627730; units V; datatype float64 \n",
       "   name: 'Behavioural state'\n",
       "   sampling rate: 30000.0 Hz\n",
       "   time: 0.0 s to 1320.9243333333334 s"
      ]
     },
     "execution_count": 26,
     "metadata": {},
     "output_type": "execute_result"
    }
   ],
   "source": [
    "# confirm that we have 5 analogsignals (our 4 original + behaviour)\n",
    "block.segments[0]"
   ]
  },
  {
   "cell_type": "code",
   "execution_count": 23,
   "metadata": {},
   "outputs": [
    {
     "name": "stdout",
     "output_type": "stream",
     "text": [
      "Block saved to E:/V1_v4_1024_electrode_resting_state_data/data/L_RS_090817/eye_signals/L_RS_090817_aligned_eye_data.nix\n"
     ]
    }
   ],
   "source": [
    "# save file \n",
    "with neo.io.NixIO(eye_path + \"L_RS_090817_aligned_eye_data.nix\", mode='ow') as nio:\n",
    "    nio.write_block(block)\n",
    "\n",
    "print(f\"Block saved to {eye_path}L_RS_090817_aligned_eye_data.nix\")"
   ]
  }
 ],
 "metadata": {
  "kernelspec": {
   "display_name": "voytek_f1",
   "language": "python",
   "name": "python3"
  },
  "language_info": {
   "codemirror_mode": {
    "name": "ipython",
    "version": 3
   },
   "file_extension": ".py",
   "mimetype": "text/x-python",
   "name": "python",
   "nbconvert_exporter": "python",
   "pygments_lexer": "ipython3",
   "version": "3.10.4"
  }
 },
 "nbformat": 4,
 "nbformat_minor": 2
}
