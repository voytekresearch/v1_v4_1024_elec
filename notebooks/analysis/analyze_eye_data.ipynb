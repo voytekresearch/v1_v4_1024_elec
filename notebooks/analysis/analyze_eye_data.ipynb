{
 "cells": [
  {
   "cell_type": "markdown",
   "metadata": {},
   "source": [
    "# Analyze eye signal data\n",
    "\n",
    "created: November 19, 2024 <br>\n",
    "last modified:  November 19, 2024"
   ]
  },
  {
   "cell_type": "code",
   "execution_count": 23,
   "metadata": {},
   "outputs": [],
   "source": [
    "# Imports\n",
    "import neo\n",
    "import numpy as np\n",
    "\n",
    "# custom\n",
    "import sys\n",
    "sys.path.append(\"../../code\")\n",
    "from utils import load_nix, epoch_neo_segment\n",
    "from paths import PROJECT_PATH, EXTERNAL_PATH"
   ]
  },
  {
   "cell_type": "code",
   "execution_count": null,
   "metadata": {},
   "outputs": [
    {
     "data": {
      "text/plain": [
       "'E:/1_v4_1024_electrode_resting_state_data/data/L_SNR_250717/LFP/NSP1_array1_LFP.nix'"
      ]
     },
     "execution_count": 20,
     "metadata": {},
     "output_type": "execute_result"
    }
   ],
   "source": [
    "# pick exmaple nix file\n",
    "eye_path = EXTERNAL_PATH + \"/V1_v4_1024_electrode_resting_state_data/data/A_RS_140819/eye_signals/A_RS_140819_aligned_eye_data_downsampled_1Hz.nix\""
   ]
  },
  {
   "cell_type": "code",
   "execution_count": null,
   "metadata": {},
   "outputs": [],
   "source": [
    "# Load data\n",
    "with neo.NixIO(eye_path, mode='ro') as nio:\n",
    "    block = nio.read_block()\n",
    "\n",
    "epc = block.segments[0].epochs[0]\n",
    "\n",
    "xdiam = block.segments[0].analogsignals[2]\n",
    "ydiam = block.segments[0].analogsignals[3]\n",
    "diam = np.sqrt(xdiam.magnitude**2 + ydiam.magnitude**2)\n",
    "\n",
    "behavioural_state = block.segments[0].analogsignals[4].magnitude[:, 0]"
   ]
  },
  {
   "cell_type": "code",
   "execution_count": null,
   "metadata": {},
   "outputs": [
    {
     "name": "stdout",
     "output_type": "stream",
     "text": [
      "Eys open or closed measured in binary: [0. 1.] \n",
      "eyes closed: 55 \n",
      "eyes open:1900\n"
     ]
    }
   ],
   "source": [
    "unique, counts = np.unique(behavioural_state, return_counts=True)\n",
    "print(f\"Eys open or closed measured in binary: {unique} \\neyes closed: {counts[0]} \\neyes open:{counts[1]}\")"
   ]
  },
  {
   "cell_type": "code",
   "execution_count": 31,
   "metadata": {},
   "outputs": [
    {
     "data": {
      "text/plain": [
       "(1955, 1)"
      ]
     },
     "execution_count": 31,
     "metadata": {},
     "output_type": "execute_result"
    }
   ],
   "source": [
    "diam.shape"
   ]
  },
  {
   "cell_type": "code",
   "execution_count": null,
   "metadata": {},
   "outputs": [
    {
     "data": {
      "text/plain": [
       "array([[1.37118032],\n",
       "       [3.13103111],\n",
       "       [2.76267584],\n",
       "       ...,\n",
       "       [2.95202915],\n",
       "       [2.9134944 ],\n",
       "       [2.87576036]])"
      ]
     },
     "execution_count": 32,
     "metadata": {},
     "output_type": "execute_result"
    }
   ],
   "source": [
    "# pupil diameter (mm)\n",
    "diam"
   ]
  },
  {
   "cell_type": "code",
   "execution_count": null,
   "metadata": {},
   "outputs": [],
   "source": []
  }
 ],
 "metadata": {
  "kernelspec": {
   "display_name": "voytek_f1",
   "language": "python",
   "name": "python3"
  },
  "language_info": {
   "codemirror_mode": {
    "name": "ipython",
    "version": 3
   },
   "file_extension": ".py",
   "mimetype": "text/x-python",
   "name": "python",
   "nbconvert_exporter": "python",
   "pygments_lexer": "ipython3",
   "version": "3.10.4"
  }
 },
 "nbformat": 4,
 "nbformat_minor": 2
}
