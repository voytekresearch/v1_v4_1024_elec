{
 "cells": [
  {
   "cell_type": "markdown",
   "metadata": {},
   "source": [
    "## Analyze periodic spectral params "
   ]
  },
  {
   "cell_type": "markdown",
   "metadata": {},
   "source": [
    "### Settings"
   ]
  },
  {
   "cell_type": "code",
   "execution_count": 1,
   "metadata": {},
   "outputs": [],
   "source": [
    "# Define paths\n",
    "PROJECT_PATH = r'G:\\Shared drives\\v1_v4_1024'\n",
    "\n",
    "# Imports\n",
    "import pandas as pd\n",
    "import matplotlib.pyplot as plt"
   ]
  },
  {
   "cell_type": "markdown",
   "metadata": {},
   "source": [
    "### Load data"
   ]
  },
  {
   "cell_type": "code",
   "execution_count": 2,
   "metadata": {},
   "outputs": [],
   "source": [
    "# load LFP spectral params results by bands\n",
    "results = pd.read_csv(fr\"{PROJECT_PATH}\\data\\results\\lfp_spectral_params_bands.csv\", index_col=0)"
   ]
  },
  {
   "cell_type": "markdown",
   "metadata": {},
   "source": [
    "### Compute stimulus-evoked change in periodic params"
   ]
  },
  {
   "cell_type": "code",
   "execution_count": 3,
   "metadata": {},
   "outputs": [],
   "source": [
    "# split into two dataframes (enconding and baseline)\n",
    "results_pre = results.loc[results[\"epoch\"]==\"pre\"]\n",
    "results_post = results.loc[results[\"epoch\"]==\"post\"]"
   ]
  },
  {
   "cell_type": "code",
   "execution_count": 4,
   "metadata": {},
   "outputs": [
    {
     "data": {
      "text/html": [
       "<div>\n",
       "<style scoped>\n",
       "    .dataframe tbody tr th:only-of-type {\n",
       "        vertical-align: middle;\n",
       "    }\n",
       "\n",
       "    .dataframe tbody tr th {\n",
       "        vertical-align: top;\n",
       "    }\n",
       "\n",
       "    .dataframe thead th {\n",
       "        text-align: right;\n",
       "    }\n",
       "</style>\n",
       "<table border=\"1\" class=\"dataframe\">\n",
       "  <thead>\n",
       "    <tr style=\"text-align: right;\">\n",
       "      <th></th>\n",
       "      <th>session</th>\n",
       "      <th>channel</th>\n",
       "      <th>chan_idx</th>\n",
       "      <th>array</th>\n",
       "      <th>offset_post</th>\n",
       "      <th>knee_post</th>\n",
       "      <th>exponent_post</th>\n",
       "      <th>alpha_cf_post</th>\n",
       "      <th>alpha_pw_post</th>\n",
       "      <th>alpha_bw_post</th>\n",
       "      <th>...</th>\n",
       "      <th>r_squared_diff</th>\n",
       "      <th>alpha_cf_diff</th>\n",
       "      <th>alpha_bw_diff</th>\n",
       "      <th>alpha_pw_diff</th>\n",
       "      <th>beta_cf_diff</th>\n",
       "      <th>beta_bw_diff</th>\n",
       "      <th>beta_pw_diff</th>\n",
       "      <th>gamma_cf_diff</th>\n",
       "      <th>gamma_bw_diff</th>\n",
       "      <th>gamma_pw_diff</th>\n",
       "    </tr>\n",
       "  </thead>\n",
       "  <tbody>\n",
       "    <tr>\n",
       "      <th>0</th>\n",
       "      <td>A_SNR_140819</td>\n",
       "      <td>0</td>\n",
       "      <td>0</td>\n",
       "      <td>1</td>\n",
       "      <td>9.902206</td>\n",
       "      <td>219236.318575</td>\n",
       "      <td>4.409639</td>\n",
       "      <td>NaN</td>\n",
       "      <td>NaN</td>\n",
       "      <td>NaN</td>\n",
       "      <td>...</td>\n",
       "      <td>0.000726</td>\n",
       "      <td>NaN</td>\n",
       "      <td>NaN</td>\n",
       "      <td>NaN</td>\n",
       "      <td>-0.034845</td>\n",
       "      <td>-7.940609</td>\n",
       "      <td>-0.130700</td>\n",
       "      <td>-0.578055</td>\n",
       "      <td>3.720626</td>\n",
       "      <td>-0.100972</td>\n",
       "    </tr>\n",
       "    <tr>\n",
       "      <th>1</th>\n",
       "      <td>A_SNR_140819</td>\n",
       "      <td>1</td>\n",
       "      <td>1</td>\n",
       "      <td>1</td>\n",
       "      <td>9.889650</td>\n",
       "      <td>297544.240066</td>\n",
       "      <td>4.448360</td>\n",
       "      <td>NaN</td>\n",
       "      <td>NaN</td>\n",
       "      <td>NaN</td>\n",
       "      <td>...</td>\n",
       "      <td>0.000232</td>\n",
       "      <td>NaN</td>\n",
       "      <td>NaN</td>\n",
       "      <td>NaN</td>\n",
       "      <td>-0.123659</td>\n",
       "      <td>-7.940346</td>\n",
       "      <td>-0.126266</td>\n",
       "      <td>-0.052047</td>\n",
       "      <td>4.464332</td>\n",
       "      <td>-0.127631</td>\n",
       "    </tr>\n",
       "    <tr>\n",
       "      <th>2</th>\n",
       "      <td>A_SNR_140819</td>\n",
       "      <td>2</td>\n",
       "      <td>2</td>\n",
       "      <td>1</td>\n",
       "      <td>8.637309</td>\n",
       "      <td>15271.606430</td>\n",
       "      <td>3.612422</td>\n",
       "      <td>NaN</td>\n",
       "      <td>NaN</td>\n",
       "      <td>NaN</td>\n",
       "      <td>...</td>\n",
       "      <td>-0.001323</td>\n",
       "      <td>NaN</td>\n",
       "      <td>NaN</td>\n",
       "      <td>NaN</td>\n",
       "      <td>2.209229</td>\n",
       "      <td>-5.706540</td>\n",
       "      <td>-0.076205</td>\n",
       "      <td>NaN</td>\n",
       "      <td>NaN</td>\n",
       "      <td>NaN</td>\n",
       "    </tr>\n",
       "    <tr>\n",
       "      <th>3</th>\n",
       "      <td>A_SNR_140819</td>\n",
       "      <td>3</td>\n",
       "      <td>3</td>\n",
       "      <td>1</td>\n",
       "      <td>10.169225</td>\n",
       "      <td>671155.781206</td>\n",
       "      <td>4.637297</td>\n",
       "      <td>NaN</td>\n",
       "      <td>NaN</td>\n",
       "      <td>NaN</td>\n",
       "      <td>...</td>\n",
       "      <td>-0.000163</td>\n",
       "      <td>NaN</td>\n",
       "      <td>NaN</td>\n",
       "      <td>NaN</td>\n",
       "      <td>0.012833</td>\n",
       "      <td>-8.581583</td>\n",
       "      <td>-0.143561</td>\n",
       "      <td>24.208630</td>\n",
       "      <td>42.634937</td>\n",
       "      <td>-0.165381</td>\n",
       "    </tr>\n",
       "    <tr>\n",
       "      <th>4</th>\n",
       "      <td>A_SNR_140819</td>\n",
       "      <td>4</td>\n",
       "      <td>4</td>\n",
       "      <td>1</td>\n",
       "      <td>9.680232</td>\n",
       "      <td>203919.954710</td>\n",
       "      <td>4.350254</td>\n",
       "      <td>NaN</td>\n",
       "      <td>NaN</td>\n",
       "      <td>NaN</td>\n",
       "      <td>...</td>\n",
       "      <td>0.000347</td>\n",
       "      <td>NaN</td>\n",
       "      <td>NaN</td>\n",
       "      <td>NaN</td>\n",
       "      <td>0.597425</td>\n",
       "      <td>-6.703987</td>\n",
       "      <td>-0.097408</td>\n",
       "      <td>15.633766</td>\n",
       "      <td>30.552993</td>\n",
       "      <td>-0.184489</td>\n",
       "    </tr>\n",
       "  </tbody>\n",
       "</table>\n",
       "<p>5 rows × 45 columns</p>\n",
       "</div>"
      ],
      "text/plain": [
       "        session  channel  chan_idx  array  offset_post      knee_post  \\\n",
       "0  A_SNR_140819        0         0      1     9.902206  219236.318575   \n",
       "1  A_SNR_140819        1         1      1     9.889650  297544.240066   \n",
       "2  A_SNR_140819        2         2      1     8.637309   15271.606430   \n",
       "3  A_SNR_140819        3         3      1    10.169225  671155.781206   \n",
       "4  A_SNR_140819        4         4      1     9.680232  203919.954710   \n",
       "\n",
       "   exponent_post  alpha_cf_post  alpha_pw_post  alpha_bw_post  ...  \\\n",
       "0       4.409639            NaN            NaN            NaN  ...   \n",
       "1       4.448360            NaN            NaN            NaN  ...   \n",
       "2       3.612422            NaN            NaN            NaN  ...   \n",
       "3       4.637297            NaN            NaN            NaN  ...   \n",
       "4       4.350254            NaN            NaN            NaN  ...   \n",
       "\n",
       "   r_squared_diff  alpha_cf_diff  alpha_bw_diff  alpha_pw_diff  beta_cf_diff  \\\n",
       "0        0.000726            NaN            NaN            NaN     -0.034845   \n",
       "1        0.000232            NaN            NaN            NaN     -0.123659   \n",
       "2       -0.001323            NaN            NaN            NaN      2.209229   \n",
       "3       -0.000163            NaN            NaN            NaN      0.012833   \n",
       "4        0.000347            NaN            NaN            NaN      0.597425   \n",
       "\n",
       "   beta_bw_diff  beta_pw_diff  gamma_cf_diff  gamma_bw_diff  gamma_pw_diff  \n",
       "0     -7.940609     -0.130700      -0.578055       3.720626      -0.100972  \n",
       "1     -7.940346     -0.126266      -0.052047       4.464332      -0.127631  \n",
       "2     -5.706540     -0.076205            NaN            NaN            NaN  \n",
       "3     -8.581583     -0.143561      24.208630      42.634937      -0.165381  \n",
       "4     -6.703987     -0.097408      15.633766      30.552993      -0.184489  \n",
       "\n",
       "[5 rows x 45 columns]"
      ]
     },
     "execution_count": 4,
     "metadata": {},
     "output_type": "execute_result"
    }
   ],
   "source": [
    "# merge two dataframes with suffixes for baseline and encoding\n",
    "df_merge = results_post.merge(results_pre, on=['session','channel','chan_idx','array'], suffixes=['_post', '_pre'])\n",
    "df_merge = df_merge.drop(columns=['epoch_pre','epoch_post'])\n",
    "\n",
    "# compute difference\n",
    "varname = ['offset', 'knee', 'exponent', 'r_squared', 'alpha_cf', 'alpha_bw', 'alpha_pw', 'beta_cf', 'beta_bw', 'beta_pw', 'gamma_cf', 'gamma_bw', 'gamma_pw']\n",
    "for var in varname : \n",
    "    df_merge[f'{var}_diff'] = df_merge[f'{var}_post'] - df_merge[f'{var}_pre']\n",
    "\n",
    "df_merge.head()"
   ]
  },
  {
   "cell_type": "code",
   "execution_count": 12,
   "metadata": {},
   "outputs": [],
   "source": [
    "# save results (overwrite spectral_params_bands.csv)\n",
    "df_merge.to_csv(f'{PROJECT_PATH}/data/results/lfp_spectral_merged_bands.csv')"
   ]
  },
  {
   "cell_type": "markdown",
   "metadata": {},
   "source": [
    "### Plot\n"
   ]
  },
  {
   "cell_type": "code",
   "execution_count": 22,
   "metadata": {},
   "outputs": [
    {
     "data": {
      "image/png": "[encoded data removed]",
      "text/plain": [
       "<Figure size 640x480 with 1 Axes>"
      ]
     },
     "metadata": {},
     "output_type": "display_data"
    },
    {
     "data": {
      "image/png": "[encoded data removed]",
      "text/plain": [
       "<Figure size 640x480 with 1 Axes>"
      ]
     },
     "metadata": {},
     "output_type": "display_data"
    },
    {
     "data": {
      "image/png": "[encoded data removed]",
      "text/plain": [
       "<Figure size 640x480 with 1 Axes>"
      ]
     },
     "metadata": {},
     "output_type": "display_data"
    }
   ],
   "source": [
    "bands = ['alpha', 'beta', 'gamma']\n",
    "\n",
    "# plot configuration\n",
    "pos = [1, 2, 3]\n",
    "label = ['cf', 'bw', 'pw']\n",
    "\n",
    "for b in bands:\n",
    "    # create dataframe for violin plot\n",
    "    band_df = pd.DataFrame()\n",
    "    band_df['cf'] = df_merge[f'{b}_cf_diff'].dropna()\n",
    "    band_df['pw'] = df_merge[f'{b}_bw_diff'].dropna()\n",
    "    band_df['bw'] = df_merge[f'{b}_pw_diff'].dropna()\n",
    "\n",
    "    fig, ax = plt.subplots()\n",
    "\n",
    "    ax.violinplot(band_df)\n",
    "    ax.set_title(f\"\\u0394 {b}\")\n",
    "    ax.set_xticks(pos)\n",
    "    ax.set_xticklabels(label)\n",
    "    plt.show()\n",
    "\n",
    "    fig.savefig(fr\"G:\\Shared drives\\v1_v4_1024\\figures\\periodic\\{b}_diff.png\")"
   ]
  }
 ],
 "metadata": {
  "kernelspec": {
   "display_name": "voytek_lab",
   "language": "python",
   "name": "python3"
  },
  "language_info": {
   "codemirror_mode": {
    "name": "ipython",
    "version": 3
   },
   "file_extension": ".py",
   "mimetype": "text/x-python",
   "name": "python",
   "nbconvert_exporter": "python",
   "pygments_lexer": "ipython3",
   "version": "3.10.4"
  }
 },
 "nbformat": 4,
 "nbformat_minor": 2
}
