{
 "cells": [
  {
   "attachments": {},
   "cell_type": "markdown",
   "id": "ce4c183d",
   "metadata": {},
   "source": [
    "# Plot SpecParam Results\n",
    "Plot schematic of LFP spectral parameterization results (exponent, r-squared, and stimulus-evoked changes in these parameters) "
   ]
  },
  {
   "attachments": {},
   "cell_type": "markdown",
   "id": "4731f684",
   "metadata": {},
   "source": [
    "#### Set path"
   ]
  },
  {
   "cell_type": "code",
   "execution_count": 1,
   "id": "1045b44c",
   "metadata": {},
   "outputs": [],
   "source": [
    "# Define paths\n",
    "REPO_PATH = \"C:/users/micha/projects/v1_v4_1024_elec/\" # r\"C:\\Users\\Andre\\projects\\v1_v4_1024_elec\"\n",
    "PROJECT_PATH = r'G:\\Shared drives\\v1_v4_1024'\n"
   ]
  },
  {
   "attachments": {},
   "cell_type": "markdown",
   "id": "bd8c029b",
   "metadata": {},
   "source": [
    "#### Imports"
   ]
  },
  {
   "cell_type": "code",
   "execution_count": 2,
   "id": "543811b6",
   "metadata": {},
   "outputs": [],
   "source": [
    "# general\n",
    "import numpy as np\n",
    "import pandas as pd\n",
    "import matplotlib.pyplot as plt\n",
    "import odml\n",
    "import os\n",
    "\n",
    "# custom\n",
    "import sys\n",
    "sys.path.append(REPO_PATH)\n",
    "from scripts.plots import plot_schematic"
   ]
  },
  {
   "attachments": {},
   "cell_type": "markdown",
   "id": "8beac22f",
   "metadata": {},
   "source": [
    "#### Settings"
   ]
  },
  {
   "cell_type": "code",
   "execution_count": 3,
   "id": "6ba97926",
   "metadata": {},
   "outputs": [],
   "source": [
    "# Session of interest (will ultimately apply to all sessions)\n",
    "SESSIONS = [\"A_SNR_041018\", \"A_SNR_140819\", \"L_SNR_250717\"]\n",
    "SESSION = \"A_SNR_140819\""
   ]
  },
  {
   "attachments": {},
   "cell_type": "markdown",
   "id": "418806e5",
   "metadata": {},
   "source": [
    "#### Functions"
   ]
  },
  {
   "cell_type": "code",
   "execution_count": null,
   "id": "cbe8d90a",
   "metadata": {},
   "outputs": [],
   "source": []
  },
  {
   "attachments": {},
   "cell_type": "markdown",
   "id": "76c4f1da",
   "metadata": {},
   "source": [
    "### Demo plotting function on arbitrary data"
   ]
  },
  {
   "cell_type": "code",
   "execution_count": 4,
   "id": "9fbc05a0",
   "metadata": {},
   "outputs": [],
   "source": [
    "# # define odml file path (contains metadata including electrode positions)\n",
    "# odml_path = fr\"{PROJECT_PATH}\\data\\dataset\\{SESSION}\\metadata_{SESSION}.odml\"\n",
    "\n",
    "# # define arbitrary data\n",
    "# data = np.random.rand(1024)\n",
    "\n",
    "# # plot\n",
    "# plot_schematic(data, odml_path)"
   ]
  },
  {
   "attachments": {},
   "cell_type": "markdown",
   "id": "45e8f7c2",
   "metadata": {},
   "source": [
    "### Main"
   ]
  },
  {
   "attachments": {},
   "cell_type": "markdown",
   "id": "dfebbc53",
   "metadata": {},
   "source": [
    "##### create directory for figures"
   ]
  },
  {
   "cell_type": "code",
   "execution_count": 5,
   "id": "506da38c",
   "metadata": {},
   "outputs": [],
   "source": [
    "dir_figs = f\"{PROJECT_PATH}/figures/params_schematic\"\n",
    "if not os.path.exists(dir_figs):\n",
    "    os.makedirs(dir_figs)"
   ]
  },
  {
   "attachments": {},
   "cell_type": "markdown",
   "id": "52e24824",
   "metadata": {},
   "source": [
    "##### load data (DataFrame of SpecParam results)"
   ]
  },
  {
   "cell_type": "code",
   "execution_count": 6,
   "id": "ca86e368",
   "metadata": {},
   "outputs": [],
   "source": [
    "# df_allsessions = pd.read_csv(fr\"{PROJECT_PATH}\\data\\results\\lfp_spectral_params.csv\")\n",
    "# df_allsessions"
   ]
  },
  {
   "attachments": {},
   "cell_type": "markdown",
   "id": "fcf19468",
   "metadata": {},
   "source": [
    "##### Plot schematic of exponent results\n",
    "3 plots: pre-stimulus exponent, post-stimulus exponent, and change in exponent"
   ]
  },
  {
   "cell_type": "code",
   "execution_count": 12,
   "id": "3b0fe1b4",
   "metadata": {},
   "outputs": [],
   "source": [
    "# # setting limits for colorbar\n",
    "# limits = np.append(df_allsessions['exp_pre'],df_allsessions['exp_post'])\n",
    "# maxlim = max(limits)\n",
    "# minlim = min(limits)\n"
   ]
  },
  {
   "attachments": {},
   "cell_type": "markdown",
   "id": "7d38123d",
   "metadata": {},
   "source": [
    "!! df_allsessions changed and so there ar ecome issues with the notebook, also suspect some change might've been done to plot fctn (script) and that's why I can't create the new function"
   ]
  },
  {
   "cell_type": "code",
   "execution_count": 13,
   "id": "5fdb174a",
   "metadata": {},
   "outputs": [],
   "source": [
    "# for session in SESSIONS:\n",
    "#     # get data for session\n",
    "#     df_session = df_allsessions[df_allsessions['session']==session]\n",
    "\n",
    "#     # pre-stimulus\n",
    "#     fig, ax = plot_schematic(df_session['exp_pre'], odml_path, title = f\"session: {session}\", label = \"pre-stimulus exponent\", vmin = minlim, vmax = maxlim, fname_out= f\"{dir_figs}/{session}_exp_pre.png\")\n",
    "\n",
    "#     # post-stimulus\n",
    "#     fig, ax = plot_schematic(df_session['exp_post'], odml_path, title = f\"session: {session}\", label = \"post-stimulus exponent\", vmin = minlim, vmax = maxlim, fname_out= f\"{dir_figs}/{session}_exp_post.png\")\n",
    "\n",
    "#     # change in exponent\n",
    "#     change = df_session['exp_post'] - df_session['exp_pre']\n",
    "#     ch_max = max(change)\n",
    "#     ch_min = min(change)\n",
    "#     fig, ax = plot_schematic(change, odml_path, norm_type = \"centered\", title = f\"session: {session}\", label = \"change in exponent\", vmin = ch_min, vmax = ch_max, fname_out= f\"{dir_figs}/{session}_exp_change.png\")\n"
   ]
  },
  {
   "attachments": {},
   "cell_type": "markdown",
   "id": "21b14024",
   "metadata": {},
   "source": [
    "##### Plot schematic of goodness-of-fit results\n",
    "3 plots: pre-stimulus r-squared, post-stimulus r-squared, and difference in r-squared"
   ]
  },
  {
   "cell_type": "code",
   "execution_count": 14,
   "id": "8de88c70",
   "metadata": {},
   "outputs": [],
   "source": [
    "# # setting limits for colorbar\n",
    "# lims = np.append(df_allsessions['r2_pre'],df_allsessions['r2_post'])\n",
    "# maxli = max(lims)\n",
    "# minli = min(lims)"
   ]
  },
  {
   "cell_type": "code",
   "execution_count": 15,
   "id": "6d47719b",
   "metadata": {},
   "outputs": [],
   "source": [
    "# for session in SESSIONS:\n",
    "#     # get data for session\n",
    "#     df_session = df_allsessions[df_allsessions['session']==session]\n",
    "    \n",
    "#     # pre-stimulus\n",
    "#     fig, ax = plot_schematic(df_session['r2_pre'], odml_path, title = f\"session: {session}\", label = \"pre-stimulus r-squared\", vmin = minli, vmax = maxli, fname_out= f\"{dir_figs}/{session}_r2_pre.png\")\n",
    "\n",
    "#     # post-stimulus\n",
    "#     fig, ax = plot_schematic(df_session['r2_post'], odml_path, title = f\"session: {session}\", label = \"post-stimulus r-squared\", vmin = minli, vmax = maxli, fname_out= f\"{dir_figs}/{session}_r2_post.png\")\n",
    "\n",
    "#     # change in exponent\n",
    "#     diff = df_session['r2_post'] - df_session['r2_pre']\n",
    "#     diff_max = max(diff)\n",
    "#     diff_min = min(diff)\n",
    "#     fig, ax = plot_schematic(diff, odml_path, norm_type=\"centered\", title=f\"session: {session}\", label=\"difference in r-squared\", vmin=np.min(diff), vmax=np.max(diff), fname_out=f\"{dir_figs}/{session}_r2_diff.png\")\n"
   ]
  },
  {
   "attachments": {},
   "cell_type": "markdown",
   "id": "af2dc669",
   "metadata": {},
   "source": [
    "### Create function "
   ]
  },
  {
   "cell_type": "code",
   "execution_count": 7,
   "id": "a2b5aac9",
   "metadata": {},
   "outputs": [
    {
     "data": {
      "text/html": [
       "<div>\n",
       "<style scoped>\n",
       "    .dataframe tbody tr th:only-of-type {\n",
       "        vertical-align: middle;\n",
       "    }\n",
       "\n",
       "    .dataframe tbody tr th {\n",
       "        vertical-align: top;\n",
       "    }\n",
       "\n",
       "    .dataframe thead th {\n",
       "        text-align: right;\n",
       "    }\n",
       "</style>\n",
       "<table border=\"1\" class=\"dataframe\">\n",
       "  <thead>\n",
       "    <tr style=\"text-align: right;\">\n",
       "      <th></th>\n",
       "      <th>session</th>\n",
       "      <th>channel</th>\n",
       "      <th>chan_idx</th>\n",
       "      <th>array</th>\n",
       "      <th>offset_post</th>\n",
       "      <th>knee_post</th>\n",
       "      <th>exponent_post</th>\n",
       "      <th>r2_post</th>\n",
       "      <th>offset_pre</th>\n",
       "      <th>knee_pre</th>\n",
       "      <th>exponent_pre</th>\n",
       "      <th>r2_pre</th>\n",
       "      <th>exp_diff</th>\n",
       "      <th>offset_diff</th>\n",
       "    </tr>\n",
       "  </thead>\n",
       "  <tbody>\n",
       "    <tr>\n",
       "      <th>0</th>\n",
       "      <td>A_SNR_041018</td>\n",
       "      <td>0</td>\n",
       "      <td>0</td>\n",
       "      <td>1</td>\n",
       "      <td>8.191820</td>\n",
       "      <td>823.507427</td>\n",
       "      <td>2.943896</td>\n",
       "      <td>0.998326</td>\n",
       "      <td>8.816475</td>\n",
       "      <td>2737.235791</td>\n",
       "      <td>3.486568</td>\n",
       "      <td>0.998865</td>\n",
       "      <td>-0.542673</td>\n",
       "      <td>-0.624655</td>\n",
       "    </tr>\n",
       "    <tr>\n",
       "      <th>1</th>\n",
       "      <td>A_SNR_041018</td>\n",
       "      <td>1</td>\n",
       "      <td>1</td>\n",
       "      <td>1</td>\n",
       "      <td>8.584232</td>\n",
       "      <td>2931.311524</td>\n",
       "      <td>3.199538</td>\n",
       "      <td>0.996887</td>\n",
       "      <td>8.631928</td>\n",
       "      <td>2382.862075</td>\n",
       "      <td>3.412634</td>\n",
       "      <td>0.996765</td>\n",
       "      <td>-0.213095</td>\n",
       "      <td>-0.047696</td>\n",
       "    </tr>\n",
       "    <tr>\n",
       "      <th>2</th>\n",
       "      <td>A_SNR_041018</td>\n",
       "      <td>2</td>\n",
       "      <td>2</td>\n",
       "      <td>1</td>\n",
       "      <td>8.439394</td>\n",
       "      <td>1957.537472</td>\n",
       "      <td>3.137555</td>\n",
       "      <td>0.997652</td>\n",
       "      <td>8.151474</td>\n",
       "      <td>1142.595414</td>\n",
       "      <td>3.178614</td>\n",
       "      <td>0.996802</td>\n",
       "      <td>-0.041059</td>\n",
       "      <td>0.287920</td>\n",
       "    </tr>\n",
       "    <tr>\n",
       "      <th>3</th>\n",
       "      <td>A_SNR_041018</td>\n",
       "      <td>3</td>\n",
       "      <td>3</td>\n",
       "      <td>1</td>\n",
       "      <td>8.716438</td>\n",
       "      <td>3361.041106</td>\n",
       "      <td>3.330809</td>\n",
       "      <td>0.996622</td>\n",
       "      <td>8.487444</td>\n",
       "      <td>2699.286151</td>\n",
       "      <td>3.391134</td>\n",
       "      <td>0.998620</td>\n",
       "      <td>-0.060325</td>\n",
       "      <td>0.228994</td>\n",
       "    </tr>\n",
       "    <tr>\n",
       "      <th>4</th>\n",
       "      <td>A_SNR_041018</td>\n",
       "      <td>4</td>\n",
       "      <td>4</td>\n",
       "      <td>1</td>\n",
       "      <td>8.668195</td>\n",
       "      <td>2800.127407</td>\n",
       "      <td>3.319576</td>\n",
       "      <td>0.998047</td>\n",
       "      <td>8.229084</td>\n",
       "      <td>1406.120254</td>\n",
       "      <td>3.258810</td>\n",
       "      <td>0.997916</td>\n",
       "      <td>0.060765</td>\n",
       "      <td>0.439111</td>\n",
       "    </tr>\n",
       "    <tr>\n",
       "      <th>...</th>\n",
       "      <td>...</td>\n",
       "      <td>...</td>\n",
       "      <td>...</td>\n",
       "      <td>...</td>\n",
       "      <td>...</td>\n",
       "      <td>...</td>\n",
       "      <td>...</td>\n",
       "      <td>...</td>\n",
       "      <td>...</td>\n",
       "      <td>...</td>\n",
       "      <td>...</td>\n",
       "      <td>...</td>\n",
       "      <td>...</td>\n",
       "      <td>...</td>\n",
       "    </tr>\n",
       "    <tr>\n",
       "      <th>3067</th>\n",
       "      <td>L_SNR_250717</td>\n",
       "      <td>59</td>\n",
       "      <td>1019</td>\n",
       "      <td>16</td>\n",
       "      <td>8.072765</td>\n",
       "      <td>368.888266</td>\n",
       "      <td>2.765816</td>\n",
       "      <td>0.998221</td>\n",
       "      <td>7.527530</td>\n",
       "      <td>421.936825</td>\n",
       "      <td>2.804417</td>\n",
       "      <td>0.995542</td>\n",
       "      <td>-0.038601</td>\n",
       "      <td>0.545234</td>\n",
       "    </tr>\n",
       "    <tr>\n",
       "      <th>3068</th>\n",
       "      <td>L_SNR_250717</td>\n",
       "      <td>60</td>\n",
       "      <td>1020</td>\n",
       "      <td>16</td>\n",
       "      <td>8.280201</td>\n",
       "      <td>823.197397</td>\n",
       "      <td>2.800549</td>\n",
       "      <td>0.999511</td>\n",
       "      <td>7.350936</td>\n",
       "      <td>214.690632</td>\n",
       "      <td>2.610531</td>\n",
       "      <td>0.996774</td>\n",
       "      <td>0.190018</td>\n",
       "      <td>0.929265</td>\n",
       "    </tr>\n",
       "    <tr>\n",
       "      <th>3069</th>\n",
       "      <td>L_SNR_250717</td>\n",
       "      <td>61</td>\n",
       "      <td>1021</td>\n",
       "      <td>16</td>\n",
       "      <td>8.571924</td>\n",
       "      <td>1261.398404</td>\n",
       "      <td>2.944253</td>\n",
       "      <td>0.999020</td>\n",
       "      <td>7.973004</td>\n",
       "      <td>862.206119</td>\n",
       "      <td>3.011786</td>\n",
       "      <td>0.996864</td>\n",
       "      <td>-0.067533</td>\n",
       "      <td>0.598920</td>\n",
       "    </tr>\n",
       "    <tr>\n",
       "      <th>3070</th>\n",
       "      <td>L_SNR_250717</td>\n",
       "      <td>62</td>\n",
       "      <td>1022</td>\n",
       "      <td>16</td>\n",
       "      <td>8.790193</td>\n",
       "      <td>2288.213887</td>\n",
       "      <td>3.043717</td>\n",
       "      <td>0.998485</td>\n",
       "      <td>8.072889</td>\n",
       "      <td>1156.365207</td>\n",
       "      <td>3.075089</td>\n",
       "      <td>0.997915</td>\n",
       "      <td>-0.031372</td>\n",
       "      <td>0.717304</td>\n",
       "    </tr>\n",
       "    <tr>\n",
       "      <th>3071</th>\n",
       "      <td>L_SNR_250717</td>\n",
       "      <td>63</td>\n",
       "      <td>1023</td>\n",
       "      <td>16</td>\n",
       "      <td>8.305084</td>\n",
       "      <td>913.504814</td>\n",
       "      <td>2.702236</td>\n",
       "      <td>0.998662</td>\n",
       "      <td>7.981531</td>\n",
       "      <td>1002.479444</td>\n",
       "      <td>2.980375</td>\n",
       "      <td>0.998137</td>\n",
       "      <td>-0.278139</td>\n",
       "      <td>0.323552</td>\n",
       "    </tr>\n",
       "  </tbody>\n",
       "</table>\n",
       "<p>3072 rows × 14 columns</p>\n",
       "</div>"
      ],
      "text/plain": [
       "           session  channel  chan_idx  array  offset_post    knee_post  \\\n",
       "0     A_SNR_041018        0         0      1     8.191820   823.507427   \n",
       "1     A_SNR_041018        1         1      1     8.584232  2931.311524   \n",
       "2     A_SNR_041018        2         2      1     8.439394  1957.537472   \n",
       "3     A_SNR_041018        3         3      1     8.716438  3361.041106   \n",
       "4     A_SNR_041018        4         4      1     8.668195  2800.127407   \n",
       "...            ...      ...       ...    ...          ...          ...   \n",
       "3067  L_SNR_250717       59      1019     16     8.072765   368.888266   \n",
       "3068  L_SNR_250717       60      1020     16     8.280201   823.197397   \n",
       "3069  L_SNR_250717       61      1021     16     8.571924  1261.398404   \n",
       "3070  L_SNR_250717       62      1022     16     8.790193  2288.213887   \n",
       "3071  L_SNR_250717       63      1023     16     8.305084   913.504814   \n",
       "\n",
       "      exponent_post   r2_post  offset_pre     knee_pre  exponent_pre  \\\n",
       "0          2.943896  0.998326    8.816475  2737.235791      3.486568   \n",
       "1          3.199538  0.996887    8.631928  2382.862075      3.412634   \n",
       "2          3.137555  0.997652    8.151474  1142.595414      3.178614   \n",
       "3          3.330809  0.996622    8.487444  2699.286151      3.391134   \n",
       "4          3.319576  0.998047    8.229084  1406.120254      3.258810   \n",
       "...             ...       ...         ...          ...           ...   \n",
       "3067       2.765816  0.998221    7.527530   421.936825      2.804417   \n",
       "3068       2.800549  0.999511    7.350936   214.690632      2.610531   \n",
       "3069       2.944253  0.999020    7.973004   862.206119      3.011786   \n",
       "3070       3.043717  0.998485    8.072889  1156.365207      3.075089   \n",
       "3071       2.702236  0.998662    7.981531  1002.479444      2.980375   \n",
       "\n",
       "        r2_pre  exp_diff  offset_diff  \n",
       "0     0.998865 -0.542673    -0.624655  \n",
       "1     0.996765 -0.213095    -0.047696  \n",
       "2     0.996802 -0.041059     0.287920  \n",
       "3     0.998620 -0.060325     0.228994  \n",
       "4     0.997916  0.060765     0.439111  \n",
       "...        ...       ...          ...  \n",
       "3067  0.995542 -0.038601     0.545234  \n",
       "3068  0.996774  0.190018     0.929265  \n",
       "3069  0.996864 -0.067533     0.598920  \n",
       "3070  0.997915 -0.031372     0.717304  \n",
       "3071  0.998137 -0.278139     0.323552  \n",
       "\n",
       "[3072 rows x 14 columns]"
      ]
     },
     "execution_count": 7,
     "metadata": {},
     "output_type": "execute_result"
    }
   ],
   "source": [
    "params_diff_df = pd.read_csv(fr\"{PROJECT_PATH}\\data\\results\\spectral_params_diff.csv\", index_col=0)\n",
    "params_diff_df"
   ]
  },
  {
   "cell_type": "code",
   "execution_count": 11,
   "id": "ef2b85ba",
   "metadata": {},
   "outputs": [],
   "source": [
    "# create function for plot_Schematic\n",
    "def diff_schematic(df, var, y_label, dir_figs) :\n",
    "    \"\"\"\n",
    "    df : dataFrame\n",
    "    var : str\n",
    "      variable of interest\n",
    "    y_label : str\n",
    "      label for y-axis\n",
    "    dir_figs : str\n",
    "      directory to save figures\n",
    "    \"\"\"\n",
    "\n",
    "    # get list of sessions and loop through\n",
    "    sessions = df['session'].unique()\n",
    "    for i_session, session in enumerate(sessions):\n",
    "        # display progress\n",
    "        print(f\"    plotting session ({i_session+1}/{len(sessions)}): {session}\")\n",
    "\n",
    "        # get data for session\n",
    "        df_session = df[df['session']==session]\n",
    "\n",
    "        # define odml file path (contains metadata including electrode positions)\n",
    "        odml_path = fr\"{PROJECT_PATH}\\data\\dataset\\{session}\\metadata_{session}.odml\"\n",
    "\n",
    "        # setting limits for colorbar\n",
    "        lims = np.append(df_session[f\"{var}_pre\"], df_session[f\"{var}_post\"])\n",
    "        maxli = np.nanmax(lims)\n",
    "        minli = np.nanmin(lims)\n",
    "        \n",
    "        # pre-stimulus\n",
    "        plot_schematic(df_session[f\"{var}_pre\"], odml_path, title=f\"session: {session}\", \n",
    "                       label=f\"pre-stimulus {y_label}\", vmin=minli, vmax=maxli, \n",
    "                       fname_out=f\"{dir_figs}/{session}_{var}_pre.png\");\n",
    "\n",
    "        # post-stimulus\n",
    "        plot_schematic(df_session[f\"{var}_post\"], odml_path, title=f\"session: {session}\", \n",
    "                       label=f\"post-stimulus {y_label}\", vmin=minli, vmax=maxli, \n",
    "                       fname_out=f\"{dir_figs}/{session}_{var}_post.png\");\n",
    "\n",
    "        # change in exponent\n",
    "        diff = df_session[f\"{var}_post\"] - df_session[f\"{var}_pre\"]\n",
    "        plot_schematic(diff, odml_path, norm_type=\"centered\", title=f\"session: {session}\", \n",
    "                       label=f\"difference in {y_label}\", vmin=np.nanmin(diff), vmax=np.nanmax(diff), \n",
    "                       fname_out=f\"{dir_figs}/{session}_{var}_diff.png\");\n",
    "\n",
    "        plt.close('all')"
   ]
  },
  {
   "cell_type": "code",
   "execution_count": 14,
   "id": "cfd16d32",
   "metadata": {},
   "outputs": [
    {
     "name": "stdout",
     "output_type": "stream",
     "text": [
      "Plotting offset schematic\n",
      "    plotting session (1/3): A_SNR_041018\n"
     ]
    },
    {
     "name": "stderr",
     "output_type": "stream",
     "text": [
      "warning[None:5:<{http://www.w3.org/1999/xsl/transform}stylesheet>]: Invalid element <{http://www.w3.org/1999/xsl/transform}stylesheet> inside <odML> tag\n",
      " (line 5)\n",
      "warning[None:5:<{http://www.w3.org/1999/xsl/transform}stylesheet>]: Invalid element <{http://www.w3.org/1999/xsl/transform}stylesheet> in odML document section <odML>  (line 5)\n",
      "warning[None:5:<{http://www.w3.org/1999/xsl/transform}stylesheet>]: Invalid element <{http://www.w3.org/1999/xsl/transform}stylesheet> inside <odML> tag\n",
      " (line 5)\n",
      "warning[None:5:<{http://www.w3.org/1999/xsl/transform}stylesheet>]: Invalid element <{http://www.w3.org/1999/xsl/transform}stylesheet> in odML document section <odML>  (line 5)\n",
      "warning[None:5:<{http://www.w3.org/1999/xsl/transform}stylesheet>]: Invalid element <{http://www.w3.org/1999/xsl/transform}stylesheet> inside <odML> tag\n",
      " (line 5)\n",
      "warning[None:5:<{http://www.w3.org/1999/xsl/transform}stylesheet>]: Invalid element <{http://www.w3.org/1999/xsl/transform}stylesheet> in odML document section <odML>  (line 5)\n"
     ]
    },
    {
     "name": "stdout",
     "output_type": "stream",
     "text": [
      "    plotting session (2/3): A_SNR_140819\n"
     ]
    },
    {
     "name": "stderr",
     "output_type": "stream",
     "text": [
      "warning[None:5:<{http://www.w3.org/1999/xsl/transform}stylesheet>]: Invalid element <{http://www.w3.org/1999/xsl/transform}stylesheet> inside <odML> tag\n",
      " (line 5)\n",
      "warning[None:5:<{http://www.w3.org/1999/xsl/transform}stylesheet>]: Invalid element <{http://www.w3.org/1999/xsl/transform}stylesheet> in odML document section <odML>  (line 5)\n",
      "warning[None:5:<{http://www.w3.org/1999/xsl/transform}stylesheet>]: Invalid element <{http://www.w3.org/1999/xsl/transform}stylesheet> inside <odML> tag\n",
      " (line 5)\n",
      "warning[None:5:<{http://www.w3.org/1999/xsl/transform}stylesheet>]: Invalid element <{http://www.w3.org/1999/xsl/transform}stylesheet> in odML document section <odML>  (line 5)\n",
      "warning[None:5:<{http://www.w3.org/1999/xsl/transform}stylesheet>]: Invalid element <{http://www.w3.org/1999/xsl/transform}stylesheet> inside <odML> tag\n",
      " (line 5)\n",
      "warning[None:5:<{http://www.w3.org/1999/xsl/transform}stylesheet>]: Invalid element <{http://www.w3.org/1999/xsl/transform}stylesheet> in odML document section <odML>  (line 5)\n"
     ]
    },
    {
     "name": "stdout",
     "output_type": "stream",
     "text": [
      "    plotting session (3/3): L_SNR_250717\n"
     ]
    },
    {
     "name": "stderr",
     "output_type": "stream",
     "text": [
      "warning[None:5:<{http://www.w3.org/1999/xsl/transform}stylesheet>]: Invalid element <{http://www.w3.org/1999/xsl/transform}stylesheet> inside <odML> tag\n",
      " (line 5)\n",
      "warning[None:5:<{http://www.w3.org/1999/xsl/transform}stylesheet>]: Invalid element <{http://www.w3.org/1999/xsl/transform}stylesheet> in odML document section <odML>  (line 5)\n",
      "warning[None:5:<{http://www.w3.org/1999/xsl/transform}stylesheet>]: Invalid element <{http://www.w3.org/1999/xsl/transform}stylesheet> inside <odML> tag\n",
      " (line 5)\n",
      "warning[None:5:<{http://www.w3.org/1999/xsl/transform}stylesheet>]: Invalid element <{http://www.w3.org/1999/xsl/transform}stylesheet> in odML document section <odML>  (line 5)\n",
      "warning[None:5:<{http://www.w3.org/1999/xsl/transform}stylesheet>]: Invalid element <{http://www.w3.org/1999/xsl/transform}stylesheet> inside <odML> tag\n",
      " (line 5)\n",
      "warning[None:5:<{http://www.w3.org/1999/xsl/transform}stylesheet>]: Invalid element <{http://www.w3.org/1999/xsl/transform}stylesheet> in odML document section <odML>  (line 5)\n"
     ]
    },
    {
     "name": "stdout",
     "output_type": "stream",
     "text": [
      "Plotting knee schematic\n",
      "    plotting session (1/3): A_SNR_041018\n"
     ]
    },
    {
     "name": "stderr",
     "output_type": "stream",
     "text": [
      "warning[None:5:<{http://www.w3.org/1999/xsl/transform}stylesheet>]: Invalid element <{http://www.w3.org/1999/xsl/transform}stylesheet> inside <odML> tag\n",
      " (line 5)\n",
      "warning[None:5:<{http://www.w3.org/1999/xsl/transform}stylesheet>]: Invalid element <{http://www.w3.org/1999/xsl/transform}stylesheet> in odML document section <odML>  (line 5)\n",
      "warning[None:5:<{http://www.w3.org/1999/xsl/transform}stylesheet>]: Invalid element <{http://www.w3.org/1999/xsl/transform}stylesheet> inside <odML> tag\n",
      " (line 5)\n",
      "warning[None:5:<{http://www.w3.org/1999/xsl/transform}stylesheet>]: Invalid element <{http://www.w3.org/1999/xsl/transform}stylesheet> in odML document section <odML>  (line 5)\n",
      "warning[None:5:<{http://www.w3.org/1999/xsl/transform}stylesheet>]: Invalid element <{http://www.w3.org/1999/xsl/transform}stylesheet> inside <odML> tag\n",
      " (line 5)\n",
      "warning[None:5:<{http://www.w3.org/1999/xsl/transform}stylesheet>]: Invalid element <{http://www.w3.org/1999/xsl/transform}stylesheet> in odML document section <odML>  (line 5)\n"
     ]
    },
    {
     "name": "stdout",
     "output_type": "stream",
     "text": [
      "    plotting session (2/3): A_SNR_140819\n"
     ]
    },
    {
     "name": "stderr",
     "output_type": "stream",
     "text": [
      "warning[None:5:<{http://www.w3.org/1999/xsl/transform}stylesheet>]: Invalid element <{http://www.w3.org/1999/xsl/transform}stylesheet> inside <odML> tag\n",
      " (line 5)\n",
      "warning[None:5:<{http://www.w3.org/1999/xsl/transform}stylesheet>]: Invalid element <{http://www.w3.org/1999/xsl/transform}stylesheet> in odML document section <odML>  (line 5)\n",
      "warning[None:5:<{http://www.w3.org/1999/xsl/transform}stylesheet>]: Invalid element <{http://www.w3.org/1999/xsl/transform}stylesheet> inside <odML> tag\n",
      " (line 5)\n",
      "warning[None:5:<{http://www.w3.org/1999/xsl/transform}stylesheet>]: Invalid element <{http://www.w3.org/1999/xsl/transform}stylesheet> in odML document section <odML>  (line 5)\n",
      "warning[None:5:<{http://www.w3.org/1999/xsl/transform}stylesheet>]: Invalid element <{http://www.w3.org/1999/xsl/transform}stylesheet> inside <odML> tag\n",
      " (line 5)\n",
      "warning[None:5:<{http://www.w3.org/1999/xsl/transform}stylesheet>]: Invalid element <{http://www.w3.org/1999/xsl/transform}stylesheet> in odML document section <odML>  (line 5)\n"
     ]
    },
    {
     "name": "stdout",
     "output_type": "stream",
     "text": [
      "    plotting session (3/3): L_SNR_250717\n"
     ]
    },
    {
     "name": "stderr",
     "output_type": "stream",
     "text": [
      "warning[None:5:<{http://www.w3.org/1999/xsl/transform}stylesheet>]: Invalid element <{http://www.w3.org/1999/xsl/transform}stylesheet> inside <odML> tag\n",
      " (line 5)\n",
      "warning[None:5:<{http://www.w3.org/1999/xsl/transform}stylesheet>]: Invalid element <{http://www.w3.org/1999/xsl/transform}stylesheet> in odML document section <odML>  (line 5)\n",
      "warning[None:5:<{http://www.w3.org/1999/xsl/transform}stylesheet>]: Invalid element <{http://www.w3.org/1999/xsl/transform}stylesheet> inside <odML> tag\n",
      " (line 5)\n",
      "warning[None:5:<{http://www.w3.org/1999/xsl/transform}stylesheet>]: Invalid element <{http://www.w3.org/1999/xsl/transform}stylesheet> in odML document section <odML>  (line 5)\n",
      "warning[None:5:<{http://www.w3.org/1999/xsl/transform}stylesheet>]: Invalid element <{http://www.w3.org/1999/xsl/transform}stylesheet> inside <odML> tag\n",
      " (line 5)\n",
      "warning[None:5:<{http://www.w3.org/1999/xsl/transform}stylesheet>]: Invalid element <{http://www.w3.org/1999/xsl/transform}stylesheet> in odML document section <odML>  (line 5)\n"
     ]
    },
    {
     "name": "stdout",
     "output_type": "stream",
     "text": [
      "Plotting exponent schematic\n",
      "    plotting session (1/3): A_SNR_041018\n"
     ]
    },
    {
     "name": "stderr",
     "output_type": "stream",
     "text": [
      "warning[None:5:<{http://www.w3.org/1999/xsl/transform}stylesheet>]: Invalid element <{http://www.w3.org/1999/xsl/transform}stylesheet> inside <odML> tag\n",
      " (line 5)\n",
      "warning[None:5:<{http://www.w3.org/1999/xsl/transform}stylesheet>]: Invalid element <{http://www.w3.org/1999/xsl/transform}stylesheet> in odML document section <odML>  (line 5)\n",
      "warning[None:5:<{http://www.w3.org/1999/xsl/transform}stylesheet>]: Invalid element <{http://www.w3.org/1999/xsl/transform}stylesheet> inside <odML> tag\n",
      " (line 5)\n",
      "warning[None:5:<{http://www.w3.org/1999/xsl/transform}stylesheet>]: Invalid element <{http://www.w3.org/1999/xsl/transform}stylesheet> in odML document section <odML>  (line 5)\n",
      "warning[None:5:<{http://www.w3.org/1999/xsl/transform}stylesheet>]: Invalid element <{http://www.w3.org/1999/xsl/transform}stylesheet> inside <odML> tag\n",
      " (line 5)\n",
      "warning[None:5:<{http://www.w3.org/1999/xsl/transform}stylesheet>]: Invalid element <{http://www.w3.org/1999/xsl/transform}stylesheet> in odML document section <odML>  (line 5)\n"
     ]
    },
    {
     "name": "stdout",
     "output_type": "stream",
     "text": [
      "    plotting session (2/3): A_SNR_140819\n"
     ]
    },
    {
     "name": "stderr",
     "output_type": "stream",
     "text": [
      "warning[None:5:<{http://www.w3.org/1999/xsl/transform}stylesheet>]: Invalid element <{http://www.w3.org/1999/xsl/transform}stylesheet> inside <odML> tag\n",
      " (line 5)\n",
      "warning[None:5:<{http://www.w3.org/1999/xsl/transform}stylesheet>]: Invalid element <{http://www.w3.org/1999/xsl/transform}stylesheet> in odML document section <odML>  (line 5)\n",
      "warning[None:5:<{http://www.w3.org/1999/xsl/transform}stylesheet>]: Invalid element <{http://www.w3.org/1999/xsl/transform}stylesheet> inside <odML> tag\n",
      " (line 5)\n",
      "warning[None:5:<{http://www.w3.org/1999/xsl/transform}stylesheet>]: Invalid element <{http://www.w3.org/1999/xsl/transform}stylesheet> in odML document section <odML>  (line 5)\n",
      "warning[None:5:<{http://www.w3.org/1999/xsl/transform}stylesheet>]: Invalid element <{http://www.w3.org/1999/xsl/transform}stylesheet> inside <odML> tag\n",
      " (line 5)\n",
      "warning[None:5:<{http://www.w3.org/1999/xsl/transform}stylesheet>]: Invalid element <{http://www.w3.org/1999/xsl/transform}stylesheet> in odML document section <odML>  (line 5)\n"
     ]
    },
    {
     "name": "stdout",
     "output_type": "stream",
     "text": [
      "    plotting session (3/3): L_SNR_250717\n"
     ]
    },
    {
     "name": "stderr",
     "output_type": "stream",
     "text": [
      "warning[None:5:<{http://www.w3.org/1999/xsl/transform}stylesheet>]: Invalid element <{http://www.w3.org/1999/xsl/transform}stylesheet> inside <odML> tag\n",
      " (line 5)\n",
      "warning[None:5:<{http://www.w3.org/1999/xsl/transform}stylesheet>]: Invalid element <{http://www.w3.org/1999/xsl/transform}stylesheet> in odML document section <odML>  (line 5)\n",
      "warning[None:5:<{http://www.w3.org/1999/xsl/transform}stylesheet>]: Invalid element <{http://www.w3.org/1999/xsl/transform}stylesheet> inside <odML> tag\n",
      " (line 5)\n",
      "warning[None:5:<{http://www.w3.org/1999/xsl/transform}stylesheet>]: Invalid element <{http://www.w3.org/1999/xsl/transform}stylesheet> in odML document section <odML>  (line 5)\n",
      "warning[None:5:<{http://www.w3.org/1999/xsl/transform}stylesheet>]: Invalid element <{http://www.w3.org/1999/xsl/transform}stylesheet> inside <odML> tag\n",
      " (line 5)\n",
      "warning[None:5:<{http://www.w3.org/1999/xsl/transform}stylesheet>]: Invalid element <{http://www.w3.org/1999/xsl/transform}stylesheet> in odML document section <odML>  (line 5)\n"
     ]
    },
    {
     "name": "stdout",
     "output_type": "stream",
     "text": [
      "Plotting r2 schematic\n",
      "    plotting session (1/3): A_SNR_041018\n"
     ]
    },
    {
     "name": "stderr",
     "output_type": "stream",
     "text": [
      "warning[None:5:<{http://www.w3.org/1999/xsl/transform}stylesheet>]: Invalid element <{http://www.w3.org/1999/xsl/transform}stylesheet> inside <odML> tag\n",
      " (line 5)\n",
      "warning[None:5:<{http://www.w3.org/1999/xsl/transform}stylesheet>]: Invalid element <{http://www.w3.org/1999/xsl/transform}stylesheet> in odML document section <odML>  (line 5)\n",
      "warning[None:5:<{http://www.w3.org/1999/xsl/transform}stylesheet>]: Invalid element <{http://www.w3.org/1999/xsl/transform}stylesheet> inside <odML> tag\n",
      " (line 5)\n",
      "warning[None:5:<{http://www.w3.org/1999/xsl/transform}stylesheet>]: Invalid element <{http://www.w3.org/1999/xsl/transform}stylesheet> in odML document section <odML>  (line 5)\n",
      "warning[None:5:<{http://www.w3.org/1999/xsl/transform}stylesheet>]: Invalid element <{http://www.w3.org/1999/xsl/transform}stylesheet> inside <odML> tag\n",
      " (line 5)\n",
      "warning[None:5:<{http://www.w3.org/1999/xsl/transform}stylesheet>]: Invalid element <{http://www.w3.org/1999/xsl/transform}stylesheet> in odML document section <odML>  (line 5)\n"
     ]
    },
    {
     "name": "stdout",
     "output_type": "stream",
     "text": [
      "    plotting session (2/3): A_SNR_140819\n"
     ]
    },
    {
     "name": "stderr",
     "output_type": "stream",
     "text": [
      "warning[None:5:<{http://www.w3.org/1999/xsl/transform}stylesheet>]: Invalid element <{http://www.w3.org/1999/xsl/transform}stylesheet> inside <odML> tag\n",
      " (line 5)\n",
      "warning[None:5:<{http://www.w3.org/1999/xsl/transform}stylesheet>]: Invalid element <{http://www.w3.org/1999/xsl/transform}stylesheet> in odML document section <odML>  (line 5)\n",
      "warning[None:5:<{http://www.w3.org/1999/xsl/transform}stylesheet>]: Invalid element <{http://www.w3.org/1999/xsl/transform}stylesheet> inside <odML> tag\n",
      " (line 5)\n",
      "warning[None:5:<{http://www.w3.org/1999/xsl/transform}stylesheet>]: Invalid element <{http://www.w3.org/1999/xsl/transform}stylesheet> in odML document section <odML>  (line 5)\n",
      "warning[None:5:<{http://www.w3.org/1999/xsl/transform}stylesheet>]: Invalid element <{http://www.w3.org/1999/xsl/transform}stylesheet> inside <odML> tag\n",
      " (line 5)\n",
      "warning[None:5:<{http://www.w3.org/1999/xsl/transform}stylesheet>]: Invalid element <{http://www.w3.org/1999/xsl/transform}stylesheet> in odML document section <odML>  (line 5)\n"
     ]
    },
    {
     "name": "stdout",
     "output_type": "stream",
     "text": [
      "    plotting session (3/3): L_SNR_250717\n"
     ]
    },
    {
     "name": "stderr",
     "output_type": "stream",
     "text": [
      "warning[None:5:<{http://www.w3.org/1999/xsl/transform}stylesheet>]: Invalid element <{http://www.w3.org/1999/xsl/transform}stylesheet> inside <odML> tag\n",
      " (line 5)\n",
      "warning[None:5:<{http://www.w3.org/1999/xsl/transform}stylesheet>]: Invalid element <{http://www.w3.org/1999/xsl/transform}stylesheet> in odML document section <odML>  (line 5)\n",
      "warning[None:5:<{http://www.w3.org/1999/xsl/transform}stylesheet>]: Invalid element <{http://www.w3.org/1999/xsl/transform}stylesheet> inside <odML> tag\n",
      " (line 5)\n",
      "warning[None:5:<{http://www.w3.org/1999/xsl/transform}stylesheet>]: Invalid element <{http://www.w3.org/1999/xsl/transform}stylesheet> in odML document section <odML>  (line 5)\n",
      "warning[None:5:<{http://www.w3.org/1999/xsl/transform}stylesheet>]: Invalid element <{http://www.w3.org/1999/xsl/transform}stylesheet> inside <odML> tag\n",
      " (line 5)\n",
      "warning[None:5:<{http://www.w3.org/1999/xsl/transform}stylesheet>]: Invalid element <{http://www.w3.org/1999/xsl/transform}stylesheet> in odML document section <odML>  (line 5)\n"
     ]
    }
   ],
   "source": [
    "vars = ['offset', 'knee', 'exponent', 'r2']\n",
    "y_labels = ['offset', 'knee', 'exponent', 'r-squared']\n",
    "for var, y_label in zip(vars, y_labels):\n",
    "    print(f\"Plotting {var} schematic\")\n",
    "    diff_schematic(params_diff_df, var, y_label, dir_figs)"
   ]
  },
  {
   "cell_type": "code",
   "execution_count": 10,
   "id": "165eaed2",
   "metadata": {},
   "outputs": [],
   "source": [
    "\n",
    "# for session in SESSIONS:\n",
    "#         # get data for session\n",
    "#         df_session = params_diff_df[params_diff_df['session']==session]\n",
    "\n",
    "#         # setting limits for colorbar\n",
    "#         lims = np.append(df_session['offset_pre'],df_session['offset_post'])\n",
    "#         maxli = max(lims)\n",
    "#         minli = min(lims)\n",
    "        \n",
    "#         # pre-stimulus\n",
    "#         fig, ax = plot_schematic(df_session[\"offset_pre\"], odml_path, title = f\"session: {session}\", label = f\"pre-stimulus offset\", vmin = minli, vmax = maxli, fname_out= f\"{dir_figs}/{session}_offset_pre.png\")\n",
    "#         print(fig)"
   ]
  }
 ],
 "metadata": {
  "kernelspec": {
   "display_name": "Python 3",
   "language": "python",
   "name": "python3"
  },
  "language_info": {
   "codemirror_mode": {
    "name": "ipython",
    "version": 3
   },
   "file_extension": ".py",
   "mimetype": "text/x-python",
   "name": "python",
   "nbconvert_exporter": "python",
   "pygments_lexer": "ipython3",
   "version": "3.10.4"
  },
  "vscode": {
   "interpreter": {
    "hash": "900106b37f2a4a13b2ae074f5dc04fd0f3bc250222c0d2567d785f1a30307a7a"
   }
  }
 },
 "nbformat": 4,
 "nbformat_minor": 5
}
