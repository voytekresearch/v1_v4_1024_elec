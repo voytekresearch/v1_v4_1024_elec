{
 "cells": [
  {
   "attachments": {},
   "cell_type": "markdown",
   "id": "ce4c183d",
   "metadata": {},
   "source": [
    "# \n",
    "We hypothesize that stimulus-evoked changes in the LFP aperiodic offset reflect increased spiking activity in the underlying population. This notebook will investigate this hypothesis by computing stimulus-evoked changes in multi-unit spiking activity (MUA), and integrating these results with our previous spectral parameter results.  "
   ]
  },
  {
   "attachments": {},
   "cell_type": "markdown",
   "id": "7a2c7f45",
   "metadata": {},
   "source": [
    "## Set-up"
   ]
  },
  {
   "attachments": {},
   "cell_type": "markdown",
   "id": "b3725991",
   "metadata": {},
   "source": [
    "#### Set path"
   ]
  },
  {
   "cell_type": "code",
   "execution_count": 1,
   "id": "ea0ea4b7",
   "metadata": {},
   "outputs": [],
   "source": [
    "# Define paths\n",
    "PROJECT_PATH = r'G:\\Shared drives\\v1_v4_1024'\n"
   ]
  },
  {
   "attachments": {},
   "cell_type": "markdown",
   "id": "bd8c029b",
   "metadata": {},
   "source": [
    "#### Imports"
   ]
  },
  {
   "cell_type": "code",
   "execution_count": 2,
   "id": "f4ff781d",
   "metadata": {},
   "outputs": [],
   "source": [
    "# general\n",
    "import numpy as np\n",
    "import matplotlib.pyplot as plt\n",
    "import os\n",
    "from neurodsp.utils import create_times\n",
    "import pandas as pd\n",
    "\n",
    "# custom\n",
    "import sys\n",
    "sys.path.append(\"../\")\n",
    "from scripts.utils import load_nix, epoch_neo_segment\n"
   ]
  },
  {
   "attachments": {},
   "cell_type": "markdown",
   "id": "8beac22f",
   "metadata": {},
   "source": [
    "#### Settings"
   ]
  },
  {
   "cell_type": "code",
   "execution_count": 3,
   "id": "26882fd1",
   "metadata": {},
   "outputs": [],
   "source": [
    "# Session of interest (will ultimately apply to all sessions)\n",
    "SESSIONS = [\"A_SNR_041018\", \"A_SNR_140819\", \"L_SNR_250717\"]\n",
    "SESSION = \"A_SNR_140819\""
   ]
  },
  {
   "cell_type": "code",
   "execution_count": 4,
   "id": "045a6b03",
   "metadata": {},
   "outputs": [],
   "source": [
    "# Dataset details\n",
    "N_CHANS = 64 # number of channels per array\n",
    "N_ARRAYS = 16 # number of arrays per session\n",
    "DURATION = 0.3 # duration of pre-/post-stimulus epoch (s)\n",
    "T_MIN = -0.3 # minimum time (s)"
   ]
  },
  {
   "attachments": {},
   "cell_type": "markdown",
   "id": "418806e5",
   "metadata": {},
   "source": [
    "#### Functions"
   ]
  },
  {
   "cell_type": "code",
   "execution_count": null,
   "id": "30d2adb4",
   "metadata": {},
   "outputs": [],
   "source": []
  },
  {
   "attachments": {},
   "cell_type": "markdown",
   "id": "45e8f7c2",
   "metadata": {},
   "source": [
    "## Main"
   ]
  },
  {
   "attachments": {},
   "cell_type": "markdown",
   "id": "179f3104",
   "metadata": {},
   "source": [
    "#### Create output directory"
   ]
  },
  {
   "cell_type": "code",
   "execution_count": 6,
   "id": "a27f62b5",
   "metadata": {},
   "outputs": [],
   "source": [
    "# dir_out = f\"{PROJECT_PATH}/figures/\"\n",
    "# if not os.path.exists(dir_out):\n",
    "#     os.makedirs(dir_out)"
   ]
  },
  {
   "attachments": {},
   "cell_type": "markdown",
   "id": "7d14605e",
   "metadata": {},
   "source": [
    "#### load data"
   ]
  },
  {
   "cell_type": "code",
   "execution_count": 5,
   "id": "39a0c1de",
   "metadata": {},
   "outputs": [
    {
     "data": {
      "text/html": [
       "<div>\n",
       "<style scoped>\n",
       "    .dataframe tbody tr th:only-of-type {\n",
       "        vertical-align: middle;\n",
       "    }\n",
       "\n",
       "    .dataframe tbody tr th {\n",
       "        vertical-align: top;\n",
       "    }\n",
       "\n",
       "    .dataframe thead th {\n",
       "        text-align: right;\n",
       "    }\n",
       "</style>\n",
       "<table border=\"1\" class=\"dataframe\">\n",
       "  <thead>\n",
       "    <tr style=\"text-align: right;\">\n",
       "      <th></th>\n",
       "      <th>session</th>\n",
       "      <th>channel</th>\n",
       "      <th>chan_idx</th>\n",
       "      <th>array</th>\n",
       "      <th>epoch</th>\n",
       "      <th>offset</th>\n",
       "      <th>knee</th>\n",
       "      <th>exponent</th>\n",
       "      <th>r2</th>\n",
       "    </tr>\n",
       "  </thead>\n",
       "  <tbody>\n",
       "    <tr>\n",
       "      <th>0</th>\n",
       "      <td>A_SNR_140819_lfp_post.json</td>\n",
       "      <td>0</td>\n",
       "      <td>0</td>\n",
       "      <td>1</td>\n",
       "      <td>pre</td>\n",
       "      <td>9.902206</td>\n",
       "      <td>219236.259107</td>\n",
       "      <td>4.409638</td>\n",
       "      <td>0.999214</td>\n",
       "    </tr>\n",
       "    <tr>\n",
       "      <th>1</th>\n",
       "      <td>A_SNR_140819_lfp_post.json</td>\n",
       "      <td>1</td>\n",
       "      <td>1</td>\n",
       "      <td>1</td>\n",
       "      <td>pre</td>\n",
       "      <td>9.889650</td>\n",
       "      <td>297544.173538</td>\n",
       "      <td>4.448360</td>\n",
       "      <td>0.999085</td>\n",
       "    </tr>\n",
       "    <tr>\n",
       "      <th>2</th>\n",
       "      <td>A_SNR_140819_lfp_post.json</td>\n",
       "      <td>2</td>\n",
       "      <td>2</td>\n",
       "      <td>1</td>\n",
       "      <td>pre</td>\n",
       "      <td>9.352365</td>\n",
       "      <td>88240.849906</td>\n",
       "      <td>4.079099</td>\n",
       "      <td>0.999065</td>\n",
       "    </tr>\n",
       "    <tr>\n",
       "      <th>3</th>\n",
       "      <td>A_SNR_140819_lfp_post.json</td>\n",
       "      <td>3</td>\n",
       "      <td>3</td>\n",
       "      <td>1</td>\n",
       "      <td>pre</td>\n",
       "      <td>10.121877</td>\n",
       "      <td>599948.860740</td>\n",
       "      <td>4.603642</td>\n",
       "      <td>0.998497</td>\n",
       "    </tr>\n",
       "    <tr>\n",
       "      <th>4</th>\n",
       "      <td>A_SNR_140819_lfp_post.json</td>\n",
       "      <td>4</td>\n",
       "      <td>4</td>\n",
       "      <td>1</td>\n",
       "      <td>pre</td>\n",
       "      <td>9.622889</td>\n",
       "      <td>177268.832549</td>\n",
       "      <td>4.313483</td>\n",
       "      <td>0.999089</td>\n",
       "    </tr>\n",
       "    <tr>\n",
       "      <th>...</th>\n",
       "      <td>...</td>\n",
       "      <td>...</td>\n",
       "      <td>...</td>\n",
       "      <td>...</td>\n",
       "      <td>...</td>\n",
       "      <td>...</td>\n",
       "      <td>...</td>\n",
       "      <td>...</td>\n",
       "      <td>...</td>\n",
       "    </tr>\n",
       "    <tr>\n",
       "      <th>8187</th>\n",
       "      <td>L_SNR_250717_lfp_pre.json</td>\n",
       "      <td>59</td>\n",
       "      <td>1019</td>\n",
       "      <td>16</td>\n",
       "      <td>post</td>\n",
       "      <td>7.527530</td>\n",
       "      <td>421.936825</td>\n",
       "      <td>2.804417</td>\n",
       "      <td>0.995542</td>\n",
       "    </tr>\n",
       "    <tr>\n",
       "      <th>8188</th>\n",
       "      <td>L_SNR_250717_lfp_pre.json</td>\n",
       "      <td>60</td>\n",
       "      <td>1020</td>\n",
       "      <td>16</td>\n",
       "      <td>post</td>\n",
       "      <td>7.350936</td>\n",
       "      <td>214.690632</td>\n",
       "      <td>2.610531</td>\n",
       "      <td>0.996774</td>\n",
       "    </tr>\n",
       "    <tr>\n",
       "      <th>8189</th>\n",
       "      <td>L_SNR_250717_lfp_pre.json</td>\n",
       "      <td>61</td>\n",
       "      <td>1021</td>\n",
       "      <td>16</td>\n",
       "      <td>post</td>\n",
       "      <td>7.973004</td>\n",
       "      <td>862.206119</td>\n",
       "      <td>3.011786</td>\n",
       "      <td>0.996864</td>\n",
       "    </tr>\n",
       "    <tr>\n",
       "      <th>8190</th>\n",
       "      <td>L_SNR_250717_lfp_pre.json</td>\n",
       "      <td>62</td>\n",
       "      <td>1022</td>\n",
       "      <td>16</td>\n",
       "      <td>post</td>\n",
       "      <td>8.072889</td>\n",
       "      <td>1156.365207</td>\n",
       "      <td>3.075089</td>\n",
       "      <td>0.997915</td>\n",
       "    </tr>\n",
       "    <tr>\n",
       "      <th>8191</th>\n",
       "      <td>L_SNR_250717_lfp_pre.json</td>\n",
       "      <td>63</td>\n",
       "      <td>1023</td>\n",
       "      <td>16</td>\n",
       "      <td>post</td>\n",
       "      <td>7.981531</td>\n",
       "      <td>1002.479444</td>\n",
       "      <td>2.980375</td>\n",
       "      <td>0.998137</td>\n",
       "    </tr>\n",
       "  </tbody>\n",
       "</table>\n",
       "<p>8192 rows × 9 columns</p>\n",
       "</div>"
      ],
      "text/plain": [
       "                         session  channel  chan_idx  array epoch     offset  \\\n",
       "0     A_SNR_140819_lfp_post.json        0         0      1   pre   9.902206   \n",
       "1     A_SNR_140819_lfp_post.json        1         1      1   pre   9.889650   \n",
       "2     A_SNR_140819_lfp_post.json        2         2      1   pre   9.352365   \n",
       "3     A_SNR_140819_lfp_post.json        3         3      1   pre  10.121877   \n",
       "4     A_SNR_140819_lfp_post.json        4         4      1   pre   9.622889   \n",
       "...                          ...      ...       ...    ...   ...        ...   \n",
       "8187   L_SNR_250717_lfp_pre.json       59      1019     16  post   7.527530   \n",
       "8188   L_SNR_250717_lfp_pre.json       60      1020     16  post   7.350936   \n",
       "8189   L_SNR_250717_lfp_pre.json       61      1021     16  post   7.973004   \n",
       "8190   L_SNR_250717_lfp_pre.json       62      1022     16  post   8.072889   \n",
       "8191   L_SNR_250717_lfp_pre.json       63      1023     16  post   7.981531   \n",
       "\n",
       "               knee  exponent        r2  \n",
       "0     219236.259107  4.409638  0.999214  \n",
       "1     297544.173538  4.448360  0.999085  \n",
       "2      88240.849906  4.079099  0.999065  \n",
       "3     599948.860740  4.603642  0.998497  \n",
       "4     177268.832549  4.313483  0.999089  \n",
       "...             ...       ...       ...  \n",
       "8187     421.936825  2.804417  0.995542  \n",
       "8188     214.690632  2.610531  0.996774  \n",
       "8189     862.206119  3.011786  0.996864  \n",
       "8190    1156.365207  3.075089  0.997915  \n",
       "8191    1002.479444  2.980375  0.998137  \n",
       "\n",
       "[8192 rows x 9 columns]"
      ]
     },
     "execution_count": 5,
     "metadata": {},
     "output_type": "execute_result"
    }
   ],
   "source": [
    "# load LFP spectral parameter results\n",
    "results = pd.read_csv(fr\"{PROJECT_PATH}\\data\\results\\lfp_spectral_params.csv\", index_col=0)\n",
    "results"
   ]
  },
  {
   "attachments": {},
   "cell_type": "markdown",
   "id": "5fbf0c7c",
   "metadata": {},
   "source": [
    "#### demo importing and plotting MUA data"
   ]
  },
  {
   "cell_type": "code",
   "execution_count": 8,
   "id": "12b0c689",
   "metadata": {},
   "outputs": [
    {
     "name": "stdout",
     "output_type": "stream",
     "text": [
      "Sampling rate: 1000.0 Hz\n",
      "Signal duration: 0.064 s\n",
      "N channels: 64\n",
      "N trials: 102\n"
     ]
    },
    {
     "data": {
      "image/png": "[encoded data removed]",
      "text/plain": [
       "<Figure size 1000x900 with 3 Axes>"
      ]
     },
     "metadata": {},
     "output_type": "display_data"
    }
   ],
   "source": [
    "# load example MUA data\n",
    "fname_in = r\"G:\\Shared drives\\v1_v4_1024\\data\\dataset\\A_SNR_041018\\mua\\NSP1_array1_MUAe.nix\"\n",
    "segment, analog_signal = load_nix(fname_in)\n",
    "signal = segment.analogsignals[0].T # transpose to get channels x time\n",
    "fs = analog_signal._sampling_rate.item()\n",
    "\n",
    "# epoch data into trials around stimulus times\n",
    "epochs = epoch_neo_segment(segment, reset_time=True) \n",
    "epoch_times = create_times(epochs.shape[-1]/fs, fs, start_val=T_MIN) # get times for each epoch\n",
    "\n",
    "# print info\n",
    "print(f\"Sampling rate: {fs} Hz\")\n",
    "print(f\"Signal duration: {signal.duration.item()} s\")\n",
    "print(f\"N channels: {signal.shape[0]}\")\n",
    "print(f\"N trials: {len(segment.epochs[0])}\")\n",
    "\n",
    "# plot example trial, example channel, and grand average\n",
    "fig, (ax1,ax2,ax3) = plt.subplots(3,1, figsize=[10,9], sharex=True)\n",
    "fig.suptitle(f\"Example MUA data\")\n",
    "ax1.plot(epoch_times, epochs[0,0,:].T, color=\"k\", alpha=0.1) # plot first trial\n",
    "ax2.plot(epoch_times, epochs[:,10,:].mean(axis=0), color=\"k\") # plot first channel (mean across trials)\n",
    "ax3.plot(epoch_times, epochs.mean(axis=(0,1)), color=\"k\") # plot mean across all trials and channels\n",
    "ax3.set_xlabel(\"Time (s)\")\n",
    "plt.show()\n"
   ]
  },
  {
   "attachments": {},
   "cell_type": "markdown",
   "id": "27e6900d",
   "metadata": {},
   "source": [
    "#### Compute average MUA for the pre-stimulus (-0.3 to 0.0 s) and post-stimulus (0.0 to 0.3 s) period.\n",
    "add this information to the results dataframe imported above"
   ]
  },
  {
   "cell_type": "code",
   "execution_count": null,
   "id": "7f8e04ee",
   "metadata": {},
   "outputs": [],
   "source": [
    "## in epochs we originally have channels x time x trials\n",
    "# with np.mean(epochs, axis=0) we are averaging the trials such that we now have a mean for each channel in all the time points\n",
    "# so mua_mean.shape is (64,1000)"
   ]
  },
  {
   "cell_type": "code",
   "execution_count": 25,
   "id": "0b7bd6d2",
   "metadata": {},
   "outputs": [
    {
     "name": "stdout",
     "output_type": "stream",
     "text": [
      "mua shape: (64, 1000)\n",
      "epoch_times shape: (1000,)\n",
      "n sample pre: 300\n",
      "n sample post: 300\n",
      "(64, 300)\n",
      "(64, 300)\n",
      "mua pre shape (64,)\n",
      "mua pre shape (64,)\n"
     ]
    }
   ],
   "source": [
    "# average MUA over channels\n",
    "mua_mean = np.mean(epochs, axis=0) # channels x time\n",
    "print(\"mua shape:\", mua_mean.shape)\n",
    "print(\"epoch_times shape:\", epoch_times.shape)\n",
    "\n",
    "\n",
    "# find indices\n",
    "idx_pre = np.logical_and(epoch_times>=(0-DURATION), epoch_times<(0))\n",
    "print(\"n sample pre:\", np.sum(idx_pre))\n",
    "idx_post = np.logical_and(epoch_times>=(0), epoch_times<(DURATION)) \n",
    "print(\"n sample post:\", np.sum(idx_post))\n",
    "mua_pre_array = mua_mean[:, idx_pre] # index time dimension\n",
    "print(mua_pre_array.shape)\n",
    "# mua_post \n",
    "mua_post_array = mua_mean[:, idx_post] # index time dimension\n",
    "print(mua_post_array.shape)\n",
    "\n",
    "# take average over each window\n",
    "mua_pre = np.mean(mua_pre_array, axis=1)\n",
    "print(\"mua pre shape\", mua_pre.shape)\n",
    "\n",
    "mua_post = np.mean(mua_post_array, axis=1)\n",
    "print(\"mua pre shape\", mua_post.shape)"
   ]
  },
  {
   "cell_type": "code",
   "execution_count": 6,
   "id": "4977caee",
   "metadata": {},
   "outputs": [
    {
     "name": "stdout",
     "output_type": "stream",
     "text": [
      "current file: G:\\Shared drives\\v1_v4_1024/data/dataset/A_SNR_041018/mua/NSP1_array1_MUAe.nix\n",
      "current file: G:\\Shared drives\\v1_v4_1024/data/dataset/A_SNR_041018/mua/NSP1_array2_MUAe.nix\n",
      "current file: G:\\Shared drives\\v1_v4_1024/data/dataset/A_SNR_041018/mua/NSP2_array3_MUAe.nix\n",
      "current file: G:\\Shared drives\\v1_v4_1024/data/dataset/A_SNR_041018/mua/NSP2_array4_MUAe.nix\n",
      "current file: G:\\Shared drives\\v1_v4_1024/data/dataset/A_SNR_041018/mua/NSP3_array5_MUAe.nix\n",
      "current file: G:\\Shared drives\\v1_v4_1024/data/dataset/A_SNR_041018/mua/NSP3_array6_MUAe.nix\n",
      "current file: G:\\Shared drives\\v1_v4_1024/data/dataset/A_SNR_041018/mua/NSP4_array7_MUAe.nix\n",
      "current file: G:\\Shared drives\\v1_v4_1024/data/dataset/A_SNR_041018/mua/NSP4_array8_MUAe.nix\n",
      "current file: G:\\Shared drives\\v1_v4_1024/data/dataset/A_SNR_041018/mua/NSP5_array9_MUAe.nix\n",
      "current file: G:\\Shared drives\\v1_v4_1024/data/dataset/A_SNR_041018/mua/NSP5_array10_MUAe.nix\n",
      "current file: G:\\Shared drives\\v1_v4_1024/data/dataset/A_SNR_041018/mua/NSP6_array11_MUAe.nix\n",
      "current file: G:\\Shared drives\\v1_v4_1024/data/dataset/A_SNR_041018/mua/NSP6_array12_MUAe.nix\n",
      "current file: G:\\Shared drives\\v1_v4_1024/data/dataset/A_SNR_041018/mua/NSP7_array13_MUAe.nix\n",
      "current file: G:\\Shared drives\\v1_v4_1024/data/dataset/A_SNR_041018/mua/NSP7_array14_MUAe.nix\n",
      "current file: G:\\Shared drives\\v1_v4_1024/data/dataset/A_SNR_041018/mua/NSP8_array15_MUAe.nix\n",
      "current file: G:\\Shared drives\\v1_v4_1024/data/dataset/A_SNR_041018/mua/NSP8_array16_MUAe.nix\n",
      "current file: G:\\Shared drives\\v1_v4_1024/data/dataset/A_SNR_140819/mua/NSP1_array1_MUAe.nix\n",
      "current file: G:\\Shared drives\\v1_v4_1024/data/dataset/A_SNR_140819/mua/NSP1_array2_MUAe.nix\n",
      "current file: G:\\Shared drives\\v1_v4_1024/data/dataset/A_SNR_140819/mua/NSP2_array3_MUAe.nix\n",
      "current file: G:\\Shared drives\\v1_v4_1024/data/dataset/A_SNR_140819/mua/NSP2_array4_MUAe.nix\n",
      "current file: G:\\Shared drives\\v1_v4_1024/data/dataset/A_SNR_140819/mua/NSP3_array5_MUAe.nix\n",
      "current file: G:\\Shared drives\\v1_v4_1024/data/dataset/A_SNR_140819/mua/NSP3_array6_MUAe.nix\n",
      "current file: G:\\Shared drives\\v1_v4_1024/data/dataset/A_SNR_140819/mua/NSP4_array7_MUAe.nix\n",
      "current file: G:\\Shared drives\\v1_v4_1024/data/dataset/A_SNR_140819/mua/NSP4_array8_MUAe.nix\n",
      "current file: G:\\Shared drives\\v1_v4_1024/data/dataset/A_SNR_140819/mua/NSP5_array9_MUAe.nix\n",
      "current file: G:\\Shared drives\\v1_v4_1024/data/dataset/A_SNR_140819/mua/NSP5_array10_MUAe.nix\n",
      "current file: G:\\Shared drives\\v1_v4_1024/data/dataset/A_SNR_140819/mua/NSP6_array11_MUAe.nix\n",
      "current file: G:\\Shared drives\\v1_v4_1024/data/dataset/A_SNR_140819/mua/NSP6_array12_MUAe.nix\n",
      "current file: G:\\Shared drives\\v1_v4_1024/data/dataset/A_SNR_140819/mua/NSP7_array13_MUAe.nix\n",
      "current file: G:\\Shared drives\\v1_v4_1024/data/dataset/A_SNR_140819/mua/NSP7_array14_MUAe.nix\n",
      "current file: G:\\Shared drives\\v1_v4_1024/data/dataset/A_SNR_140819/mua/NSP8_array15_MUAe.nix\n",
      "current file: G:\\Shared drives\\v1_v4_1024/data/dataset/A_SNR_140819/mua/NSP8_array16_MUAe.nix\n",
      "current file: G:\\Shared drives\\v1_v4_1024/data/dataset/L_SNR_250717/mua/NSP1_array1_MUAe.nix\n",
      "current file: G:\\Shared drives\\v1_v4_1024/data/dataset/L_SNR_250717/mua/NSP1_array2_MUAe.nix\n",
      "current file: G:\\Shared drives\\v1_v4_1024/data/dataset/L_SNR_250717/mua/NSP2_array3_MUAe.nix\n",
      "current file: G:\\Shared drives\\v1_v4_1024/data/dataset/L_SNR_250717/mua/NSP2_array4_MUAe.nix\n",
      "current file: G:\\Shared drives\\v1_v4_1024/data/dataset/L_SNR_250717/mua/NSP3_array5_MUAe.nix\n",
      "current file: G:\\Shared drives\\v1_v4_1024/data/dataset/L_SNR_250717/mua/NSP3_array6_MUAe.nix\n",
      "current file: G:\\Shared drives\\v1_v4_1024/data/dataset/L_SNR_250717/mua/NSP4_array7_MUAe.nix\n",
      "current file: G:\\Shared drives\\v1_v4_1024/data/dataset/L_SNR_250717/mua/NSP4_array8_MUAe.nix\n",
      "current file: G:\\Shared drives\\v1_v4_1024/data/dataset/L_SNR_250717/mua/NSP5_array9_MUAe.nix\n",
      "current file: G:\\Shared drives\\v1_v4_1024/data/dataset/L_SNR_250717/mua/NSP5_array10_MUAe.nix\n",
      "current file: G:\\Shared drives\\v1_v4_1024/data/dataset/L_SNR_250717/mua/NSP6_array11_MUAe.nix\n",
      "current file: G:\\Shared drives\\v1_v4_1024/data/dataset/L_SNR_250717/mua/NSP6_array12_MUAe.nix\n",
      "current file: G:\\Shared drives\\v1_v4_1024/data/dataset/L_SNR_250717/mua/NSP7_array13_MUAe.nix\n",
      "current file: G:\\Shared drives\\v1_v4_1024/data/dataset/L_SNR_250717/mua/NSP7_array14_MUAe.nix\n",
      "current file: G:\\Shared drives\\v1_v4_1024/data/dataset/L_SNR_250717/mua/NSP8_array15_MUAe.nix\n",
      "current file: G:\\Shared drives\\v1_v4_1024/data/dataset/L_SNR_250717/mua/NSP8_array16_MUAe.nix\n"
     ]
    }
   ],
   "source": [
    "dfs =[]\n",
    "\n",
    "for session in SESSIONS:\n",
    "    for i_array in range(N_ARRAYS):\n",
    "        nps_idx = (i_array+2) // 2\n",
    "\n",
    "        fname_in = f\"{PROJECT_PATH}/data/dataset/{session}/mua/NSP{nps_idx}_array{i_array+1}_MUAe.nix\"\n",
    "        print(f\"current file: {fname_in}\")\n",
    "        \n",
    "        # create dataframe for session data\n",
    "        data = {\n",
    "            'session'   :   np.repeat(session, N_CHANS),\n",
    "            'array'     :   np.repeat(i_array, N_CHANS) + 1,\n",
    "            'channel'   :   np.concatenate([np.arange(N_CHANS)])}\n",
    "        \n",
    "        segment, analog_signal = load_nix(fname_in)\n",
    "        signal = segment.analogsignals[0].T # transpose to get channels x time\n",
    "        fs = analog_signal._sampling_rate.item()\n",
    "\n",
    "        # epoch data into trials around stimulus times\n",
    "        epochs = epoch_neo_segment(segment, reset_time=True) \n",
    "        epoch_times = create_times(epochs.shape[-1]/fs, fs, start_val=T_MIN) # get times for each epoch\n",
    "\n",
    "        # average MUA over channels\n",
    "        mua_mean = np.mean(epochs, axis=0) # channels x time\n",
    "        \n",
    "        idx_pre = np.logical_and(epoch_times>=(0-DURATION), epoch_times<(0))\n",
    "        idx_post = np.logical_and(epoch_times>=(0), epoch_times<(DURATION)) \n",
    "\n",
    "        # loop through epochs \n",
    "        for epoch, indices in zip(['pre', 'post'], [idx_pre, idx_post]):\n",
    "            df_ar = pd.DataFrame(data=data)\n",
    "            df_ar['epoch'] = epoch\n",
    "\n",
    "            # index time dimension\n",
    "            mua_array = mua_mean[:, indices]\n",
    "\n",
    "            df_ar[f'mua'] = np.mean(mua_array, axis=1)\n",
    "\n",
    "            # add to list\n",
    "            dfs.append(df_ar)\n",
    "        "
   ]
  },
  {
   "cell_type": "code",
   "execution_count": 7,
   "id": "52069ffe",
   "metadata": {},
   "outputs": [],
   "source": [
    "dfs_out = pd.concat(dfs, ignore_index=True)\n",
    "# dfs.to_csv(r'C:\\Users\\Andre\\projects\\mua_df.csv')\n",
    "dfs_out.to_csv(f'{PROJECT_PATH}/data/results/mua_df.csv')"
   ]
  },
  {
   "attachments": {},
   "cell_type": "markdown",
   "id": "c71dcf83",
   "metadata": {},
   "source": [
    "#### Plot the stimulus-evoked change in the MUA v. the change in the LFP offset."
   ]
  },
  {
   "cell_type": "code",
   "execution_count": null,
   "id": "1a95407b",
   "metadata": {},
   "outputs": [],
   "source": [
    "# get dataframe from spectral_params_diff.csv for offset diff\n",
    "# use the notebook to see also how to calculate diff in mua\n",
    "# for plotting \n",
    "# correlate_specparam_erp scatterplot for plotting diff in both offset and mua"
   ]
  },
  {
   "cell_type": "code",
   "execution_count": null,
   "id": "6c9178bd",
   "metadata": {},
   "outputs": [],
   "source": [
    "diff_df = r\"G:\\Shared drives\\v1_v4_1024\\data\\results\\spectral_params_diff.csv\"\n"
   ]
  },
  {
   "cell_type": "code",
   "execution_count": 21,
   "id": "0d6a898b",
   "metadata": {},
   "outputs": [],
   "source": [
    "# load data"
   ]
  },
  {
   "cell_type": "code",
   "execution_count": 32,
   "id": "184d4a80",
   "metadata": {},
   "outputs": [],
   "source": [
    "fname_in = r\"G:\\Shared drives\\v1_v4_1024/data/dataset/A_SNR_140819/mua/NSP6_array11_MUAe.nix\"\n",
    "segment, analog_signal = load_nix(fname_in)\n"
   ]
  }
 ],
 "metadata": {
  "kernelspec": {
   "display_name": "Python 3",
   "language": "python",
   "name": "python3"
  },
  "language_info": {
   "codemirror_mode": {
    "name": "ipython",
    "version": 3
   },
   "file_extension": ".py",
   "mimetype": "text/x-python",
   "name": "python",
   "nbconvert_exporter": "python",
   "pygments_lexer": "ipython3",
   "version": "3.7.13"
  }
 },
 "nbformat": 4,
 "nbformat_minor": 5
}
