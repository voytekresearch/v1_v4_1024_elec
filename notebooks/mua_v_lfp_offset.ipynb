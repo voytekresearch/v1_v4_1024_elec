{
 "cells": [
  {
   "attachments": {},
   "cell_type": "markdown",
   "id": "ce4c183d",
   "metadata": {},
   "source": [
    "# \n",
    "We hypothesize that stimulus-evoked changes in the LFP aperiodic offset reflect increased spiking activity in the underlying population. This notebook will investigate this hypothesis by computing stimulus-evoked changes in multi-unit spiking activity (MUA), and integrating these results with our previous spectral parameter results.  "
   ]
  },
  {
   "attachments": {},
   "cell_type": "markdown",
   "id": "7a2c7f45",
   "metadata": {},
   "source": [
    "## Set-up"
   ]
  },
  {
   "attachments": {},
   "cell_type": "markdown",
   "id": "b3725991",
   "metadata": {},
   "source": [
    "#### Set path"
   ]
  },
  {
   "cell_type": "code",
   "execution_count": 1,
   "id": "ea0ea4b7",
   "metadata": {},
   "outputs": [],
   "source": [
    "# Define paths\n",
    "PROJECT_PATH = r'G:\\Shared drives\\v1_v4_1024'\n"
   ]
  },
  {
   "cell_type": "markdown",
   "id": "bd8c029b",
   "metadata": {},
   "source": [
    "#### Imports"
   ]
  },
  {
   "cell_type": "code",
   "execution_count": 2,
   "id": "f4ff781d",
   "metadata": {},
   "outputs": [],
   "source": [
    "# general\n",
    "import numpy as np\n",
    "import matplotlib.pyplot as plt\n",
    "import os\n",
    "from neurodsp.utils import create_times\n",
    "import pandas as pd\n",
    "\n",
    "# custom\n",
    "import sys\n",
    "sys.path.append(\"../\")\n",
    "from scripts.utils import load_nix, epoch_neo_segment\n"
   ]
  },
  {
   "cell_type": "markdown",
   "id": "8beac22f",
   "metadata": {},
   "source": [
    "#### Settings"
   ]
  },
  {
   "cell_type": "code",
   "execution_count": 3,
   "id": "26882fd1",
   "metadata": {},
   "outputs": [],
   "source": [
    "# Session of interest (will ultimately apply to all sessions)\n",
    "SESSIONS = [\"A_SNR_041018\", \"A_SNR_140819\", \"L_SNR_250717\"]\n",
    "SESSION = \"A_SNR_140819\""
   ]
  },
  {
   "cell_type": "code",
   "execution_count": 4,
   "id": "045a6b03",
   "metadata": {},
   "outputs": [],
   "source": [
    "# Dataset details\n",
    "N_ARRAYS = 16 # number of arrays per session\n",
    "DURATION = 0.3 # duration of pre-/post-stimulus epoch (s)\n",
    "T_MIN = -0.3 # minimum time (s)"
   ]
  },
  {
   "cell_type": "markdown",
   "id": "418806e5",
   "metadata": {},
   "source": [
    "#### Functions"
   ]
  },
  {
   "cell_type": "code",
   "execution_count": null,
   "id": "30d2adb4",
   "metadata": {},
   "outputs": [],
   "source": []
  },
  {
   "attachments": {},
   "cell_type": "markdown",
   "id": "45e8f7c2",
   "metadata": {},
   "source": [
    "## Main"
   ]
  },
  {
   "attachments": {},
   "cell_type": "markdown",
   "id": "179f3104",
   "metadata": {},
   "source": [
    "#### Create output directory"
   ]
  },
  {
   "cell_type": "code",
   "execution_count": 5,
   "id": "a27f62b5",
   "metadata": {},
   "outputs": [],
   "source": [
    "# dir_out = f\"{PROJECT_PATH}/figures/\"\n",
    "# if not os.path.exists(dir_out):\n",
    "#     os.makedirs(dir_out)"
   ]
  },
  {
   "cell_type": "markdown",
   "id": "7d14605e",
   "metadata": {},
   "source": [
    "#### load data"
   ]
  },
  {
   "cell_type": "code",
   "execution_count": 6,
   "id": "39a0c1de",
   "metadata": {},
   "outputs": [
    {
     "data": {
      "text/html": [
       "<div>\n",
       "<style scoped>\n",
       "    .dataframe tbody tr th:only-of-type {\n",
       "        vertical-align: middle;\n",
       "    }\n",
       "\n",
       "    .dataframe tbody tr th {\n",
       "        vertical-align: top;\n",
       "    }\n",
       "\n",
       "    .dataframe thead th {\n",
       "        text-align: right;\n",
       "    }\n",
       "</style>\n",
       "<table border=\"1\" class=\"dataframe\">\n",
       "  <thead>\n",
       "    <tr style=\"text-align: right;\">\n",
       "      <th></th>\n",
       "      <th>session</th>\n",
       "      <th>channel</th>\n",
       "      <th>chan_idx</th>\n",
       "      <th>array</th>\n",
       "      <th>epoch</th>\n",
       "      <th>offset</th>\n",
       "      <th>knee</th>\n",
       "      <th>exponent</th>\n",
       "      <th>r2</th>\n",
       "    </tr>\n",
       "  </thead>\n",
       "  <tbody>\n",
       "    <tr>\n",
       "      <th>0</th>\n",
       "      <td>A_SNR_041018</td>\n",
       "      <td>0</td>\n",
       "      <td>0</td>\n",
       "      <td>1</td>\n",
       "      <td>pre</td>\n",
       "      <td>8.816475</td>\n",
       "      <td>2737.235791</td>\n",
       "      <td>3.486568</td>\n",
       "      <td>0.998865</td>\n",
       "    </tr>\n",
       "    <tr>\n",
       "      <th>1</th>\n",
       "      <td>A_SNR_041018</td>\n",
       "      <td>1</td>\n",
       "      <td>1</td>\n",
       "      <td>1</td>\n",
       "      <td>pre</td>\n",
       "      <td>8.631928</td>\n",
       "      <td>2382.862075</td>\n",
       "      <td>3.412634</td>\n",
       "      <td>0.996765</td>\n",
       "    </tr>\n",
       "    <tr>\n",
       "      <th>2</th>\n",
       "      <td>A_SNR_041018</td>\n",
       "      <td>2</td>\n",
       "      <td>2</td>\n",
       "      <td>1</td>\n",
       "      <td>pre</td>\n",
       "      <td>8.151474</td>\n",
       "      <td>1142.595414</td>\n",
       "      <td>3.178614</td>\n",
       "      <td>0.996802</td>\n",
       "    </tr>\n",
       "    <tr>\n",
       "      <th>3</th>\n",
       "      <td>A_SNR_041018</td>\n",
       "      <td>3</td>\n",
       "      <td>3</td>\n",
       "      <td>1</td>\n",
       "      <td>pre</td>\n",
       "      <td>8.487444</td>\n",
       "      <td>2699.286151</td>\n",
       "      <td>3.391134</td>\n",
       "      <td>0.998620</td>\n",
       "    </tr>\n",
       "    <tr>\n",
       "      <th>4</th>\n",
       "      <td>A_SNR_041018</td>\n",
       "      <td>4</td>\n",
       "      <td>4</td>\n",
       "      <td>1</td>\n",
       "      <td>pre</td>\n",
       "      <td>8.229084</td>\n",
       "      <td>1406.120254</td>\n",
       "      <td>3.258810</td>\n",
       "      <td>0.997916</td>\n",
       "    </tr>\n",
       "    <tr>\n",
       "      <th>...</th>\n",
       "      <td>...</td>\n",
       "      <td>...</td>\n",
       "      <td>...</td>\n",
       "      <td>...</td>\n",
       "      <td>...</td>\n",
       "      <td>...</td>\n",
       "      <td>...</td>\n",
       "      <td>...</td>\n",
       "      <td>...</td>\n",
       "    </tr>\n",
       "    <tr>\n",
       "      <th>6139</th>\n",
       "      <td>L_SNR_250717</td>\n",
       "      <td>59</td>\n",
       "      <td>1019</td>\n",
       "      <td>16</td>\n",
       "      <td>post</td>\n",
       "      <td>8.072765</td>\n",
       "      <td>368.888266</td>\n",
       "      <td>2.765816</td>\n",
       "      <td>0.998221</td>\n",
       "    </tr>\n",
       "    <tr>\n",
       "      <th>6140</th>\n",
       "      <td>L_SNR_250717</td>\n",
       "      <td>60</td>\n",
       "      <td>1020</td>\n",
       "      <td>16</td>\n",
       "      <td>post</td>\n",
       "      <td>8.280201</td>\n",
       "      <td>823.197397</td>\n",
       "      <td>2.800549</td>\n",
       "      <td>0.999511</td>\n",
       "    </tr>\n",
       "    <tr>\n",
       "      <th>6141</th>\n",
       "      <td>L_SNR_250717</td>\n",
       "      <td>61</td>\n",
       "      <td>1021</td>\n",
       "      <td>16</td>\n",
       "      <td>post</td>\n",
       "      <td>8.571924</td>\n",
       "      <td>1261.398404</td>\n",
       "      <td>2.944253</td>\n",
       "      <td>0.999020</td>\n",
       "    </tr>\n",
       "    <tr>\n",
       "      <th>6142</th>\n",
       "      <td>L_SNR_250717</td>\n",
       "      <td>62</td>\n",
       "      <td>1022</td>\n",
       "      <td>16</td>\n",
       "      <td>post</td>\n",
       "      <td>8.790193</td>\n",
       "      <td>2288.213887</td>\n",
       "      <td>3.043717</td>\n",
       "      <td>0.998485</td>\n",
       "    </tr>\n",
       "    <tr>\n",
       "      <th>6143</th>\n",
       "      <td>L_SNR_250717</td>\n",
       "      <td>63</td>\n",
       "      <td>1023</td>\n",
       "      <td>16</td>\n",
       "      <td>post</td>\n",
       "      <td>8.305084</td>\n",
       "      <td>913.504814</td>\n",
       "      <td>2.702236</td>\n",
       "      <td>0.998662</td>\n",
       "    </tr>\n",
       "  </tbody>\n",
       "</table>\n",
       "<p>6144 rows × 9 columns</p>\n",
       "</div>"
      ],
      "text/plain": [
       "           session  channel  chan_idx  array epoch    offset         knee  \\\n",
       "0     A_SNR_041018        0         0      1   pre  8.816475  2737.235791   \n",
       "1     A_SNR_041018        1         1      1   pre  8.631928  2382.862075   \n",
       "2     A_SNR_041018        2         2      1   pre  8.151474  1142.595414   \n",
       "3     A_SNR_041018        3         3      1   pre  8.487444  2699.286151   \n",
       "4     A_SNR_041018        4         4      1   pre  8.229084  1406.120254   \n",
       "...            ...      ...       ...    ...   ...       ...          ...   \n",
       "6139  L_SNR_250717       59      1019     16  post  8.072765   368.888266   \n",
       "6140  L_SNR_250717       60      1020     16  post  8.280201   823.197397   \n",
       "6141  L_SNR_250717       61      1021     16  post  8.571924  1261.398404   \n",
       "6142  L_SNR_250717       62      1022     16  post  8.790193  2288.213887   \n",
       "6143  L_SNR_250717       63      1023     16  post  8.305084   913.504814   \n",
       "\n",
       "      exponent        r2  \n",
       "0     3.486568  0.998865  \n",
       "1     3.412634  0.996765  \n",
       "2     3.178614  0.996802  \n",
       "3     3.391134  0.998620  \n",
       "4     3.258810  0.997916  \n",
       "...        ...       ...  \n",
       "6139  2.765816  0.998221  \n",
       "6140  2.800549  0.999511  \n",
       "6141  2.944253  0.999020  \n",
       "6142  3.043717  0.998485  \n",
       "6143  2.702236  0.998662  \n",
       "\n",
       "[6144 rows x 9 columns]"
      ]
     },
     "execution_count": 6,
     "metadata": {},
     "output_type": "execute_result"
    }
   ],
   "source": [
    "# load LFP spectral parameter results\n",
    "results = pd.read_csv(fr\"{PROJECT_PATH}\\data\\results\\lfp_spectral_params.csv\", index_col=0)\n",
    "results"
   ]
  },
  {
   "attachments": {},
   "cell_type": "markdown",
   "id": "5fbf0c7c",
   "metadata": {},
   "source": [
    "#### demo importing and plotting MUA data"
   ]
  },
  {
   "cell_type": "code",
   "execution_count": 7,
   "id": "12b0c689",
   "metadata": {},
   "outputs": [
    {
     "name": "stdout",
     "output_type": "stream",
     "text": [
      "Sampling rate: 1000.0 Hz\n",
      "Signal duration: 0.064 s\n",
      "N channels: 64\n",
      "N trials: 102\n"
     ]
    },
    {
     "data": {
      "image/png": "[encoded data removed]",
      "text/plain": [
       "<Figure size 720x648 with 3 Axes>"
      ]
     },
     "metadata": {
      "needs_background": "light"
     },
     "output_type": "display_data"
    }
   ],
   "source": [
    "# load example MUA data\n",
    "fname_in = r\"C:\\Users\\micha\\datasets\\V1_v4_1024_electrode_resting_state_data\\data\\A_SNR_041018\\MUAe\\NSP1_array1_MUAe.nix\"\n",
    "segment, analog_signal = load_nix(fname_in)\n",
    "signal = segment.analogsignals[0].T # transpose to get channels x time\n",
    "fs = analog_signal._sampling_rate.item()\n",
    "\n",
    "# epoch data into trials arouund stimulus times\n",
    "epochs = epoch_neo_segment(segment, reset_time=True) \n",
    "epoch_times = create_times(epochs.shape[-1]/fs, fs, start_val=T_MIN) # get times for each epoch\n",
    "\n",
    "# print info\n",
    "print(f\"Sampling rate: {fs} Hz\")\n",
    "print(f\"Signal duration: {signal.duration.item()} s\")\n",
    "print(f\"N channels: {signal.shape[0]}\")\n",
    "print(f\"N trials: {len(segment.epochs[0])}\")\n",
    "\n",
    "# plot example trial, example channel, and grand average\n",
    "fig, (ax1,ax2,ax3) = plt.subplots(3,1, figsize=[10,9], sharex=True)\n",
    "fig.suptitle(f\"Example MUA data\")\n",
    "ax1.plot(epoch_times, epochs[0,0,:].T, color=\"k\", alpha=0.1) # plot first trial\n",
    "ax2.plot(epoch_times, epochs[:,10,:].mean(axis=0), color=\"k\") # plot first channel (mean across trials)\n",
    "ax3.plot(epoch_times, epochs.mean(axis=(0,1)), color=\"k\") # plot mean across all trials and channels\n",
    "ax3.set_xlabel(\"Time (s)\")\n",
    "plt.show()\n"
   ]
  },
  {
   "attachments": {},
   "cell_type": "markdown",
   "id": "27e6900d",
   "metadata": {},
   "source": [
    "#### Compute average MUA for the pre-stimulus (-0.3 to 0.0 s) and post-stimulus (0.0 to 0.3 s) period.\n",
    "add this information to the results dataframe imported above"
   ]
  },
  {
   "cell_type": "code",
   "execution_count": null,
   "id": "01fe1ad4",
   "metadata": {},
   "outputs": [],
   "source": []
  },
  {
   "attachments": {},
   "cell_type": "markdown",
   "id": "c71dcf83",
   "metadata": {},
   "source": [
    "#### Plot the stimulus-evoked change in the MUA v. the change in the LFP offset."
   ]
  },
  {
   "cell_type": "code",
   "execution_count": null,
   "id": "bbee4ff8",
   "metadata": {},
   "outputs": [],
   "source": []
  }
 ],
 "metadata": {
  "kernelspec": {
   "display_name": "Python 3",
   "language": "python",
   "name": "python3"
  },
  "language_info": {
   "codemirror_mode": {
    "name": "ipython",
    "version": 3
   },
   "file_extension": ".py",
   "mimetype": "text/x-python",
   "name": "python",
   "nbconvert_exporter": "python",
   "pygments_lexer": "ipython3",
   "version": "3.7.13"
  }
 },
 "nbformat": 4,
 "nbformat_minor": 5
}
