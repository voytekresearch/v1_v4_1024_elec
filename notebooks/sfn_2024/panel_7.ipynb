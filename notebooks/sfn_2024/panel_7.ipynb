{
 "cells": [
  {
   "cell_type": "markdown",
   "id": "ce4c183d",
   "metadata": {},
   "source": [
    "# Relationship to MUA\n",
    "<p>Figures: schematic MUA, epoch-based linear regression of correlation with aperiodic parameters, temporal correlation\n",
    "<p>\n",
    "<p>created: Septermber 18, 2024\n",
    "<p>last modified: September 23, 2024\n"
   ]
  },
  {
   "attachments": {},
   "cell_type": "markdown",
   "id": "b3725991",
   "metadata": {},
   "source": [
    "## Set-up"
   ]
  },
  {
   "cell_type": "code",
   "execution_count": 1,
   "id": "a8604580",
   "metadata": {},
   "outputs": [],
   "source": [
    "# auto-reload\n",
    "%load_ext autoreload\n",
    "%autoreload 2"
   ]
  },
  {
   "cell_type": "code",
   "execution_count": 2,
   "id": "f4ff781d",
   "metadata": {},
   "outputs": [],
   "source": [
    "# general\n",
    "import os\n",
    "import numpy as np\n",
    "import pandas as pd\n",
    "import matplotlib.pyplot as plt\n",
    "from matplotlib import gridspec\n",
    "from scipy.stats import zscore\n",
    "\n",
    "# custom\n",
    "import sys\n",
    "sys.path.append(\"../../code\")\n",
    "from paths import EXTERNAL_PATH\n",
    "from info import SESSIONS, FS, TOTAL_CHANS, EPOCH_TIMES\n",
    "from plots import plot_schematic, plot_regression\n",
    "from utils import compute_confidence_interval, subtract_baseline"
   ]
  },
  {
   "cell_type": "markdown",
   "id": "418806e5",
   "metadata": {},
   "source": [
    "### Settings"
   ]
  },
  {
   "cell_type": "code",
   "execution_count": 13,
   "id": "30d2adb4",
   "metadata": {},
   "outputs": [],
   "source": [
    "# set plotting style\n",
    "plt.style.use('../../mpl_styles/sfn_2024.mplstyle')\n",
    "\n",
    "# choose seesion to visualize\n",
    "session = SESSIONS[1]\n"
   ]
  },
  {
   "attachments": {},
   "cell_type": "markdown",
   "id": "179f3104",
   "metadata": {},
   "source": [
    "### Create output directory"
   ]
  },
  {
   "cell_type": "code",
   "execution_count": 4,
   "id": "a27f62b5",
   "metadata": {},
   "outputs": [],
   "source": [
    "dir_out = f\"{EXTERNAL_PATH}/figures/sfn_2024\"\n",
    "if not os.path.exists(dir_out):\n",
    "    os.makedirs(dir_out)"
   ]
  },
  {
   "cell_type": "markdown",
   "id": "7d14605e",
   "metadata": {},
   "source": [
    "#### load data"
   ]
  },
  {
   "cell_type": "code",
   "execution_count": null,
   "id": "5f52d057",
   "metadata": {},
   "outputs": [],
   "source": [
    "# load MUA data\n",
    "mua = pd.read_csv(fr\"{EXTERNAL_PATH}\\data\\results\\mua_df.csv\")\n",
    "mua_pre = mua.loc[(mua['session'] == session) &\n",
    "                (mua['epoch'] == 'pre'), 'mua']\n",
    "mua_post = mua.loc[(mua['session'] == session) &\n",
    "                (mua['epoch'] == 'post'), 'mua']\n",
    "mua_diff = mua_post.values - mua_pre.values\n",
    "\n",
    "mua"
   ]
  },
  {
   "cell_type": "code",
   "execution_count": null,
   "id": "0f6a9bf2",
   "metadata": {},
   "outputs": [],
   "source": [
    "# load spectral parameters and merge with mua\n",
    "params = pd.read_csv(fR\"{EXTERNAL_PATH}\\data\\results\\lfp_spectral_params.csv\", index_col=0)\n",
    "df = pd.merge(params, mua, on=['session', 'array', 'epoch', 'channel'])\n",
    "df"
   ]
  },
  {
   "cell_type": "code",
   "execution_count": 7,
   "id": "3fafcfda",
   "metadata": {},
   "outputs": [],
   "source": [
    "# load time-resolved parameters and MUA, and pre-process for plotting\n",
    "data_mua = pd.read_csv(f\"{EXTERNAL_PATH}/data/results/lfp_stm_params_mua.csv\")\n",
    "session_df_mua = data_mua[data_mua.get('session') == SESSIONS[0]].loc[((data_mua['window']>124) & (data_mua['window']<375))]\n",
    "session_df_mua['time'] = (session_df_mua.get('window')/FS) + EPOCH_TIMES[0]\n",
    "\n",
    "vars = ['offset', 'exponent', 'mua']\n",
    "ci = {'lci_offset':[], 'rci_offset':[], 'lci_exponent':[], 'rci_exponent':[], 'lci_mua':[], 'rci_mua':[]}\n",
    "\n",
    "for var in vars:\n",
    "    print(f'starting var : {var}')\n",
    "    count = 0\n",
    "    z_vars = np.array([])\n",
    "\n",
    "    for i in range(TOTAL_CHANS):\n",
    "        # channel zscore values\n",
    "        data_a = session_df_mua.iloc[np.arange(count, count + 250)]\n",
    "\n",
    "        z_var = zscore(data_a[var], nan_policy='omit')\n",
    "        z_vars = np.append(z_vars, z_var)\n",
    "\n",
    "        count = count + 250\n",
    "\n",
    "    # add zscore and time variables to df\n",
    "    session_df_mua[f\"z_{var}\"] = z_vars\n",
    "    \n",
    "    # subtract baseline\n",
    "    print('subtracting baseline')\n",
    "    session_df_mua[f'relative_{var}'] = subtract_baseline(session_df_mua.get(f'z_{var}'), session_df_mua.get('time'), np.array([session_df_mua.get('time').min(), 0]))\n",
    "\n",
    "    # compute left and right endpoint confidence intervals\n",
    "    lci_var = np.array([])\n",
    "    rci_var = np.array([])\n",
    "\n",
    "    for i in np.unique(session_df_mua.get('window')):\n",
    "        window_df = session_df_mua[session_df_mua.get('window') == i]\n",
    "\n",
    "        ci_var = compute_confidence_interval(window_df.get(f'relative_{var}'))\n",
    "        ci[f'lci_{var}'].append(ci_var[0])\n",
    "        ci[f'rci_{var}'].append(ci_var[1])\n",
    "        \n",
    "# average components per window\n",
    "session_df_mua = session_df_mua.groupby('window').mean().reset_index()\n",
    "session_df_mua"
   ]
  },
  {
   "attachments": {},
   "cell_type": "markdown",
   "id": "45e8f7c2",
   "metadata": {},
   "source": [
    "## Main"
   ]
  },
  {
   "cell_type": "code",
   "execution_count": null,
   "id": "4817ad3c",
   "metadata": {},
   "outputs": [],
   "source": [
    "# create figure and gridspec\n",
    "fig = plt.figure(figsize=[18, 10], constrained_layout=True)\n",
    "spec = gridspec.GridSpec(figure=fig, ncols=2, nrows=2, width_ratios=[1,1], \n",
    "                         height_ratios=[3/4,1])\n",
    "\n",
    "# create subplots (first row)\n",
    "ax_a = fig.add_subplot(spec[0,0])\n",
    "ax_b = fig.add_subplot(spec[0,1])\n",
    "\n",
    "# create nested gridspec in second row\n",
    "spec_a = spec[1,:].subgridspec(ncols=3, nrows=1, width_ratios=[1,1,1])\n",
    "ax_c = fig.add_subplot(spec_a[0,0])\n",
    "ax_d = fig.add_subplot(spec_a[0,1])\n",
    "ax_e = fig.add_subplot(spec_a[0,2])\n",
    "\n",
    "# set PLACEHOLDER titles\n",
    "ax_a.set_title(\"Post-stimulus MUA (schematic)\")\n",
    "ax_b.set_title(\"Difference in MUA (schematic)\")\n",
    "ax_c.set_title(\"Exponent v MUA\")\n",
    "ax_d.set_title(\"Offset v MUA)\")\n",
    "ax_e.set_title(\"Temporal correlation\")\n",
    "\n",
    "# plot subplot a-b: schematic on MUA -------------------------------------------\n",
    "odml_path = f\"{EXTERNAL_PATH}/V1_v4_1024_electrode_resting_state_data/data/{session}/metadata_{session}.odml\"\n",
    "plot_schematic(mua_post, odml_path, ax=ax_a)\n",
    "plot_schematic(mua_diff, odml_path, norm_type='centered', ax=ax_b)\n",
    "\n",
    "# plot subplot c-d: epoch-based correlation ------------------------------------\n",
    "for var, ax_lin in zip(['offset', 'exponent'], [ax_c, ax_d]):\n",
    "    for i_session, session in enumerate(SESSIONS):\n",
    "        x_data = df.loc[(df['session']==session) & (df['epoch']=='post'), 'mua']\n",
    "        y_data = df.loc[(df['session']==session) & (df['epoch']=='post'), var]\n",
    "\n",
    "        plot_regression(x_data, y_data, ax=ax_lin, xlabel='log(MUA)', \n",
    "                        ylabel=f'LFP {var}', label=session, \n",
    "                        label_offset=0.2*i_session)\n",
    "\n",
    "# plot subplot e: temporal correlation -----------------------------------------\n",
    "ax_e.plot(session_df_mua.get('time'), session_df_mua.get('relative_offset'), c='#2C73D2', label='offset')\n",
    "ax_e.fill_between(session_df_mua.get('time'), ci.get('lci_offset'), ci.get('rci_offset'), color='#2C73D2', alpha=0.4)\n",
    "\n",
    "ax_e.plot(session_df_mua.get('time'), session_df_mua.get('relative_exponent'), c='#00C9A7', label='exponent')\n",
    "ax_e.fill_between(session_df_mua.get('time'), ci.get('lci_exponent'), ci.get('rci_exponent'),  color='#00C9A7', alpha=0.4)\n",
    "\n",
    "ax_e.plot(session_df_mua.get('time'), session_df_mua.get('relative_mua'), c='#845EC2', label='mua')\n",
    "ax_e.fill_between(session_df_mua.get('time'), ci.get('lci_mua'), ci.get('rci_mua'),  color='#845EC2', alpha=0.4)\n",
    "ax_e.set_xlabel('Time (s)')\n",
    "ax_e.set_ylabel(r'$\\Delta$ Z-score')\n",
    "ax_e.axhline(y=0, color='k', linestyle='--')\n",
    "ax_e.axvline(x=0, color='k', linestyle='--')\n",
    "\n",
    "# save figure\n",
    "plt.savefig(f'{dir_out}/panel_7.png')"
   ]
  },
  {
   "cell_type": "code",
   "execution_count": null,
   "id": "b201ec21",
   "metadata": {},
   "outputs": [],
   "source": []
  }
 ],
 "metadata": {
  "kernelspec": {
   "display_name": "Python 3",
   "language": "python",
   "name": "python3"
  },
  "language_info": {
   "codemirror_mode": {
    "name": "ipython",
    "version": 3
   },
   "file_extension": ".py",
   "mimetype": "text/x-python",
   "name": "python",
   "nbconvert_exporter": "python",
   "pygments_lexer": "ipython3",
   "version": "3.7.16"
  }
 },
 "nbformat": 4,
 "nbformat_minor": 5
}
