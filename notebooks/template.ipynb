{
 "cells": [
  {
   "cell_type": "markdown",
   "id": "ce4c183d",
   "metadata": {},
   "source": [
    "# ~\n",
    "<p>created:  <br>\n",
    "last modified:  </p>\n",
    "<p>\n",
    "Notebook type <br>\n",
    "[Overview]\n",
    "\n",
    "</p>"
   ]
  },
  {
   "attachments": {},
   "cell_type": "markdown",
   "id": "b3725991",
   "metadata": {},
   "source": [
    "#### Set-up"
   ]
  },
  {
   "cell_type": "code",
   "execution_count": null,
   "id": "a8604580",
   "metadata": {},
   "outputs": [],
   "source": [
    "# auto-reload\n",
    "%load_ext autoreload\n",
    "%autoreload 2"
   ]
  },
  {
   "cell_type": "code",
   "execution_count": null,
   "id": "f4ff781d",
   "metadata": {},
   "outputs": [],
   "source": [
    "# general\n",
    "import numpy as np\n",
    "import matplotlib.pyplot as plt\n",
    "import os\n",
    "import odml\n",
    "\n",
    "# custom\n",
    "import sys\n",
    "sys.path.append(\"../\")\n",
    "from scripts.paths import PROJECT_PATH, EXTERNAL_PATH\n",
    "from scripts.info import SESSIONS, FS, N_ARRAYS, IDX_ZERO\n",
    "from scripts.settings import SPECPARAM_SETTINGS"
   ]
  },
  {
   "cell_type": "code",
   "execution_count": null,
   "id": "ba1bb62d",
   "metadata": {},
   "outputs": [],
   "source": [
    "# analysis details\n",
    "DURATION = 0.3 # duration of pre-/post-stimulus epoch (s)\n",
    "\n",
    "# SpecParam settings\n",
    "FREQ_RANGE = [1, 100] "
   ]
  },
  {
   "cell_type": "markdown",
   "id": "418806e5",
   "metadata": {},
   "source": [
    "#### Functions"
   ]
  },
  {
   "cell_type": "code",
   "execution_count": null,
   "id": "30d2adb4",
   "metadata": {},
   "outputs": [],
   "source": []
  },
  {
   "attachments": {},
   "cell_type": "markdown",
   "id": "45e8f7c2",
   "metadata": {},
   "source": [
    "## Main"
   ]
  },
  {
   "attachments": {},
   "cell_type": "markdown",
   "id": "179f3104",
   "metadata": {},
   "source": [
    "#### Create output directory"
   ]
  },
  {
   "cell_type": "code",
   "execution_count": null,
   "id": "a27f62b5",
   "metadata": {},
   "outputs": [],
   "source": [
    "# dir_out = f\"{PROJECT_PATH}/figures/\"\n",
    "# if not os.path.exists(dir_out):\n",
    "#     os.makedirs(dir_out)"
   ]
  },
  {
   "cell_type": "markdown",
   "id": "7d14605e",
   "metadata": {},
   "source": [
    "#### load data"
   ]
  },
  {
   "cell_type": "code",
   "execution_count": null,
   "id": "299d2841",
   "metadata": {},
   "outputs": [],
   "source": [
    "# # define odml file path (contains metadata including electrode positions)\n",
    "# odml_path = fr\"{PROJECT_PATH}\\data\\metadata\\{SESSION}\\metadata_{SESSION}.odml\"\n",
    "# metadata = odml.load(odml_path)"
   ]
  },
  {
   "attachments": {},
   "cell_type": "markdown",
   "id": "87eafb65",
   "metadata": {},
   "source": [
    "### ~"
   ]
  },
  {
   "cell_type": "code",
   "execution_count": null,
   "id": "12b0c689",
   "metadata": {},
   "outputs": [],
   "source": []
  }
 ],
 "metadata": {
  "kernelspec": {
   "display_name": "Python 3",
   "language": "python",
   "name": "python3"
  },
  "language_info": {
   "codemirror_mode": {
    "name": "ipython",
    "version": 3
   },
   "file_extension": ".py",
   "mimetype": "text/x-python",
   "name": "python",
   "nbconvert_exporter": "python",
   "pygments_lexer": "ipython3",
   "version": "3.11.4"
  }
 },
 "nbformat": 4,
 "nbformat_minor": 5
}
