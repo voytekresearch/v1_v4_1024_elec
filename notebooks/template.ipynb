{
 "cells": [
  {
   "cell_type": "markdown",
   "id": "ce4c183d",
   "metadata": {},
   "source": [
    "# ~"
   ]
  },
  {
   "attachments": {},
   "cell_type": "markdown",
   "id": "7a2c7f45",
   "metadata": {},
   "source": [
    "## Set-up"
   ]
  },
  {
   "attachments": {},
   "cell_type": "markdown",
   "id": "b3725991",
   "metadata": {},
   "source": [
    "#### Set path"
   ]
  },
  {
   "cell_type": "code",
   "execution_count": 1,
   "id": "ea0ea4b7",
   "metadata": {},
   "outputs": [],
   "source": [
    "# Define paths\n",
    "REPO_PATH = r\"C:\\Users\\micha\\projects\\v1_v4_1024_elec\" # set this\n",
    "PROJECT_PATH = r'G:\\Shared drives\\v1_v4_1024'\n"
   ]
  },
  {
   "cell_type": "markdown",
   "id": "bd8c029b",
   "metadata": {},
   "source": [
    "#### Imports"
   ]
  },
  {
   "cell_type": "code",
   "execution_count": null,
   "id": "f4ff781d",
   "metadata": {},
   "outputs": [],
   "source": [
    "# general\n",
    "import numpy as np\n",
    "import matplotlib.pyplot as plt\n",
    "import os\n",
    "import odml\n",
    "\n",
    "# custom\n",
    "import sys\n",
    "sys.path.append(REPO_PATH)\n"
   ]
  },
  {
   "cell_type": "markdown",
   "id": "8beac22f",
   "metadata": {},
   "source": [
    "#### Settings"
   ]
  },
  {
   "cell_type": "code",
   "execution_count": null,
   "id": "26882fd1",
   "metadata": {},
   "outputs": [],
   "source": [
    "# Session of interest (will ultimately apply to all sessions)\n",
    "SESSIONS = [\"A_SNR_140819\", \"L_SNR_250717\"]\n",
    "SESSION = \"A_SNR_140819\""
   ]
  },
  {
   "cell_type": "code",
   "execution_count": null,
   "id": "045a6b03",
   "metadata": {},
   "outputs": [],
   "source": [
    "# Dataset details\n",
    "FS = 500 # sampling frequency"
   ]
  },
  {
   "cell_type": "markdown",
   "id": "418806e5",
   "metadata": {},
   "source": [
    "#### Functions"
   ]
  },
  {
   "cell_type": "code",
   "execution_count": null,
   "id": "30d2adb4",
   "metadata": {},
   "outputs": [],
   "source": []
  },
  {
   "attachments": {},
   "cell_type": "markdown",
   "id": "45e8f7c2",
   "metadata": {},
   "source": [
    "## Main"
   ]
  },
  {
   "attachments": {},
   "cell_type": "markdown",
   "id": "179f3104",
   "metadata": {},
   "source": [
    "#### Create output directory"
   ]
  },
  {
   "cell_type": "code",
   "execution_count": null,
   "id": "a27f62b5",
   "metadata": {},
   "outputs": [],
   "source": [
    "# dir_out = f\"{PROJECT_PATH}/figures/\"\n",
    "# if not os.path.exists(dir_out):\n",
    "#     os.makedirs(dir_out)"
   ]
  },
  {
   "cell_type": "markdown",
   "id": "7d14605e",
   "metadata": {},
   "source": [
    "#### load data"
   ]
  },
  {
   "cell_type": "code",
   "execution_count": null,
   "id": "299d2841",
   "metadata": {},
   "outputs": [],
   "source": [
    "# # define odml file path (contains metadata including electrode positions)\n",
    "# odml_path = fr\"{PROJECT_PATH}\\data\\metadata\\{SESSION}\\metadata_{SESSION}.odml\"\n",
    "# metadata = odml.load(odml_path)"
   ]
  },
  {
   "attachments": {},
   "cell_type": "markdown",
   "id": "87eafb65",
   "metadata": {},
   "source": [
    "### ~"
   ]
  },
  {
   "cell_type": "code",
   "execution_count": null,
   "id": "12b0c689",
   "metadata": {},
   "outputs": [],
   "source": []
  }
 ],
 "metadata": {
  "kernelspec": {
   "display_name": "tilt_vs_fingerprint",
   "language": "python",
   "name": "tilt_vs_fingerprint"
  },
  "language_info": {
   "codemirror_mode": {
    "name": "ipython",
    "version": 3
   },
   "file_extension": ".py",
   "mimetype": "text/x-python",
   "name": "python",
   "nbconvert_exporter": "python",
   "pygments_lexer": "ipython3",
   "version": "3.9.12"
  }
 },
 "nbformat": 4,
 "nbformat_minor": 5
}
