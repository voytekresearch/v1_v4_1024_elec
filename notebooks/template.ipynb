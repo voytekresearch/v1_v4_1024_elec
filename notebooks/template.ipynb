{
 "cells": [
  {
   "cell_type": "markdown",
   "id": "ce4c183d",
   "metadata": {},
   "source": [
    "# ~"
   ]
  },
  {
   "attachments": {},
   "cell_type": "markdown",
   "id": "7a2c7f45",
   "metadata": {},
   "source": [
    "## Set-up"
   ]
  },
  {
   "attachments": {},
   "cell_type": "markdown",
   "id": "b3725991",
   "metadata": {},
   "source": [
    "#### Set path"
   ]
  },
  {
   "cell_type": "code",
   "execution_count": 1,
   "id": "ea0ea4b7",
   "metadata": {},
   "outputs": [],
   "source": [
    "# Define paths\n",
    "PROJECT_PATH = r'G:\\Shared drives\\v1_v4_1024'\n"
   ]
  },
  {
   "cell_type": "markdown",
   "id": "bd8c029b",
   "metadata": {},
   "source": [
    "#### Imports"
   ]
  },
  {
   "cell_type": "code",
   "execution_count": null,
   "id": "a8604580",
   "metadata": {},
   "outputs": [],
   "source": [
    "# auto-reload\n",
    "%load_ext autoreload\n",
    "%autoreload 2"
   ]
  },
  {
   "cell_type": "code",
   "execution_count": null,
   "id": "f4ff781d",
   "metadata": {},
   "outputs": [],
   "source": [
    "# general\n",
    "import numpy as np\n",
    "import matplotlib.pyplot as plt\n",
    "import os\n",
    "import odml\n",
    "\n",
    "# custom\n",
    "import sys\n",
    "sys.path.append(\"../\")\n",
    "\n"
   ]
  },
  {
   "cell_type": "markdown",
   "id": "8beac22f",
   "metadata": {},
   "source": [
    "#### Settings"
   ]
  },
  {
   "cell_type": "code",
   "execution_count": null,
   "id": "26882fd1",
   "metadata": {},
   "outputs": [],
   "source": [
    "# Session of interest (will ultimately apply to all sessions)\n",
    "SESSIONS = [\"A_SNR_041018\", \"A_SNR_140819\", \"L_SNR_250717\"]\n",
    "SESSION = \"A_SNR_140819\""
   ]
  },
  {
   "cell_type": "code",
   "execution_count": null,
   "id": "045a6b03",
   "metadata": {},
   "outputs": [],
   "source": [
    "# Dataset details\n",
    "FS = 500 # sampling frequency\n",
    "N_ARRAYS = 16 # number of arrays per session\n",
    "IDX_ZERO = 150 # index of zero in the lfp epochs (stimulus onset)"
   ]
  },
  {
   "cell_type": "code",
   "execution_count": null,
   "id": "ba1bb62d",
   "metadata": {},
   "outputs": [],
   "source": [
    "# analysis details\n",
    "\n",
    "DURATION = 0.3 # duration of pre-/post-stimulus epoch (s)\n",
    "\n",
    "# SpecParam settings\n",
    "FREQ_RANGE = [1, 100] \n",
    "SPEC_PARAM_SETTINGS = {\n",
    "    'peak_width_limits' :   [4, 20], # default: (0.5, 12.0)) - reccomends at least frequency resolution * 2\n",
    "    'min_peak_height'   :   0.1, \n",
    "    'max_n_peaks'       :   4, # (default: inf)\n",
    "    'peak_threshold'    :   2.0, # (default: 2.0)\n",
    "    'aperiodic_mode'    :   'knee',\n",
    "    'verbose'           :   False}\n"
   ]
  },
  {
   "cell_type": "markdown",
   "id": "418806e5",
   "metadata": {},
   "source": [
    "#### Functions"
   ]
  },
  {
   "cell_type": "code",
   "execution_count": null,
   "id": "30d2adb4",
   "metadata": {},
   "outputs": [],
   "source": []
  },
  {
   "attachments": {},
   "cell_type": "markdown",
   "id": "45e8f7c2",
   "metadata": {},
   "source": [
    "## Main"
   ]
  },
  {
   "attachments": {},
   "cell_type": "markdown",
   "id": "179f3104",
   "metadata": {},
   "source": [
    "#### Create output directory"
   ]
  },
  {
   "cell_type": "code",
   "execution_count": null,
   "id": "a27f62b5",
   "metadata": {},
   "outputs": [],
   "source": [
    "# dir_out = f\"{PROJECT_PATH}/figures/\"\n",
    "# if not os.path.exists(dir_out):\n",
    "#     os.makedirs(dir_out)"
   ]
  },
  {
   "cell_type": "markdown",
   "id": "7d14605e",
   "metadata": {},
   "source": [
    "#### load data"
   ]
  },
  {
   "cell_type": "code",
   "execution_count": null,
   "id": "299d2841",
   "metadata": {},
   "outputs": [],
   "source": [
    "# # define odml file path (contains metadata including electrode positions)\n",
    "# odml_path = fr\"{PROJECT_PATH}\\data\\metadata\\{SESSION}\\metadata_{SESSION}.odml\"\n",
    "# metadata = odml.load(odml_path)"
   ]
  },
  {
   "attachments": {},
   "cell_type": "markdown",
   "id": "87eafb65",
   "metadata": {},
   "source": [
    "### ~"
   ]
  },
  {
   "cell_type": "code",
   "execution_count": null,
   "id": "12b0c689",
   "metadata": {},
   "outputs": [],
   "source": []
  }
 ],
 "metadata": {
  "kernelspec": {
   "display_name": "Python 3",
   "language": "python",
   "name": "python3"
  },
  "language_info": {
   "codemirror_mode": {
    "name": "ipython",
    "version": 3
   },
   "file_extension": ".py",
   "mimetype": "text/x-python",
   "name": "python",
   "nbconvert_exporter": "python",
   "pygments_lexer": "ipython3",
   "version": "3.11.4"
  }
 },
 "nbformat": 4,
 "nbformat_minor": 5
}
