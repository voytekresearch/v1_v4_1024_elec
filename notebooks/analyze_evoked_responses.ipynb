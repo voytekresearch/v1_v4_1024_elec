{
 "cells": [
  {
   "attachments": {},
   "cell_type": "markdown",
   "id": "ce4c183d",
   "metadata": {},
   "source": [
    "# Analyze visually evoked responses (ERPs) "
   ]
  },
  {
   "attachments": {},
   "cell_type": "markdown",
   "id": "7a2c7f45",
   "metadata": {},
   "source": [
    "## Set-up"
   ]
  },
  {
   "attachments": {},
   "cell_type": "markdown",
   "id": "b3725991",
   "metadata": {},
   "source": [
    "#### Set path"
   ]
  },
  {
   "cell_type": "code",
   "execution_count": null,
   "id": "ea0ea4b7",
   "metadata": {},
   "outputs": [],
   "source": [
    "# Define paths\n",
    "REPO_PATH = r\"C:\\Users\\micha\\projects\\v1_v4_1024_elec\" # set this\n",
    "PROJECT_PATH = r'G:\\Shared drives\\v1_v4_1024'\n"
   ]
  },
  {
   "cell_type": "markdown",
   "id": "bd8c029b",
   "metadata": {},
   "source": [
    "#### Imports"
   ]
  },
  {
   "cell_type": "code",
   "execution_count": null,
   "id": "f4ff781d",
   "metadata": {},
   "outputs": [],
   "source": [
    "# general\n",
    "import numpy as np\n",
    "import matplotlib.pyplot as plt\n",
    "import os\n",
    "import odml\n",
    "from scipy.signal import find_peaks, peak_widths\n",
    "\n",
    "# custom\n",
    "import sys\n",
    "sys.path.append(REPO_PATH)\n",
    "from scripts.plots import plot_schematic"
   ]
  },
  {
   "cell_type": "markdown",
   "id": "8beac22f",
   "metadata": {},
   "source": [
    "#### Settings"
   ]
  },
  {
   "cell_type": "code",
   "execution_count": null,
   "id": "26882fd1",
   "metadata": {},
   "outputs": [],
   "source": [
    "# Session of interest (will ultimately apply to all sessions)\n",
    "SESSIONS = [\"A_SNR_140819\", \"L_SNR_250717\"]\n",
    "SESSION = \"A_SNR_140819\"\n",
    "\n",
    "# Dataset details\n",
    "FS = 500 # sampling frequency"
   ]
  },
  {
   "cell_type": "markdown",
   "id": "418806e5",
   "metadata": {},
   "source": [
    "#### Functions"
   ]
  },
  {
   "cell_type": "code",
   "execution_count": null,
   "id": "30d2adb4",
   "metadata": {},
   "outputs": [],
   "source": []
  },
  {
   "attachments": {},
   "cell_type": "markdown",
   "id": "45e8f7c2",
   "metadata": {},
   "source": [
    "## Main"
   ]
  },
  {
   "attachments": {},
   "cell_type": "markdown",
   "id": "179f3104",
   "metadata": {},
   "source": [
    "#### Create output directory"
   ]
  },
  {
   "cell_type": "code",
   "execution_count": null,
   "id": "a27f62b5",
   "metadata": {},
   "outputs": [],
   "source": [
    "dir_out = f\"{PROJECT_PATH}/figures/erp\"\n",
    "if not os.path.exists(dir_out):\n",
    "    os.makedirs(dir_out)"
   ]
  },
  {
   "cell_type": "markdown",
   "id": "7d14605e",
   "metadata": {},
   "source": [
    "#### load data"
   ]
  },
  {
   "cell_type": "code",
   "execution_count": null,
   "id": "299d2841",
   "metadata": {},
   "outputs": [],
   "source": [
    "# load example LFP epochs\n",
    "dir_input = fr\"G:\\Shared drives\\v1_v4_1024\\data\\lfp\\lfp_epochs\\{SESSION}\"\n",
    "fname_in = # load full epoch\n",
    "lfp = np.load()\n",
    "print(f\"LFP Shape: \\t{lfp.shape} (trials x channels x samples)\")"
   ]
  },
  {
   "cell_type": "code",
   "execution_count": null,
   "id": "b3562312",
   "metadata": {},
   "outputs": [],
   "source": [
    "# load metadata for example sessions\n",
    "odml_path = fr\"{PROJECT_PATH}\\data\\dataset\\{SESSION}\\metadata_{SESSION}.odml\"\n",
    "metadata = odml.load(odml_path)"
   ]
  },
  {
   "attachments": {},
   "cell_type": "markdown",
   "id": "87eafb65",
   "metadata": {},
   "source": [
    "### Compute ERP"
   ]
  },
  {
   "cell_type": "code",
   "execution_count": null,
   "id": "12b0c689",
   "metadata": {},
   "outputs": [],
   "source": [
    "# average over trials\n",
    "erp = np.mean(lfp, axis=0)\n",
    "print(f\"ERP Shape: \\t{erp.shape} (channels x samples)\")"
   ]
  },
  {
   "attachments": {},
   "cell_type": "markdown",
   "id": "43bf070e",
   "metadata": {},
   "source": [
    "### Plot ERP"
   ]
  },
  {
   "cell_type": "code",
   "execution_count": null,
   "id": "ec067836",
   "metadata": {},
   "outputs": [],
   "source": [
    "# plot erp\n",
    "\n",
    "# init time-vector\n",
    "time = np.arange(-0.5, 0.5, 1/FS) * 1000\n"
   ]
  },
  {
   "attachments": {},
   "cell_type": "markdown",
   "id": "239a701f",
   "metadata": {},
   "source": [
    "### Quantify ERP "
   ]
  },
  {
   "cell_type": "code",
   "execution_count": null,
   "id": "ab4f4b29",
   "metadata": {},
   "outputs": [],
   "source": [
    "# compute ERP parameters (latency, amplitude, width) for grand-average ERP (*first peak only)\n"
   ]
  },
  {
   "cell_type": "code",
   "execution_count": null,
   "id": "6ba0313f",
   "metadata": {},
   "outputs": [],
   "source": [
    "# define function to define params\n",
    "\n",
    "# def comp_erp_params():\n",
    "\n"
   ]
  },
  {
   "cell_type": "code",
   "execution_count": null,
   "id": "572361cc",
   "metadata": {},
   "outputs": [],
   "source": [
    "# compute for each channel\n"
   ]
  },
  {
   "cell_type": "code",
   "execution_count": null,
   "id": "e713823e",
   "metadata": {},
   "outputs": [],
   "source": [
    "# plot schematic of ERP params\n"
   ]
  },
  {
   "attachments": {},
   "cell_type": "markdown",
   "id": "7bd174bf",
   "metadata": {},
   "source": [
    "### Repeat across subjects"
   ]
  },
  {
   "cell_type": "code",
   "execution_count": null,
   "id": "9b8fd347",
   "metadata": {},
   "outputs": [],
   "source": []
  }
 ],
 "metadata": {
  "kernelspec": {
   "display_name": "Python 3",
   "language": "python",
   "name": "python3"
  },
  "language_info": {
   "codemirror_mode": {
    "name": "ipython",
    "version": 3
   },
   "file_extension": ".py",
   "mimetype": "text/x-python",
   "name": "python",
   "nbconvert_exporter": "python",
   "pygments_lexer": "ipython3",
   "version": "3.7.13"
  },
  "vscode": {
   "interpreter": {
    "hash": "900106b37f2a4a13b2ae074f5dc04fd0f3bc250222c0d2567d785f1a30307a7a"
   }
  }
 },
 "nbformat": 4,
 "nbformat_minor": 5
}
